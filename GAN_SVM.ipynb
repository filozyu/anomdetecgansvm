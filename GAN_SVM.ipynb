{
  "nbformat": 4,
  "nbformat_minor": 0,
  "metadata": {
    "colab": {
      "name": "GAN_SVM.ipynb",
      "version": "0.3.2",
      "provenance": [],
      "collapsed_sections": [
        "4r6Zgtc4GXd3",
        "nHgT9xf2GW62",
        "QtX5p3n5GV9f",
        "M0AsPOzaGUx2",
        "Ub2XPgJYGNnz",
        "z9tmWJ74GNXr",
        "L0HksL3dGNDk",
        "9Y3qS6ynF6jh",
        "028gVe0dF_mK",
        "HpbLiAPAGHfx",
        "k1BsUS14umb-",
        "D1hZpvugvwQ3",
        "VUWBuFBuvzvu",
        "9yo9_OU5TI-l",
        "CkOHRrVmS43e",
        "T4TWX5Ufv3pS"
      ]
    },
    "kernelspec": {
      "name": "python3",
      "display_name": "Python 3"
    },
    "accelerator": "GPU"
  },
  "cells": [
    {
      "metadata": {
        "id": "LS1T5Y_JKRm5",
        "colab_type": "text"
      },
      "cell_type": "markdown",
      "source": [
        "# Project(lateset)"
      ]
    },
    {
      "metadata": {
        "id": "RkQAlnB2KIpD",
        "colab_type": "text"
      },
      "cell_type": "markdown",
      "source": [
        "## General set-up"
      ]
    },
    {
      "metadata": {
        "id": "J-qk48jEDaMP",
        "colab_type": "code",
        "colab": {},
        "cellView": "form"
      },
      "cell_type": "code",
      "source": [
        "#@title File upload\n",
        "from google.colab import files\n",
        "files.upload()"
      ],
      "execution_count": 0,
      "outputs": []
    },
    {
      "metadata": {
        "id": "3c1Qx7hBDmtr",
        "colab_type": "code",
        "colab": {},
        "cellView": "form"
      },
      "cell_type": "code",
      "source": [
        "#@title GPU detection\n",
        "# GPU detection\n",
        "import tensorflow as tf\n",
        "tf.test.gpu_device_name()"
      ],
      "execution_count": 0,
      "outputs": []
    },
    {
      "metadata": {
        "id": "dDkt-uobDo_W",
        "colab_type": "code",
        "colab": {},
        "cellView": "form"
      },
      "cell_type": "code",
      "source": [
        "#@title Dependencies\n",
        "import sys\n",
        "import time\n",
        "import numpy as np\n",
        "import tensorflow as tf\n",
        "from sklearn import svm\n",
        "from sklearn import metrics\n",
        "import matplotlib.pyplot as plt\n",
        "from sklearn.metrics import roc_curve, auc, average_precision_score, precision_recall_curve, precision_recall_fscore_support, roc_auc_score"
      ],
      "execution_count": 0,
      "outputs": []
    },
    {
      "metadata": {
        "id": "ll1cOYooJZAD",
        "colab_type": "text"
      },
      "cell_type": "markdown",
      "source": [
        "## OC-SVM"
      ]
    },
    {
      "metadata": {
        "id": "eizk2c0YJSwZ",
        "colab_type": "code",
        "colab": {},
        "cellView": "form"
      },
      "cell_type": "code",
      "source": [
        "#@title OC-SVM set-up\n",
        "def OCSVM_preprocess(anomaly_ratio=0.2, anom_label=None):\n",
        "    rng = np.random.RandomState(42)\n",
        "\n",
        "    data = np.load('mnist.npz')\n",
        "    full_x_data = np.concatenate([data['x_train'], data['x_test'], data['x_valid']], axis=0) # [70k x 728]\n",
        "    full_y_data = np.concatenate([data['y_train'], data['y_test'], data['y_valid']], axis=0) # [70k]\n",
        "    if anom_label == 'notmnist':\n",
        "        not_mnist = np.load('not_mnist.npz')\n",
        "        full_notmnist = not_mnist['data'].reshape(-1,784)\n",
        "        rnd_inds_norm = rng.permutation(full_x_data.shape[0])\n",
        "        rnd_inds_anom = rng.permutation(full_notmnist.shape[0])\n",
        "\n",
        "        x_train = full_x_data[rnd_inds_norm][:20000]\n",
        "        x_test_norm = full_x_data[rnd_inds_norm][20000:25000]\n",
        "        x_test_anom = full_notmnist[rnd_inds_anom][:1250]\n",
        "\n",
        "        x_test = np.concatenate((x_test_norm,x_test_anom),axis=0)\n",
        "        y_test = np.concatenate((np.ones((x_test_norm.shape[0])),\n",
        "                             -1*np.ones((x_test_anom.shape[0]))), axis=0)\n",
        "\n",
        "        rand_test = rng.permutation(x_test.shape[0])\n",
        "        x_test = x_test[rand_test]\n",
        "        y_test = y_test[rand_test]\n",
        "\n",
        "    elif anom_label is not None:\n",
        "        anom_inds = np.isin(full_y_data,anom_label)\n",
        "        norm_inds = np.invert(anom_inds)\n",
        "\n",
        "        norm_x_data = full_x_data[norm_inds]\n",
        "        anom_x_data = full_x_data[anom_inds]\n",
        "\n",
        "        rnd_inds_norm = rng.permutation(norm_x_data.shape[0])\n",
        "        rnd_inds_anom = rng.permutation(anom_x_data.shape[0])\n",
        "        x_train = norm_x_data[rnd_inds_norm][:20000]\n",
        "        x_test_norm = norm_x_data[rnd_inds_norm][20000:25000]\n",
        "        x_test_anom = anom_x_data[rnd_inds_anom][:1250]\n",
        "\n",
        "        x_test = np.concatenate((x_test_norm,x_test_anom),axis=0)\n",
        "        y_test = np.concatenate((np.ones((x_test_norm.shape[0])),\n",
        "                             -1*np.ones((x_test_anom.shape[0]))), axis=0)\n",
        "\n",
        "        rand_test = rng.permutation(x_test.shape[0])\n",
        "        x_test = x_test[rand_test]\n",
        "        y_test = y_test[rand_test]\n",
        "        \n",
        "#         x_train = x_train * 2. - 1.\n",
        "#         x_test = x_test * 2. - 1.\n",
        "    \n",
        "    return x_train, x_test, y_test\n",
        "\n",
        "def build_svm(oc=False,_nu=0.5,_gamma='auto',maxiter=-1):\n",
        "    if oc == False:\n",
        "        clf = svm.NuSVC(nu=_nu,gamma=_gamma,max_iter=maxiter)\n",
        "    if oc == True:\n",
        "        clf = svm.OneClassSVM(nu=_nu,gamma=_gamma,max_iter=maxiter)\n",
        "\n",
        "    return clf\n",
        "\n",
        "def plot_25(image):\n",
        "    '''\n",
        "        Plot 25 images generated by GEN every 5 epochs\n",
        "        Args: ?*[25 x 28 x 28 x 1] (? is the integer part of nb_epochs/5)\n",
        "    '''\n",
        "    plots = image.reshape(-1,28,28) # [25 x 28 x 28]\n",
        "    ind = 0\n",
        "    plt.show()\n",
        "    while ind < 25:\n",
        "        plt.subplot(5,5,ind+1)\n",
        "        img = plt.imshow(plots[ind,:,:])\n",
        "        plt.axis('off')\n",
        "        ind += 1"
      ],
      "execution_count": 0,
      "outputs": []
    },
    {
      "metadata": {
        "id": "hcwtlrbVJigS",
        "colab_type": "code",
        "colab": {},
        "cellView": "form"
      },
      "cell_type": "code",
      "source": [
        "#@title Set-up contd\n",
        "nu_=0.01 \n",
        "gamma_=0.05 \n",
        "iter_=-1\n",
        "ex_x_train, ex_x_test, ex_y_test = OCSVM_preprocess(anom_label='notmnist')\n",
        "print('OC SVM with external dataset')\n",
        "begin = time.time()\n",
        "ocsvm = build_svm(oc=True, _nu=nu_, _gamma=gamma_, maxiter=iter_)\n",
        "ocsvm.fit(ex_x_train.reshape(-1,784))\n",
        "predy = ocsvm.predict(ex_x_test.reshape(-1,784))\n",
        "prec, reca, f1, _ = metrics.precision_recall_fscore_support(ex_y_test, predy, beta=1.0, pos_label=1, average='binary')\n",
        "area = metrics.roc_auc_score(ex_y_test, predy)\n",
        "print('anomalous digit: ', i)\n",
        "i += 1\n",
        "print('nu: ', nu_)\n",
        "print('width: ', gamma_)\n",
        "print('F1: ', f1)\n",
        "print('Precision: ', prec)\n",
        "print('Recall: ', reca)\n",
        "print('area under roc: ', area)\n",
        "print('time: ', time.time()-begin)\n",
        "\n",
        "oc_train_x_one = []\n",
        "oc_test_x_one = []\n",
        "oc_test_y_one = []\n",
        "for i in range(10):\n",
        "    oc_train_x ,oc_test_x, oc_test_y = OCSVM_preprocess(anom_label=[i])\n",
        "    oc_train_x_one.append(oc_train_x)\n",
        "    oc_test_x_one.append(oc_test_x)\n",
        "    oc_test_y_one.append(oc_test_y)\n",
        "    \n",
        "oc_train_x_two = []\n",
        "oc_test_x_two = []\n",
        "oc_test_y_two = []\n",
        "for i in [[1,7],[3,5],[4,9]]:\n",
        "    oc_train_x ,oc_test_x, oc_test_y = OCSVM_preprocess(anom_label=[i])\n",
        "    oc_train_x_two.append(oc_train_x)\n",
        "    oc_test_x_two.append(oc_test_x)\n",
        "    oc_test_y_two.append(oc_test_y)"
      ],
      "execution_count": 0,
      "outputs": []
    },
    {
      "metadata": {
        "id": "GeUXYLDpJicz",
        "colab_type": "code",
        "colab": {},
        "cellView": "form"
      },
      "cell_type": "code",
      "source": [
        "#@title One digit\n",
        "print('OC SVM with one digit')\n",
        "i = 0\n",
        "for trainx, testx, testy in zip(oc_train_x_one,oc_test_x_one,oc_test_y_one):\n",
        "    begin = time.time()\n",
        "    ocsvm = build_svm(oc=True, _nu=nu_, _gamma=gamma_, maxiter=iter_)\n",
        "    ocsvm.fit(trainx.reshape(-1,784))\n",
        "    predy = ocsvm.predict(testx.reshape(-1,784))\n",
        "    prec, reca, f1, _ = metrics.precision_recall_fscore_support(testy, predy, beta=1.0, pos_label=1, average='binary')\n",
        "    area = metrics.roc_auc_score(testy, predy)\n",
        "    print('anomalous digit: ', i)\n",
        "    i += 1\n",
        "    print('nu: ', nu_)\n",
        "    print('width: ', gamma_)\n",
        "    print('F1: ', f1)\n",
        "    print('Precision: ', prec)\n",
        "    print('Recall: ', reca)\n",
        "    print('area under roc: ', area)\n",
        "    print('time: ', time.time()-begin)\n",
        "    "
      ],
      "execution_count": 0,
      "outputs": []
    },
    {
      "metadata": {
        "id": "9cVbNUAoJiaE",
        "colab_type": "code",
        "colab": {},
        "cellView": "form"
      },
      "cell_type": "code",
      "source": [
        "#@title Two digits\n",
        "print('OC SVM with two digits')\n",
        "i = 0\n",
        "for trainx, testx, testy in zip(oc_train_x_two,oc_test_x_two,oc_test_y_two):\n",
        "    begin = time.time()\n",
        "    ocsvm = build_svm(oc=True, _nu=nu_, _gamma=gamma_, maxiter=iter_)\n",
        "    ocsvm.fit(trainx.reshape(-1,784))\n",
        "    predy = ocsvm.predict(testx.reshape(-1,784))\n",
        "    prec, reca, f1, _ = metrics.precision_recall_fscore_support(testy, predy, beta=1.0, pos_label=1, average='binary')\n",
        "    area = metrics.roc_auc_score(testy, predy)\n",
        "    print('anomalous set: no.%d'%i)\n",
        "    i += 1\n",
        "    print('nu: ', nu_)\n",
        "    print('width: ', gamma_)\n",
        "    print('F1: ', f1)\n",
        "    print('Precision: ', prec)\n",
        "    print('Recall: ', reca)\n",
        "    print('area under roc: ', area)\n",
        "    print('time: ', time.time()-begin)"
      ],
      "execution_count": 0,
      "outputs": []
    },
    {
      "metadata": {
        "id": "Z4lfwgzoGYv_",
        "colab_type": "text"
      },
      "cell_type": "markdown",
      "source": [
        "## GAN set-up"
      ]
    },
    {
      "metadata": {
        "id": "EFeTgBmaDrGY",
        "colab_type": "code",
        "colab": {},
        "cellView": "form"
      },
      "cell_type": "code",
      "source": [
        "#@title Parameters\n",
        "class hyper_params():\n",
        "    '''\n",
        "    Set and display all hyper parameters\n",
        "    Args:\n",
        "        {gen,dis}_lr: real number between 0 and 1\n",
        "        label: interger from [0,9]\n",
        "        noise: True or False\n",
        "        nt: 'conv' or 'mlp'\n",
        "        all others: positive integer\n",
        "    '''\n",
        "    def __init__(self, gen_lr, dis_lr, nb_epochs, latent_dim, batch_size, rand_seed, dis_inter_layer_dim, label, noise, nl, nt, sne):\n",
        "        self._gen_lr = gen_lr\n",
        "        self._dis_lr = dis_lr\n",
        "        self._nb_epochs = nb_epochs\n",
        "        self._z_dim = latent_dim\n",
        "        self._bs = batch_size\n",
        "        self._rs = rand_seed\n",
        "        self._dis_ild = dis_inter_layer_dim\n",
        "        self._lab = label\n",
        "        self._noise = noise\n",
        "        self._nl = nl\n",
        "        self._nt = nt\n",
        "        self._sne = sne\n",
        "        \n",
        "    def gen_learning_rate(self):\n",
        "        return self._gen_lr\n",
        "    \n",
        "    def dis_learning_rate(self):\n",
        "        return self._dis_lr\n",
        "    \n",
        "    def nb_epochs(self):\n",
        "        return self._nb_epochs\n",
        "    \n",
        "    def latent_dim(self):\n",
        "        return self._z_dim\n",
        "    \n",
        "    def batch_size(self):\n",
        "        return self._bs\n",
        "    \n",
        "    def random_seed(self):\n",
        "        return self._rs\n",
        "    \n",
        "    def dis_inter_layer_dim(self):\n",
        "        return self._dis_ild \n",
        "    \n",
        "    def label(self):\n",
        "        return self._lab\n",
        "    \n",
        "    def noise(self):\n",
        "        return self._noise\n",
        "    \n",
        "    def noise_level(self):\n",
        "        return self._nl\n",
        "    \n",
        "    def network_type(self):\n",
        "        return self._nt\n",
        "    \n",
        "    def size_neg_exp(self):\n",
        "        return self._sne\n",
        "    \n",
        "    def display(self):\n",
        "        print('###################################')\n",
        "        print('Training parameters are as follows:')\n",
        "        print('Network type: ', self._nt)\n",
        "        print('Number of epochs: ', self._nb_epochs)\n",
        "        print('Batch size: ', self._bs)\n",
        "        print('Generator learning rate: ', self._gen_lr)\n",
        "        print('Discriminator learninig rate: ', self._dis_lr)\n",
        "        print('Latent dimension: ', self._z_dim)\n",
        "        print('Anomaly label: ', self._lab)\n",
        "        print('Discriminator intermediate layer dimension: ', self._dis_ild)\n",
        "        print('Gaussian noise incorporated in the discriminator: ', self._noise)\n",
        "        print('Gaussian noise mean: ', self._nl)\n",
        "        print('Size of negative exmaples generated after every 5 epoch: ', self._sne)\n",
        "        print('###################################')"
      ],
      "execution_count": 0,
      "outputs": []
    },
    {
      "metadata": {
        "id": "Vso-8lZLDuwG",
        "colab_type": "code",
        "colab": {},
        "cellView": "form"
      },
      "cell_type": "code",
      "source": [
        "#@title Utility Functions\n",
        "\n",
        "def plot_gen(images):\n",
        "    '''\n",
        "        Plot 25 images generated by GEN every 5 epochs\n",
        "        Args: ?*[25 x 28 x 28 x 1] (? is the integer part of nb_epochs/5)\n",
        "    '''\n",
        "    for i in range(len(images)):\n",
        "        image = images[i]\n",
        "        plots = image.reshape(-1,28,28) # [25 x 28 x 28]\n",
        "        ind = 0\n",
        "        plt.show()\n",
        "        print('Generating 25 images at the end of epoch %d' % ((i+1)*5))\n",
        "        while ind < 25:\n",
        "            plt.subplot(5,5,ind+1)\n",
        "            plt.imshow(plots[ind,:,:])\n",
        "            plt.axis('off')\n",
        "            ind += 1\n",
        "            \n",
        "            \n",
        "def plot_learning_curves(gen_loss, dis_loss):\n",
        "    print('Losses of GEN and DIS')\n",
        "    gen = np.array(gen_loss)\n",
        "    dis = np.array(dis_loss)\n",
        "    plt.figure()\n",
        "    plt.plot(gen, 'b')\n",
        "    plt.plot(dis, 'g')\n",
        "    plt.legend(['GEN loss', 'DIS loss'])\n",
        "    plt.xlabel('Epoch')\n",
        "    plt.ylabel('Loss')\n",
        "    \n",
        "def plot_roc_curves(train_roc, test_roc):\n",
        "    print('Areas under ROC of DIS on train and test')\n",
        "    tr_roc = np.array(train_roc)\n",
        "    te_roc = np.array(test_roc)\n",
        "    plt.figure()\n",
        "    plt.plot(tr_roc, 'c')\n",
        "    plt.plot(te_roc, 'r')\n",
        "    plt.legend(['train AUROC', 'test AUROC'])\n",
        "    plt.xlabel('Epoch')\n",
        "    plt.ylabel('Area under ROC')\n",
        "    \n",
        "def plot_roc_curves_svm(train_roc, test_roc):\n",
        "    print('Areas under ROC of DIS on train and test')\n",
        "    tr_roc = np.array(train_roc)\n",
        "    te_roc = np.array(test_roc)\n",
        "    plt.figure()\n",
        "    plt.plot(tr_roc, 'c')\n",
        "    plt.plot(te_roc, 'r')\n",
        "    plt.legend(['train AUROC', 'test AUROC'])\n",
        "    plt.xlabel('10 Epochs')\n",
        "    plt.ylabel('Area under ROC')"
      ],
      "execution_count": 0,
      "outputs": []
    },
    {
      "metadata": {
        "id": "Y5qMkmCrDxwZ",
        "colab_type": "code",
        "colab": {},
        "cellView": "form"
      },
      "cell_type": "code",
      "source": [
        "#@title Set Parameters\n",
        "\n",
        "\n",
        "###############################\n",
        "###############################\n",
        "\n",
        "###### DO NOT FORGET TO CHANGE!\n",
        "\n",
        "###############################\n",
        "###############################\n",
        "\n",
        "\n",
        "\n",
        "\n",
        "paras = hyper_params(gen_lr=1e-4, dis_lr=1e-5, nb_epochs=70, latent_dim=100, batch_size=100,\n",
        "# paras = hyper_params(gen_lr=1e-5, dis_lr=1e-5, nb_epochs=50, latent_dim=100, batch_size=100,\n",
        "                     rand_seed=None, dis_inter_layer_dim=1024, label=[4,9], noise=False, nl=0.1, nt='conv', sne=5000)"
      ],
      "execution_count": 0,
      "outputs": []
    },
    {
      "metadata": {
        "id": "kz8EgNeuD3Uy",
        "colab_type": "code",
        "colab": {},
        "cellView": "form"
      },
      "cell_type": "code",
      "source": [
        "#@title Preprocessing\n",
        "\n",
        "rng = np.random.RandomState(paras.random_seed())\n",
        "\n",
        "ar = 0.25\n",
        "\n",
        "def get_train(label, centered=True, anom_ratio=ar):\n",
        "    # training set\n",
        "    return _get_adapted_dataset(\"train\", label, centered=centered, anom_ratio=anom_ratio)\n",
        "\n",
        "def get_valid(label, centered=True, anom_ratio=ar):\n",
        "    # validation set\n",
        "    return _get_adapted_dataset(\"valid\", label, centered=centered, anom_ratio=anom_ratio)\n",
        "\n",
        "def get_test(label, centered=True, anom_ratio=ar):\n",
        "    # testing set\n",
        "    return _get_adapted_dataset(\"test\", label, centered=centered, anom_ratio=anom_ratio)\n",
        "\n",
        "def get_shape_input():\n",
        "    \"\"\"Get shape of the dataset for MNIST\"\"\"\n",
        "    return (None, 28, 28, 1)\n",
        "\n",
        "\n",
        "def _get_adapted_dataset(split, label=None, centered=False, anom_ratio=0.25):\n",
        "    \"\"\"Gets the adapted dataset for the experiments\n",
        "\n",
        "    Args :\n",
        "            split (str): train or test\n",
        "            label (list or str): \n",
        "                  (list):ints in range 0 to 10, the digits\n",
        "                         which are considered outlier\n",
        "                  (str): 'external', indicating external datasets are used\n",
        "                                \n",
        "            centered (bool): (Default=False) data centered to [-1, 1]\n",
        "            anom_ratio (float): between 0 and 1, below 0.5 if label is external\n",
        "    \"\"\"\n",
        "    data = np.load('mnist.npz')\n",
        "    dataset = {}\n",
        "\n",
        "    full_x_data = np.concatenate([data['x_train'], data['x_test'], data['x_valid']], axis=0) # [70k x 728]\n",
        "    full_y_data = np.concatenate([data['y_train'], data['y_test'], data['y_valid']], axis=0) # [70k]\n",
        "\n",
        "    if label == 'external':\n",
        "        not_mnist = np.load('not_mnist.npz')\n",
        "        full_notmnist = not_mnist['data'].reshape(-1,784)\n",
        "        rnd_inds_norm = rng.permutation(full_x_data.shape[0])\n",
        "        rnd_inds_anom = rng.permutation(full_notmnist.shape[0])\n",
        "\n",
        "        train_lab = int(full_x_data.shape[0] * 0.8)\n",
        "        x_train = full_x_data[rnd_inds_norm][:train_lab]\n",
        "        y_train = full_y_data[rnd_inds_norm][:train_lab]\n",
        "        if centered:\n",
        "            x_train = x_train * 2. - 1.\n",
        "        x_test_norm = full_x_data[rnd_inds_norm][train_lab:train_lab+5000]\n",
        "        y_test_norm = full_y_data[rnd_inds_norm][train_lab:train_lab+5000]\n",
        "        x_valid_norm = full_x_data[rnd_inds_norm][train_lab+5000:train_lab+10000]\n",
        "        y_valid_norm = full_y_data[rnd_inds_norm][train_lab+5000:train_lab+10000]\n",
        "        x_test_anom = full_notmnist[rnd_inds_anom][:1250]\n",
        "        x_valid_anom = full_notmnist[rnd_inds_anom][1250:2500]\n",
        "\n",
        "        x_test = np.concatenate((x_test_norm,x_test_anom),axis=0) # [6250 x 728]\n",
        "        x_valid = np.concatenate((x_valid_norm,x_valid_anom),axis=0) # [6250 x 728]\n",
        "        if centered:\n",
        "            x_test = x_test * 2. - 1.\n",
        "            x_valid = x_valid * 2. - 1.\n",
        "        \n",
        "        # y_test and y_valid need to be changed from (-1,1) to (0,1) to train the networks \n",
        "        y_test = np.concatenate((np.ones((x_test_norm.shape[0])),\n",
        "                             -1*np.ones((x_test_anom.shape[0]))), axis=0)\n",
        "\n",
        "        y_valid = np.concatenate((np.ones((x_valid_norm.shape[0])),\n",
        "                             -1*np.ones((x_valid_anom.shape[0]))), axis=0)\n",
        "\n",
        "        rand_test = rng.permutation(x_test.shape[0])\n",
        "        x_test = x_test[rand_test]\n",
        "        y_test = y_test[rand_test]\n",
        "\n",
        "        rand_valid = rng.permutation(x_valid.shape[0])\n",
        "        x_valid = x_valid[rand_valid]\n",
        "        y_valid = y_valid[rand_valid]\n",
        "        \n",
        "        x_train = x_train.reshape(-1, 28, 28, 1)\n",
        "        x_test = x_test.reshape(-1, 28, 28, 1)\n",
        "        x_valid = x_valid.reshape(-1, 28, 28 ,1)\n",
        "\n",
        "        if split == 'train':\n",
        "            return x_train, y_train\n",
        "\n",
        "        if split == 'test':\n",
        "            return x_test, y_test\n",
        "\n",
        "        if split == 'valid':\n",
        "            return x_valid, y_valid\n",
        "\n",
        "\n",
        "    anom_inds = np.isin(full_y_data,label)\n",
        "    norm_inds = np.invert(anom_inds)\n",
        "\n",
        "    norm_x_data = full_x_data[norm_inds]\n",
        "    norm_y_data = full_y_data[norm_inds]\n",
        "\n",
        "    anom_x_data = full_x_data[anom_inds]\n",
        "    anom_y_data = full_y_data[anom_inds]\n",
        "\n",
        "    # shuffle the normal data\n",
        "    rnd_norm_inds = rng.permutation(norm_x_data.shape[0])\n",
        "    norm_x_data = norm_x_data[rnd_norm_inds]\n",
        "    norm_y_data = norm_y_data[rnd_norm_inds]\n",
        "\n",
        "    rnd_anom_inds = rng.permutation(anom_x_data.shape[0])\n",
        "    anom_x_data = anom_x_data[rnd_anom_inds]\n",
        "    anom_y_data = anom_y_data[rnd_anom_inds]\n",
        "\n",
        "\n",
        "    # train index\n",
        "    train_index = int(norm_x_data.shape[0]*0.8) # 80% of normal data        \n",
        "\n",
        "    # train: 80% of normal\n",
        "    train_x_data = norm_x_data[:train_index]\n",
        "    train_y_data = norm_y_data[:train_index]\n",
        "\n",
        "    # test: 5000 of normal, 1250 of anomalous\n",
        "    # valid: 5000 of normal, 1250 of anomalous\n",
        "    anom_index = int(5000 * anom_ratio) # a*5000\n",
        "    test_x_data = np.concatenate((norm_x_data[train_index:train_index+5000], anom_x_data[:anom_index]), axis=0) # [(1+a)*5000 x 784]\n",
        "    test_y_data = np.concatenate((norm_y_data[train_index:train_index+5000], anom_y_data[:anom_index]), axis=0) # [(1+a)*5000]\n",
        "    valid_x_data = np.concatenate((norm_x_data[train_index+5000:train_index+10000], anom_x_data[anom_index:2*anom_index]), axis=0) # [(1+a)*5000 x 784]\n",
        "    valid_y_data = np.concatenate((norm_y_data[train_index+5000:train_index+10000], anom_y_data[anom_index:2*anom_index]), axis=0) # [(1+a)*5000]\n",
        "\n",
        "    # when a = 0.25:\n",
        "    # testx: [6250 x 784]\n",
        "    # testy: [6250]\n",
        "    # validx: [6250 x 784]\n",
        "    # validy: [6250]\n",
        "    \n",
        "    # shuffle the testing data\n",
        "    rnd_test_inds = rng.permutation(test_x_data.shape[0])\n",
        "    test_x_data = test_x_data[rnd_test_inds]\n",
        "    test_y_data = test_y_data[rnd_test_inds]\n",
        "\n",
        "    rnd_valid_inds = rng.permutation(valid_x_data.shape[0])\n",
        "    valid_x_data = valid_x_data[rnd_valid_inds]\n",
        "    valid_y_data = valid_y_data[rnd_valid_inds]\n",
        "\n",
        "\n",
        "    key_img = 'x_' + split\n",
        "    key_lbl = 'y_' + split\n",
        "\n",
        "    if split == 'train':\n",
        "        # get the training set\n",
        "        dataset[key_img] = train_x_data.astype(np.float32)\n",
        "        dataset[key_lbl] = train_y_data.astype(np.float32)\n",
        "\n",
        "    elif split == 'test':\n",
        "        # get the testing set\n",
        "        dataset[key_img] = test_x_data.astype(np.float32)\n",
        "        dataset[key_lbl] = test_y_data.astype(np.float32)\n",
        "\n",
        "    elif split == 'valid':\n",
        "        # get the testing set           \n",
        "        dataset[key_img] = valid_x_data.astype(np.float32)\n",
        "        dataset[key_lbl] = valid_y_data.astype(np.float32)\n",
        "    \n",
        "    if centered:\n",
        "        dataset[key_img] = dataset[key_img].astype(np.float32)\n",
        "        dataset[key_img] = dataset[key_img] * 2. - 1.\n",
        "\n",
        "    # reshape images to a square to be feed in CNN\n",
        "    dataset[key_img] = dataset[key_img].reshape(-1, 28, 28, 1)\n",
        "    \n",
        "    return (dataset[key_img], dataset[key_lbl])\n",
        "\n"
      ],
      "execution_count": 0,
      "outputs": []
    },
    {
      "metadata": {
        "id": "N-Gmx1D3D6hP",
        "colab_type": "code",
        "colab": {},
        "cellView": "form"
      },
      "cell_type": "code",
      "source": [
        "#@title CNN with batch normalisation and leaky ReLU\n",
        "# Convolutional Nets (both gen and dis)\n",
        "# The initialisation kernel is subjected to change\n",
        "\n",
        "init_kernel = tf.random_normal_initializer(mean=0.0, stddev=0.02)\n",
        "\n",
        "def generator_conv(z_inp, is_training=False, reuse=False):\n",
        "    \"\"\" Generator architecture in tensorflow\n",
        "    Generates data from the latent space\n",
        "    Args:\n",
        "        z_inp (tensor): [batch_size x 200]\n",
        "        reuse (bool): sharing variables or not\n",
        "    Returns:\n",
        "        (tensor): [batch_size x 28 x 28 x 1]\n",
        "    \"\"\"\n",
        "    with tf.variable_scope('generator', reuse=reuse):\n",
        "        \n",
        "        name_net = 'layer_1'\n",
        "        with tf.variable_scope(name_net):\n",
        "            net = tf.layers.dense(z_inp,\n",
        "                                  units=1024,\n",
        "                                  kernel_initializer=init_kernel,\n",
        "                                  name='fc')\n",
        "            net = tf.layers.batch_normalization(net,\n",
        "                                        training=is_training,\n",
        "                                        name='batch_normalization')\n",
        "            net = tf.nn.relu(net, name='relu')\n",
        "\n",
        "        name_net = 'layer_2'\n",
        "        with tf.variable_scope(name_net):\n",
        "            net = tf.layers.dense(net,\n",
        "                                  units=7*7*128,\n",
        "                                  kernel_initializer=init_kernel,\n",
        "                                  name='fc')\n",
        "            net = tf.layers.batch_normalization(net,\n",
        "                                        training=is_training,\n",
        "                                        name='batch_normalization')\n",
        "            net = tf.nn.relu(net, name='relu')\n",
        "\n",
        "        net = tf.reshape(net, [-1, 7, 7, 128])\n",
        "\n",
        "        name_net = 'layer_3'\n",
        "        with tf.variable_scope(name_net):\n",
        "            net = tf.layers.conv2d_transpose(net,\n",
        "                                     filters=64,\n",
        "                                     kernel_size=4,\n",
        "                                     strides= 2,\n",
        "                                     padding='same',\n",
        "                                     kernel_initializer=init_kernel,\n",
        "                                     name='conv')\n",
        "            net = tf.layers.batch_normalization(net,\n",
        "                                        training=is_training,\n",
        "                                        name='batch_normalization')\n",
        "            net = tf.nn.relu(net, name='relu')\n",
        "\n",
        "        name_net = 'layer_4'\n",
        "        with tf.variable_scope(name_net):\n",
        "            net = tf.layers.conv2d_transpose(net,\n",
        "                                     filters=1,\n",
        "                                     kernel_size=4,\n",
        "                                     strides=2,\n",
        "                                     padding='same',\n",
        "                                     kernel_initializer=init_kernel,\n",
        "                                     name='conv')\n",
        "            net = tf.tanh(net, name='tanh')\n",
        "\n",
        "        return net\n",
        "\n",
        "def discriminator_conv(x_inp, is_training=False, reuse=False, noise=False):\n",
        "    \"\"\" Discriminator architecture in tensorflow\n",
        "    Discriminates between real data and generated data\n",
        "    Args:\n",
        "        x_inp (tensor): [batch_size x 28 x 28 x 1]\n",
        "        reuse (bool): sharing variables or not\n",
        "    Returns:\n",
        "        logits (tensor): [batch_size x 1]\n",
        "        intermediate_layer (tensor): [batch_size x 1024]\n",
        "    \"\"\"\n",
        "    \n",
        "    # Add N(0,1) noise to the input of the discriminator\n",
        "    if noise == True:\n",
        "        x_inp += tf.random_normal(tf.shape(x_inp), mean=0.0, stddev=paras.noise_level())\n",
        "\n",
        "    \n",
        "    with tf.variable_scope('discriminator', reuse=reuse):\n",
        "\n",
        "        name_net = 'layer_1'\n",
        "        with tf.variable_scope(name_net):\n",
        "            net = tf.layers.conv2d(x_inp,\n",
        "                           filters=64,\n",
        "                           kernel_size=4,\n",
        "                           strides=2,\n",
        "                           padding='same',\n",
        "                           kernel_initializer=init_kernel,\n",
        "                           name='conv')\n",
        "            net = leakyReLu(net, 0.1, name='leaky_relu')\n",
        "        \n",
        "        # Gaussian noise\n",
        "#         if noise == True:\n",
        "#             net += tf.random_normal(tf.shape(net), mean=0.0, stddev=tddev=paras.noise_level())\n",
        "\n",
        "        name_net = 'layer_2'\n",
        "        with tf.variable_scope(name_net):\n",
        "            net = tf.layers.conv2d(net,\n",
        "                           filters=64,\n",
        "                           kernel_size=4,\n",
        "                           strides=2,\n",
        "                           padding='same',\n",
        "                           kernel_initializer=init_kernel,\n",
        "                           name='conv')\n",
        "            net = tf.layers.batch_normalization(net,\n",
        "                                        training=is_training,\n",
        "                                        name='batch_normalization')\n",
        "            net = leakyReLu(net, 0.1, name='leaky_relu')\n",
        "\n",
        "        net = tf.reshape(net, [-1, 7 * 7 * 64])\n",
        "        \n",
        "        # Gaussian noise\n",
        "#         if noise == True:\n",
        "#             net += tf.random_normal(tf.shape(net), mean=0.0, tddev=paras.noise_level())\n",
        "\n",
        "\n",
        "        name_net = 'layer_3'\n",
        "        with tf.variable_scope(name_net):\n",
        "            net = tf.layers.dense(net,\n",
        "                      units=paras.dis_inter_layer_dim(),\n",
        "                      kernel_initializer=init_kernel,\n",
        "                      name='fc')\n",
        "            net = tf.layers.batch_normalization(net,\n",
        "                                    training=is_training,\n",
        "                                    name='batch_normalization')\n",
        "            net = leakyReLu(net, 0.1, name='leaky_relu')\n",
        "\n",
        "        intermediate_layer = net\n",
        "        \n",
        "        # Gaussian noise\n",
        "#         if noise == True:\n",
        "#             net += tf.random_normal(tf.shape(net), mean=0.0, stddev=paras.noise_level())\n",
        "\n",
        "\n",
        "        name_net = 'layer_4'\n",
        "        with tf.variable_scope(name_net):\n",
        "            net = tf.layers.dense(net,\n",
        "                                  units=1,\n",
        "                                  kernel_initializer=init_kernel,\n",
        "                                  name='fc')\n",
        "\n",
        "        net = tf.squeeze(net)\n",
        "\n",
        "        return net, intermediate_layer\n",
        "\n",
        "def leakyReLu(x, alpha=0.1, name=None):\n",
        "    if name:\n",
        "        with tf.variable_scope(name):\n",
        "            return _leakyReLu_impl(x, alpha)\n",
        "    else:\n",
        "        return _leakyReLu_impl(x, alpha)\n",
        "\n",
        "def _leakyReLu_impl(x, alpha):\n",
        "    return tf.nn.relu(x) - (alpha * tf.nn.relu(-x))"
      ],
      "execution_count": 0,
      "outputs": []
    },
    {
      "metadata": {
        "id": "A5HloF4_D9LK",
        "colab_type": "code",
        "colab": {},
        "cellView": "form"
      },
      "cell_type": "code",
      "source": [
        "#@title Train and Test\n",
        "\n",
        "def train_and_test(paras, testx, testy):\n",
        "    \n",
        "    \"\"\"\n",
        "    Args:\n",
        "        paras: a hyper_params object\n",
        "        testx: [4000 x 728] (3000 normal and 1000 anomalous)\n",
        "        testy: [4000] (1 normal and -1 anomalous, need to change to real 1 and fake 0)\n",
        "    \"\"\"\n",
        "    \n",
        "    # Placeholders\n",
        "    input_pl = tf.placeholder(tf.float32, shape=get_shape_input())\n",
        "    is_training_pl = tf.placeholder(tf.bool, [])\n",
        "    learning_rate_pl = tf.placeholder(tf.float32, shape=())\n",
        "\n",
        "    # Data\n",
        "    '''\n",
        "        # trainx: [train_size x 28 x 28 x 1]\n",
        "        # trainy: [train_size]\n",
        "        # testx: [test_size x 28 x 28 x 1]\n",
        "        # testy: [test_size]\n",
        "    '''\n",
        "\n",
        "    # without centred\n",
        "    trainx, _ = get_train(paras.label())\n",
        "    trainx_copy = trainx.copy()\n",
        "    testx = testx.reshape(-1,28,28,1)\n",
        "\n",
        "\n",
        "    # unpack parameters\n",
        "    gen_lr = paras.gen_learning_rate()\n",
        "    dis_lr = paras.dis_learning_rate()\n",
        "    batch_size = paras.batch_size()\n",
        "    latent_dim = paras.latent_dim()\n",
        "\n",
        "    # set random seed\n",
        "    rng = np.random.RandomState(paras.random_seed())\n",
        "    # get the number of batches in each epoch\n",
        "    nr_batches_train = int(trainx.shape[0] / batch_size)\n",
        "\n",
        "    # display parameters\n",
        "    paras.display()\n",
        "\n",
        "    if paras.network_type() == 'conv':\n",
        "        gen = generator_conv\n",
        "        dis = discriminator_conv\n",
        "        \n",
        "    if paras.network_type() == 'mlp':\n",
        "        gen = generator_mlp\n",
        "        dis = discriminator_mlp\n",
        "\n",
        "    # Sample noise from standard normal distribution, i.e. prior: p_z = N(0,1)\n",
        "    # random_z: [100 x 200]\n",
        "    random_z = tf.random_normal([batch_size, latent_dim], mean=0.0, stddev=1.0)\n",
        "\n",
        "    # Generate images with generator\n",
        "    # generator: [100 x 28 x 28 x 1]\n",
        "    generator = gen(random_z, is_training=is_training_pl)\n",
        "\n",
        "    # Pass real and fake images into discriminator separately\n",
        "    # real_d: [100]\n",
        "    # inter_layer_real: [100 x 1024]\n",
        "    real_d, inter_layer_real = dis(input_pl, is_training=is_training_pl, noise=paras.noise()) # N(0,1) noise\n",
        "  \n",
        "    # fake_d: [100]\n",
        "    # inter_layer_fake: [100 x 1024]\n",
        "    fake_d, inter_layer_fake = dis(generator, is_training=is_training_pl, reuse=True, noise=paras.noise()) # N(0,1) noise\n",
        "\n",
        "\n",
        "    # Calculate seperate losses for discriminator with real and fake images\n",
        "    # sigmoid_cross_entropy will take mean (with weight = 1) automatically so {real, fake}_discriminator_loss are scalars\n",
        "    real_discriminator_loss = tf.losses.sigmoid_cross_entropy(tf.constant(1, shape=[batch_size]), real_d, scope='real_discriminator_loss')\n",
        "    fake_discriminator_loss = tf.losses.sigmoid_cross_entropy(tf.constant(0, shape=[batch_size]), fake_d, scope='fake_discriminator_loss')\n",
        "    # discriminator loss (to be minimise wrt to dis's paras)\n",
        "    discriminator_loss = real_discriminator_loss + fake_discriminator_loss\n",
        "    # generator loss (to be minimise wrt to gen's paras)\n",
        "    generator_loss = tf.losses.sigmoid_cross_entropy(tf.constant(1, shape=[batch_size]), fake_d, scope='generator_loss')\n",
        "    \n",
        "    # According to GAN 2014 by I.Goodfellow et.al. the training procedure should be k steps discriminator then 1 step generator\n",
        "    # G must not be trained too much without updating D otherwise will have mode collapse\n",
        "\n",
        "\n",
        "    with tf.name_scope('optimizers'):\n",
        "        # control op dependencies for batch norm and trainable variables\n",
        "        # All variables\n",
        "        dvars = tf.get_collection(tf.GraphKeys.TRAINABLE_VARIABLES, scope='discriminator')\n",
        "        gvars = tf.get_collection(tf.GraphKeys.TRAINABLE_VARIABLES, scope='generator')\n",
        "\n",
        "        # All operations (for batch normalisation)\n",
        "        update_ops_gen = tf.get_collection(tf.GraphKeys.UPDATE_OPS, scope='generator')\n",
        "        update_ops_dis = tf.get_collection(tf.GraphKeys.UPDATE_OPS, scope='discriminator')\n",
        "        \n",
        "        # beta1: momentum decay\n",
        "        # USE DIFFERENT LEARNING RATES FOR DIS AND GEN\n",
        "        # dis: dis_lr\n",
        "        optimizer_dis = tf.train.AdamOptimizer(learning_rate=learning_rate_pl, beta1=0.5, name='dis_optimizer')\n",
        "        # gen: gen_lr\n",
        "        optimizer_gen = tf.train.AdamOptimizer(learning_rate=learning_rate_pl, beta1=0.5, name='gen_optimizer')\n",
        "\n",
        "            \n",
        "    \n",
        "    \n",
        "    \n",
        "        # run all the generator's ops before optimising gen\n",
        "        with tf.control_dependencies(update_ops_gen): # attached op for moving average batch norm\n",
        "            gen_op = optimizer_gen.minimize(generator_loss, var_list=gvars)\n",
        "\n",
        "        # run all the discriminator's ops before optimising dis    \n",
        "        with tf.control_dependencies(update_ops_dis):\n",
        "            dis_op = optimizer_dis.minimize(discriminator_loss, var_list=dvars)\n",
        "            \n",
        "        '''\n",
        "            NB: FIRST UPDATE DIS THEN GEN IN TRAINING\n",
        "        '''\n",
        "    true_train_label = tf.squeeze(tf.concat([tf.constant(1, shape=[batch_size]), tf.constant(0, shape=[batch_size])], axis=0)) # [(100+100)]\n",
        "    pred_train_label = tf.squeeze(tf.concat([tf.sigmoid(real_d), tf.sigmoid(fake_d)], axis=0)) # [(50+50)]\n",
        "    pred_test_label = tf.squeeze(tf.sigmoid(real_d)) # [5000]\n",
        "\n",
        "\n",
        "\n",
        "    with tf.Session() as sess:\n",
        "        # Global Varaibles contain all Model variables, which then contain all Trainable variables\n",
        "        sess.run(tf.global_variables_initializer())\n",
        "        \n",
        "        # initialise batch and epoch\n",
        "        train_batch = 0 \n",
        "        epoch = 0\n",
        "        # initialise trainging log\n",
        "        train_loss_dis_log = []\n",
        "        train_loss_gen_log = []\n",
        "        train_roc_log = []\n",
        "        test_roc_log = []\n",
        "        gen_exp_log = []\n",
        "        to_plot = []\n",
        "\n",
        "        while epoch < paras.nb_epochs():\n",
        "\n",
        "            begin = time.time() # recording time\n",
        "            trainx = trainx[rng.permutation(trainx.shape[0])]  # shuffle training set (to be feed into dis)\n",
        "            trainx_copy = trainx_copy[rng.permutation(trainx.shape[0])] # shuffle training set (to be feed into gen)\n",
        "\n",
        "            # train_loss_dis, train_loss_gen = [0, 0]\n",
        "            train_loss_dis, train_loss_gen, train_roc = [0, 0, 0]\n",
        "            \n",
        "            \n",
        "            ###### Training ######\n",
        "            for t in range(nr_batches_train):\n",
        "\n",
        "                # construct randomly permuted minibatches\n",
        "                ran_from = t * batch_size\n",
        "                ran_to = (t + 1) * batch_size\n",
        "\n",
        "                ### Discriminator Training ###\n",
        "                feed_dict = {input_pl: trainx[ran_from:ran_to],\n",
        "                             is_training_pl:True,\n",
        "                             learning_rate_pl:dis_lr}\n",
        "                # ld is the negative of the discriminator value (smaller the better)\n",
        "                # _, ld = sess.run([dis_op, discriminator_loss], feed_dict=feed_dict)\n",
        "                _, ld, true_tr, pred_tr = sess.run([dis_op, discriminator_loss, true_train_label, pred_train_label], feed_dict=feed_dict)\n",
        "                train_loss_dis += ld\n",
        "                train_roc += metrics.roc_auc_score(true_tr,pred_tr)\n",
        "\n",
        "                ### Generator Training ###\n",
        "                feed_dict = {input_pl: trainx_copy[ran_from:ran_to],\n",
        "                             is_training_pl:True,\n",
        "                             learning_rate_pl:gen_lr}\n",
        "                # lg is the generator's objective (smaller the better)\n",
        "                _, lg = sess.run([gen_op, generator_loss], feed_dict=feed_dict)\n",
        "                train_loss_gen += lg\n",
        "\n",
        "                # update the batch\n",
        "                train_batch += 1\n",
        "            \n",
        "            # get the average loss per batch for both GEN and DIS\n",
        "            train_loss_gen /= nr_batches_train\n",
        "            train_loss_gen_log.append(train_loss_gen)\n",
        "            train_loss_dis /= nr_batches_train\n",
        "            train_loss_dis_log.append(train_loss_dis)\n",
        "            train_roc /= nr_batches_train\n",
        "            train_roc_log.append(train_roc) # len: 50\n",
        "\n",
        "            ################# TEST of the DISCRIMINATOR #################\n",
        "            # test discriminator roc\n",
        "            test_feed_dict = {input_pl:testx,\n",
        "                              is_training_pl:False}\n",
        "            pred_te = sess.run(pred_test_label, feed_dict=test_feed_dict)\n",
        "            test_roc = metrics.roc_auc_score(testy,pred_te) \n",
        "            test_roc_log.append(test_roc) # len: nb_epochs\n",
        "\n",
        "            print(\"Epoch %d | time = %ds | loss gen = %.4f | loss dis = %.4f | auc train = %.4f | auc test = %.4f\"\n",
        "                  % (epoch, time.time() - begin, train_loss_gen, train_loss_dis, train_roc, test_roc))\n",
        "\n",
        "            epoch += 1\n",
        "\n",
        "            size_neg_exp = paras.size_neg_exp()\n",
        "            \n",
        "            if (epoch%5 == 0):\n",
        "                ### Generation Visaulisation ###\n",
        "                print('Generating examples...')\n",
        "                z_test_gen = tf.random_normal([size_neg_exp, latent_dim], mean=0.0, stddev=1.0)\n",
        "                gen_images = gen(z_test_gen, reuse=True) # [50000 x 28 x 28 x 1]\n",
        "                \n",
        "                # gen_feed_dict = {input_pl:testx[:25], is_training_pl:False}\n",
        "                gen_feed_dict = {is_training_pl:False}\n",
        "     \n",
        "                gen_exps = sess.run(gen_images, feed_dict = gen_feed_dict)\n",
        "\n",
        "                gen_exp_log.append(gen_exps)\n",
        "\n",
        "                # get 25 images to plot\n",
        "                images = gen_exps[rng.permutation(size_neg_exp)][:25]\n",
        "                to_plot.append(images)\n",
        "\n",
        "\n",
        "\n",
        "              \n",
        "        print('Training terminated')\n",
        "        \n",
        "    return to_plot, train_loss_gen_log, train_loss_dis_log, gen_exp_log, train_roc_log, test_roc_log\n",
        "        \n",
        "        \n",
        "        \n",
        "def run(paras,testx,testy):\n",
        "    \"\"\" Runs the training process\"\"\"\n",
        "    print('Running...')\n",
        "    with tf.Graph().as_default():\n",
        "        # Set the graph level seed\n",
        "        tf.set_random_seed(paras.random_seed())\n",
        "        to_plot, train_loss_gen_log, train_loss_dis_log, gen_exp_log, train_roc_log, test_roc_log = train_and_test(paras,testx,testy)\n",
        "    \n",
        "    return to_plot, train_loss_gen_log, train_loss_dis_log, gen_exp_log, train_roc_log, test_roc_log\n"
      ],
      "execution_count": 0,
      "outputs": []
    },
    {
      "metadata": {
        "id": "RaIfKHJHGex6",
        "colab_type": "text"
      },
      "cell_type": "markdown",
      "source": [
        "## SVM set-ip"
      ]
    },
    {
      "metadata": {
        "id": "CfB6i_F9Te2_",
        "colab_type": "code",
        "colab": {},
        "cellView": "form"
      },
      "cell_type": "code",
      "source": [
        "#@title SVM and post-processing\n",
        "def postprocess(neg_exps, pos_exps, length=8000, neg_train_ratio=0.25):\n",
        "    '''\n",
        "        Args:\n",
        "            neg_exps: list containing all generated examples from GAN (anomalous)\n",
        "            pos_exps: np array, the training set, size: 50k (normal)\n",
        "            length: int, size of neg and pos examples\n",
        "            neg_train_ratio: float, size of neg examples in training relative to pos examples\n",
        "    '''\n",
        "    rng = np.random.RandomState(paras.random_seed())\n",
        "    train_feat = []\n",
        "    train_svm_lab = []\n",
        "    pos_exps = pos_exps.reshape(-1,784)[:length] # [10k x 784]\n",
        "    neg_length = int(length * neg_train_ratio)\n",
        "\n",
        "    if neg_length == 0:\n",
        "        for i in range(10):\n",
        "            train_feat.append(pos_exps)\n",
        "            train_svm_lab.append(np.ones(pos_exps.shape[0],dtype=int))\n",
        "        return train_feat, train_svm_lab\n",
        "    \n",
        "\n",
        "    # Produce random noise from uniform (-1,1)  OR  U(0,1)\n",
        "    random_noise = np.random.uniform(low=-1.0,high=1.0,size=(neg_length,784)) # [10k x 784]\n",
        "    random_train = np.concatenate((random_noise, pos_exps), axis=0) # [20k x 784]\n",
        "\n",
        "    # ano: -1, nor: 1\n",
        "    random_svm_label = np.concatenate((-1 * np.ones(random_noise.shape[0],dtype=int),\n",
        "                                np.ones(pos_exps.shape[0],dtype=int)), axis=0)\n",
        "\n",
        "    rand_ind = rng.permutation(random_train.shape[0])\n",
        "    train_feat.append(random_train[rand_ind])\n",
        "    train_svm_lab.append(random_svm_label[rand_ind])\n",
        "\n",
        "    for neg_exp in neg_exps:\n",
        "        neg_exp = neg_exp.reshape(-1,784)[:neg_length] # [10k x 784]\n",
        "        concat_feat = np.concatenate((neg_exp, pos_exps), axis=0) # [20k x 784]     \n",
        "        \n",
        "        # neg: -1, pos: 1\n",
        "        concat_svm_lab = np.concatenate((-1 * np.ones(neg_exp.shape[0], dtype=int),\n",
        "                                np.ones(pos_exps.shape[0], dtype=int)), axis=0) # [20k]\n",
        "        \n",
        "        index = rng.permutation(concat_feat.shape[0])\n",
        "        train_feat.append(concat_feat[index]) # 10 * [20k x 784]\n",
        "        train_svm_lab.append(concat_svm_lab[index]) # 10 * [20k]\n",
        "\n",
        "        \n",
        "    print('Post-processing done')\n",
        "    \n",
        "    return train_feat, train_svm_lab\n",
        "\n",
        "def get_test_valid_svm_dis(anom_noise=False,noise_width=2):\n",
        "    ano_lab = paras.label()\n",
        "    testx, tempy = get_test(ano_lab)\n",
        "    validx, validy = get_valid(ano_lab)\n",
        "    testx = testx.reshape(-1,784)\n",
        "    validx = validx.reshape(-1,784)\n",
        "    testx_border = np.copy(testx)\n",
        "    testx_uniform = np.copy(testx)\n",
        "    testx_gauss = np.copy(testx)\n",
        "    validx_border = np.copy(validx) \n",
        "    validx_uniform = np.copy(validx) \n",
        "    validx_gauss = np.copy(validx) \n",
        "\n",
        "    if ano_lab == 'external':\n",
        "        testy_dis = ((tempy+1)/2).astype(int)\n",
        "        testy_dis = testy_dis.astype(int)\n",
        "        testy_svm = np.copy(tempy)\n",
        "        validy_svm = np.copy(validy)\n",
        "\n",
        "        return validx, validy_svm, testx, testy_svm, testy_dis\n",
        "    \n",
        "    testy_svm = np.copy(tempy)\n",
        "    testy_dis = np.copy(tempy)\n",
        "    validy_svm = np.copy(validy)\n",
        "    \n",
        "    # get indices\n",
        "    anom_index_test = np.isin(tempy,ano_lab)\n",
        "    norm_index_test = np.invert(anom_index_test)\n",
        "\n",
        "    anom_index_valid = np.isin(validy,ano_lab)\n",
        "    norm_index_valid = np.invert(anom_index_valid)\n",
        "\n",
        "    if anom_noise == True:\n",
        "        \n",
        "        noise_width_c = int(28 - noise_width)\n",
        "        valid_anom_temp = np.copy(validx[anom_index_valid]).reshape(-1,28,28)\n",
        "        test_anom_temp = np.copy(testx[anom_index_test]).reshape(-1,28,28)\n",
        "        valid_anom_temp[:,:noise_width,:] += np.random.uniform(low=-1.,high=1.,size=valid_anom_temp[:,:noise_width,:].shape)\n",
        "        valid_anom_temp[:,:,:noise_width] += np.random.uniform(low=-1.,high=1.,size=valid_anom_temp[:,:,:noise_width].shape)\n",
        "        valid_anom_temp[:,noise_width_c:,:] += np.random.uniform(low=-1.,high=1.,size=valid_anom_temp[:,noise_width_c:,:].shape)\n",
        "        valid_anom_temp[:,:,noise_width_c:] += np.random.uniform(low=-1.,high=1.,size=valid_anom_temp[:,:,noise_width_c:].shape)\n",
        "        test_anom_temp[:,:noise_width,:] += np.random.uniform(low=-1.,high=1.,size=test_anom_temp[:,:noise_width,:].shape)\n",
        "        test_anom_temp[:,:,:noise_width] += np.random.uniform(low=-1.,high=1.,size=test_anom_temp[:,:,:noise_width].shape)\n",
        "        test_anom_temp[:,noise_width_c:,:] += np.random.uniform(low=-1.,high=1.,size=test_anom_temp[:,noise_width_c:,:].shape)\n",
        "        test_anom_temp[:,:,noise_width_c:] += np.random.uniform(low=-1.,high=1.,size=test_anom_temp[:,:,noise_width_c:].shape)\n",
        "        validx_border[anom_index_valid] = valid_anom_temp.reshape(-1,784)\n",
        "        testx_border[anom_index_valid] = test_anom_temp.reshape(-1,784)\n",
        "\n",
        "\n",
        "        valid_anom_temp = np.copy(validx[anom_index_valid]).reshape(-1,28,28)\n",
        "        test_anom_temp = np.copy(testx[anom_index_test]).reshape(-1,28,28)\n",
        "        valid_anom_temp += np.random.uniform(low=-1.,high=1.,size=valid_anom_temp.shape) \n",
        "        test_anom_temp += np.random.uniform(low=-1.,high=1.,size=test_anom_temp.shape)\n",
        "        validx_uniform[anom_index_valid] = valid_anom_temp.reshape(-1,784)\n",
        "        testx_uniform[anom_index_valid] = test_anom_temp.reshape(-1,784)\n",
        "\n",
        "\n",
        "        valid_anom_temp = np.copy(validx[anom_index_valid]).reshape(-1,28,28)\n",
        "        test_anom_temp = np.copy(testx[anom_index_test]).reshape(-1,28,28)\n",
        "        valid_anom_temp += np.random.normal(loc=0.0,scale=0.3,size=valid_anom_temp.shape) \n",
        "        test_anom_temp += np.random.normal(loc=0.0,scale=0.3,size=test_anom_temp.shape)\n",
        "        validx_gauss[anom_index_valid] = valid_anom_temp.reshape(-1,784)\n",
        "        testx_gauss[anom_index_valid] = test_anom_temp.reshape(-1,784)\n",
        "\n",
        "    # SVM: -1 for anom, 1 for norm\n",
        "    testy_svm[anom_index_test] = -1\n",
        "    testy_svm[norm_index_test] = 1\n",
        "    validy_svm[anom_index_valid] = -1\n",
        "    validy_svm[norm_index_valid] = 1\n",
        "    \n",
        "    # Discriminator: 0 for anom, 1 for norm\n",
        "    testy_dis[anom_index_test] = 0\n",
        "    testy_dis[norm_index_test] = 1\n",
        "    \n",
        "    return validx, validx_border, validx_uniform, validx_gauss, validy_svm, testx, testx_border, testx_uniform, testx_gauss, testy_svm, testy_dis\n",
        "\n",
        "def build_svm(oc=False,_nu=0.5,_gamma='auto',maxiter=-1):\n",
        "    if oc == False:\n",
        "        clf = svm.NuSVC(nu=_nu,gamma=_gamma,max_iter=maxiter)\n",
        "    if oc == True:\n",
        "        clf = svm.OneClassSVM(nu=_nu,gamma=_gamma,max_iter=maxiter)\n",
        "\n",
        "    return clf\n",
        "\n",
        "def plot_25(image):\n",
        "    '''\n",
        "        Plot 25 images generated by GEN every 5 epochs\n",
        "        Args: ?*[25 x 28 x 28 x 1] (? is the integer part of nb_epochs/5)\n",
        "    '''\n",
        "    plots = image.reshape(-1,28,28) # [25 x 28 x 28]\n",
        "    ind = 0\n",
        "    plt.show()\n",
        "    while ind < 25:\n",
        "        plt.subplot(5,5,ind+1)\n",
        "        img = plt.imshow(plots[ind,:,:])\n",
        "        plt.axis('off')\n",
        "        ind += 1"
      ],
      "execution_count": 0,
      "outputs": []
    },
    {
      "metadata": {
        "id": "OZDneeGQf9PG",
        "colab_type": "code",
        "colab": {},
        "cellView": "form"
      },
      "cell_type": "code",
      "source": [
        "#@title Get valid and test set\n",
        "\n",
        "validx, validx_border, validx_uniform, validx_gauss, validy_svm, testx, testx_border, testx_uniform, testx_gauss, testy_svm, testy_dis = get_test_valid_svm_dis(anom_noise=True,noise_width=6)\n",
        "# validx, validy_svm, testx, testy_svm, testy_dis = get_test_valid_svm_dis()\n",
        "\n",
        "print('Valid shapes: ', validx.shape, validy_svm.shape)\n",
        "print('Test shapes: ',testx.shape, testy_svm.shape, testy_dis.shape)"
      ],
      "execution_count": 0,
      "outputs": []
    },
    {
      "metadata": {
        "id": "msSuS1-1mTGb",
        "colab_type": "text"
      },
      "cell_type": "markdown",
      "source": [
        "## GAN training"
      ]
    },
    {
      "metadata": {
        "id": "_HfoeuDAmS7B",
        "colab_type": "code",
        "colab": {},
        "cellView": "form"
      },
      "cell_type": "code",
      "source": [
        "#@title training\n",
        "to_plot, train_loss_gen_log, train_loss_dis_log, gen_exp_log, train_roc_log, test_roc_log = run(paras,testx,testy_dis)"
      ],
      "execution_count": 0,
      "outputs": []
    },
    {
      "metadata": {
        "id": "Ybr_7PJemb_G",
        "colab_type": "code",
        "colab": {},
        "cellView": "form"
      },
      "cell_type": "code",
      "source": [
        "#@title losses plot\n",
        "plot_learning_curves(train_loss_gen_log, train_loss_dis_log)"
      ],
      "execution_count": 0,
      "outputs": []
    },
    {
      "metadata": {
        "id": "-c4VyGB-mdvT",
        "colab_type": "code",
        "colab": {},
        "cellView": "form"
      },
      "cell_type": "code",
      "source": [
        "#@title AuROC plot\n",
        "plot_roc_curves(train_roc_log, test_roc_log)"
      ],
      "execution_count": 0,
      "outputs": []
    },
    {
      "metadata": {
        "id": "xI0U9txgm4xj",
        "colab_type": "code",
        "colab": {},
        "cellView": "form"
      },
      "cell_type": "code",
      "source": [
        "#@title examples generated\n",
        "plot_gen(gen_exp_log)"
      ],
      "execution_count": 0,
      "outputs": []
    },
    {
      "metadata": {
        "id": "MneKBB-emfgz",
        "colab_type": "code",
        "colab": {},
        "cellView": "form"
      },
      "cell_type": "code",
      "source": [
        "#@title test AuROC score\n",
        "roc_score = np.mean(test_roc_log[-5:])\n",
        "print(\"Test AuROC: \", roc_score)"
      ],
      "execution_count": 0,
      "outputs": []
    },
    {
      "metadata": {
        "id": "o2qOJj80Gl_0",
        "colab_type": "text"
      },
      "cell_type": "markdown",
      "source": [
        "## SVM training"
      ]
    },
    {
      "metadata": {
        "id": "FfjZtZ4lBCwa",
        "colab_type": "code",
        "colab": {},
        "cellView": "form"
      },
      "cell_type": "code",
      "source": [
        "#@title Get training set\n",
        "pos_x, pos_y = get_train(ano_lab)\n",
        "train_feat, train_svm_lab = postprocess_multi(neg_nm, pos_x, pos_y, length=5000, neg_train_ratio=1.0)\n",
        "print('Train shapes: ', train_feat[0].shape, train_svm_lab[0].shape)"
      ],
      "execution_count": 0,
      "outputs": []
    },
    {
      "metadata": {
        "id": "cht2G6JjHzXZ",
        "colab_type": "text"
      },
      "cell_type": "markdown",
      "source": [
        "### Multi-class SVM"
      ]
    },
    {
      "metadata": {
        "id": "oO-6-41pBCiY",
        "colab_type": "code",
        "colab": {},
        "cellView": "form"
      },
      "cell_type": "code",
      "source": [
        "#@title Multi-class utilities\n",
        "def many2two(trainy,validy,testy):\n",
        "    train_out = []\n",
        "    for train_many in trainy:\n",
        "        anom_index_train = np.isin(train_many,-1)\n",
        "        norm_index_train = np.invert(anom_index_train)\n",
        "        train_two = np.copy(train_many)\n",
        "        train_two[norm_index_train] = 1\n",
        "        train_out.append(train_two)\n",
        "\n",
        "    anom_index_valid = np.isin(validy,-1)\n",
        "    norm_index_valid = np.invert(anom_index_valid)   \n",
        "    valid_two = np.copy(validy)\n",
        "    valid_two[norm_index_valid] = 1\n",
        "    \n",
        "    anom_index_test = np.isin(testy_svm,-1)\n",
        "    norm_index_test = np.invert(anom_index_test)\n",
        "    test_two = np.copy(testy)\n",
        "    test_two[norm_index_test] = 1\n",
        "    \n",
        "    return train_out, valid_two, test_two\n",
        "\n",
        "trainy, validy, testy = many2two(train_svm_lab, validy_svm, testy_svm)"
      ],
      "execution_count": 0,
      "outputs": []
    },
    {
      "metadata": {
        "id": "LMZU8bCOF9NF",
        "colab_type": "code",
        "colab": {},
        "cellView": "form"
      },
      "cell_type": "code",
      "source": [
        "#@title Multi-class SVM\n",
        "for i in [0,2,4,6,8,10,12,14]:\n",
        "    print('%d epochs'%5*i)\n",
        "    iter_ = -1\n",
        "    for nu_ in [0.1]:\n",
        "        for gamma_ in [0.01]:\n",
        "            print('nu: ', nu_)\n",
        "            print('gamma:', gamma_)\n",
        "            begin = time.time()\n",
        "            svm_2c = build_svm(oc=False,_nu=nu_,_gamma=gamma_,maxiter=iter_)\n",
        "            x_2c = train_feat[i]\n",
        "            y_2c = train_svm_lab[i]\n",
        "            svm_2c.fit(x_2c,y_2c)\n",
        "            print('training completed')\n",
        "            train_predy = svm_2c.predict(x_2c)\n",
        "            valid_predy = svm_2c.predict(validx)\n",
        "            test_predy = svm_2c.predict(testx)\n",
        "            print('prediction completed')\n",
        "            norm_pred_ind_tr = np.invert(np.isin(train_predy,-1))\n",
        "            norm_pred_ind_va = np.invert(np.isin(valid_predy,-1))\n",
        "            norm_pred_ind_te = np.invert(np.isin(test_predy,-1))\n",
        "            train_predy[norm_pred_ind_tr] = 1\n",
        "            valid_predy[norm_pred_ind_va] = 1\n",
        "            test_predy[norm_pred_ind_te] = 1\n",
        "            prec, reca, f1, _ = metrics.precision_recall_fscore_support(testy, test_predy, beta=1.0, pos_label=1, average='binary')\n",
        "            train_area = metrics.roc_auc_score(trainy[i], train_predy)\n",
        "            valid_area = metrics.roc_auc_score(validy, valid_predy)\n",
        "            test_area = metrics.roc_auc_score(testy, test_predy)\n",
        "            cf_valid = metrics.confusion_matrix(validy, valid_predy)\n",
        "            cf_test = metrics.confusion_matrix(testy, test_predy)\n",
        "\n",
        "            print('F1: ', f1)\n",
        "            print('valid Confusion matrix:\\n', cf_valid)\n",
        "            print('test Confusion matrix:\\n', cf_test)\n",
        "            print('train AUROC: ', train_area)\n",
        "            print('valid AUROC: ', valid_area)\n",
        "            print('test AUROC: ', test_area)\n",
        "            print('time: ', time.time()-begin)\n",
        "            print('\\n\\n')"
      ],
      "execution_count": 0,
      "outputs": []
    },
    {
      "metadata": {
        "id": "6MVFbMhfXmDj",
        "colab_type": "text"
      },
      "cell_type": "markdown",
      "source": [
        "### Two-class SVM"
      ]
    },
    {
      "metadata": {
        "id": "Q129X5S8XpbL",
        "colab_type": "code",
        "colab": {},
        "cellView": "form"
      },
      "cell_type": "code",
      "source": [
        "#@title SVM and post-processing\n",
        "def postprocess_two(neg_exps, pos_exps, length=8000, neg_train_ratio=0.25):\n",
        "    '''\n",
        "        Args:\n",
        "            neg_exps: list containing all generated examples from GAN (anomalous)\n",
        "            pos_exps: np array, the training set, size: 50k (normal)\n",
        "            length: int, size of neg and pos examples\n",
        "            neg_train_ratio: float, size of neg examples in training relative to pos examples\n",
        "    '''\n",
        "    rng = np.random.RandomState(None)\n",
        "    train_feat = []\n",
        "    train_svm_lab = []\n",
        "    pos_exps = pos_exps.reshape(-1,784)[:length] # [10k x 784]\n",
        "    neg_length = int(length * neg_train_ratio)\n",
        "\n",
        "    if neg_length == 0:\n",
        "        for i in range(10):\n",
        "            train_feat.append(pos_exps)\n",
        "            train_svm_lab.append(np.ones(pos_exps.shape[0],dtype=int))\n",
        "        return train_feat, train_svm_lab\n",
        "    \n",
        "\n",
        "    # Produce random noise from uniform (-1,1)  OR  U(0,1)\n",
        "    random_noise = np.random.uniform(low=-1.0,high=1.0,size=(neg_length,784)) # [10k x 784]\n",
        "    random_train = np.concatenate((random_noise, pos_exps), axis=0) # [20k x 784]\n",
        "\n",
        "    # ano: -1, nor: 1\n",
        "    random_svm_label = np.concatenate((-1 * np.ones(random_noise.shape[0],dtype=int),\n",
        "                                np.ones(pos_exps.shape[0],dtype=int)), axis=0)\n",
        "\n",
        "    rand_ind = rng.permutation(random_train.shape[0])\n",
        "    train_feat.append(random_train[rand_ind])\n",
        "    train_svm_lab.append(random_svm_label[rand_ind])\n",
        "\n",
        "    for neg_exp in neg_exps:\n",
        "        neg_exp = neg_exp.reshape(-1,784)[:neg_length] # [10k x 784]\n",
        "        concat_feat = np.concatenate((neg_exp, pos_exps), axis=0) # [20k x 784]     \n",
        "        \n",
        "        # neg: -1, pos: 1\n",
        "        concat_svm_lab = np.concatenate((-1 * np.ones(neg_exp.shape[0], dtype=int),\n",
        "                                np.ones(pos_exps.shape[0], dtype=int)), axis=0) # [20k]\n",
        "        \n",
        "        index = rng.permutation(concat_feat.shape[0])\n",
        "        train_feat.append(concat_feat[index]) # 10 * [20k x 784]\n",
        "        train_svm_lab.append(concat_svm_lab[index]) # 10 * [20k]\n",
        "\n",
        "        \n",
        "    print('Post-processing done')\n",
        "    \n",
        "    return train_feat, train_svm_lab\n",
        "\n",
        "def get_test_valid_svm_two(ano_lab):\n",
        "    ano_lab = ano_lab\n",
        "    testx, tempy = get_test(ano_lab)\n",
        "    validx, validy = get_valid(ano_lab)\n",
        "    testx = testx.reshape(-1,784)\n",
        "    validx = validx.reshape(-1,784)\n",
        "\n",
        "    if ano_lab == 'external':\n",
        "        testy_svm = np.copy(tempy)\n",
        "        validy_svm = np.copy(validy)\n",
        "\n",
        "        return validx, validy_svm, testx, testy_svm\n",
        "    \n",
        "    testy_svm = np.copy(tempy)\n",
        "    validy_svm = np.copy(validy)\n",
        "    \n",
        "    # get indices\n",
        "    anom_index_test = np.isin(tempy,ano_lab)\n",
        "    norm_index_test = np.invert(anom_index_test)\n",
        "\n",
        "    anom_index_valid = np.isin(validy,ano_lab)\n",
        "    norm_index_valid = np.invert(anom_index_valid)\n",
        "\n",
        "    # SVM: -1 for anom, 1 for norm\n",
        "    testy_svm[anom_index_test] = -1\n",
        "    testy_svm[norm_index_test] = 1\n",
        "    validy_svm[anom_index_valid] = -1\n",
        "    validy_svm[norm_index_valid] = 1\n",
        "    \n",
        "    \n",
        "    return validx, validy_svm, testx, testy_svm\n",
        "\n",
        "def build_svm(oc=False,_nu=0.5,_gamma='auto',maxiter=-1):\n",
        "    if oc == False:\n",
        "        clf = svm.NuSVC(nu=_nu,gamma=_gamma,max_iter=maxiter)\n",
        "    if oc == True:\n",
        "        clf = svm.OneClassSVM(nu=_nu,gamma=_gamma,max_iter=maxiter)\n",
        "\n",
        "    return clf\n",
        "\n",
        "def plot_25(image):\n",
        "    '''\n",
        "        Plot 25 images generated by GEN every 5 epochs\n",
        "        Args: ?*[25 x 28 x 28 x 1] (? is the integer part of nb_epochs/5)\n",
        "    '''\n",
        "    plots = image.reshape(-1,28,28) # [25 x 28 x 28]\n",
        "    ind = 0\n",
        "    plt.show()\n",
        "    while ind < 25:\n",
        "        plt.subplot(5,5,ind+1)\n",
        "        img = plt.imshow(plots[ind,:,:])\n",
        "        plt.axis('off')\n",
        "        ind += 1"
      ],
      "execution_count": 0,
      "outputs": []
    },
    {
      "metadata": {
        "id": "ZmiXNJoNbX9o",
        "colab_type": "code",
        "colab": {},
        "cellView": "form"
      },
      "cell_type": "code",
      "source": [
        "#@title Two-class SVM\n",
        "for i in [0,2,4,6,8,10,12,14]:\n",
        "    print('%d epochs'%5*i)\n",
        "    iter_ = -1\n",
        "    for nu_ in [0.01,0.03,0.05,0.07,0.09]:\n",
        "        for gamma_ in [1e-6,1e-5,1e-4,1e-3,1e-2]:\n",
        "            begin = time.time()\n",
        "            svm_2c = build_svm(oc=False,_nu=nu_,_gamma=gamma_,maxiter=iter_)\n",
        "            x_2c = train_feat[i]\n",
        "            y_2c = train_svm_lab[i]\n",
        "            svm_2c.fit(x_2c,y_2c)\n",
        "            print('training completed')\n",
        "            train_predy = svm_2c.predict(x_2c)\n",
        "            valid_predy = svm_2c.predict(validx)\n",
        "            test_predy = svm_2c.predict(testx)\n",
        "            print('prediction completed')\n",
        "            prec, reca, f1, _ = metrics.precision_recall_fscore_support(testy_svm, test_predy, beta=1.0, pos_label=1, average='binary')\n",
        "            train_area = metrics.roc_auc_score(y_2c, train_predy)\n",
        "            valid_area = metrics.roc_auc_score(validy_svm, valid_predy)\n",
        "            test_area = metrics.roc_auc_score(testy_svm, test_predy)\n",
        "            cf_valid = metrics.confusion_matrix(validy_svm, valid_predy)\n",
        "            cf_test = metrics.confusion_matrix(testy_svm, test_predy)\n",
        "            print('nu: ', nu_)\n",
        "            print('gamma:', gamma_)\n",
        "            print('iter: ', iter_)\n",
        "            print('F1: ', f1)\n",
        "            print('Precision: ', prec)\n",
        "            print('Recall: ', reca)\n",
        "            print('valid Confusion matrix:\\n', cf_valid)\n",
        "            print('test Confusion matrix:\\n', cf_test)\n",
        "            print('train AUROC: ', train_area)\n",
        "            print('valid AUROC: ', valid_area)\n",
        "            print('test AUROC: ', test_area)\n",
        "            print('time: ', time.time()-begin)\n",
        "            print('\\n\\n')"
      ],
      "execution_count": 0,
      "outputs": []
    },
    {
      "metadata": {
        "id": "CJdWBIxTBD7P",
        "colab_type": "text"
      },
      "cell_type": "markdown",
      "source": [
        "# Legacy"
      ]
    },
    {
      "metadata": {
        "id": "gtlslfH7uEiu",
        "colab_type": "text"
      },
      "cell_type": "markdown",
      "source": [
        "### SVMs"
      ]
    },
    {
      "metadata": {
        "id": "0OrrUX2KuD9R",
        "colab_type": "code",
        "colab": {}
      },
      "cell_type": "code",
      "source": [
        "pos_x,_ = get_train(paras.label())\n",
        "train_feat_4q, train_svm_lab_4q = postprocess(gen_exp_log, pos_x, length=5000, neg_train_ratio=1.0)\n",
        "print('Train shapes: ', train_feat_4q[0].shape, train_svm_lab_4q[0].shape)"
      ],
      "execution_count": 0,
      "outputs": []
    },
    {
      "metadata": {
        "id": "4P4oxb3YuD1P",
        "colab_type": "code",
        "colab": {}
      },
      "cell_type": "code",
      "source": [
        "print('70 epochs')\n",
        "iter_ = -1\n",
        "for nu_ in [0.01,0.03,0.05,0.07,0.09]:\n",
        "# for nu_ in [1e-3,5e-3,0.01]:\n",
        "\n",
        "    for gamma_ in [1e-6,1e-5,1e-4,1e-3,1e-2]:\n",
        "#     for gamma_ in [1e-5,2e-5,3e-5,4e-5,5e-5,6e-5,7e-5,8e-5,1e-4]:\n",
        "    #     for nu_ in [1e-2,3e-2,5e-2,7e-2,9e-2]:\n",
        "    #     for nu_ in [5e-2]:\n",
        "        begin = time.time()\n",
        "        svm_2c = build_svm(oc=False,_nu=nu_,_gamma=gamma_,maxiter=iter_)\n",
        "        x_2c = train_feat_4q[-1]\n",
        "        y_2c = train_svm_lab_4q[-1]\n",
        "        svm_2c.fit(x_2c,y_2c)\n",
        "        print('training completed')\n",
        "        train_predy = svm_2c.predict(x_2c)\n",
        "    #     valid_predy_bias = new_predict(svm_2c, -100, validx)\n",
        "        valid_predy = svm_2c.predict(validx)\n",
        "        test_predy = svm_2c.predict(testx)\n",
        "        print('prediction completed')\n",
        "        prec, reca, f1, _ = metrics.precision_recall_fscore_support(testy_svm, test_predy, beta=1.0, pos_label=1, average='binary')\n",
        "        train_area = metrics.roc_auc_score(y_2c, train_predy)\n",
        "        valid_area = metrics.roc_auc_score(validy_svm, valid_predy)\n",
        "        test_area = metrics.roc_auc_score(testy_svm, test_predy)\n",
        "        #     bias_area = metrics.roc_auc_score(validy_svm, valid_predy_bias)\n",
        "        cf_valid = metrics.confusion_matrix(validy_svm, valid_predy)\n",
        "        cf_test = metrics.confusion_matrix(testy_svm, test_predy)\n",
        "        print('nu: ', nu_)\n",
        "        print('gamma:', gamma_)\n",
        "        print('iter: ', iter_)\n",
        "        print('F1: ', f1)\n",
        "        print('Precision: ', prec)\n",
        "        print('Recall: ', reca)\n",
        "        print('valid Confusion matrix:\\n', cf_valid)\n",
        "        print('test Confusion matrix:\\n', cf_test)\n",
        "        print('train AUROC: ', train_area)\n",
        "        print('valid AUROC: ', valid_area)\n",
        "        print('test AUROC: ', test_area)\n",
        "        #     print('biased AUROC: ', bias_area)\n",
        "        print('time: ', time.time()-begin)\n",
        "        print('\\n\\n')"
      ],
      "execution_count": 0,
      "outputs": []
    },
    {
      "metadata": {
        "id": "PX6JBQJjABoH",
        "colab_type": "code",
        "colab": {}
      },
      "cell_type": "code",
      "source": [
        "print('70 epochs')\n",
        "iter_ = -1\n",
        "for nu_ in [0.01,0.03,0.05,0.07,0.09]:\n",
        "# for nu_ in [1e-3,5e-3,0.01]:\n",
        "\n",
        "#     for gamma_ in [1e-6,1e-5,1e-4,1e-3,1e-2]:\n",
        "    for gamma_ in [5e-6,3e-5,5e-5,7e-5]:\n",
        "    #     for nu_ in [1e-2,3e-2,5e-2,7e-2,9e-2]:\n",
        "    #     for nu_ in [5e-2]:\n",
        "        begin = time.time()\n",
        "        svm_2c = build_svm(oc=False,_nu=nu_,_gamma=gamma_,maxiter=iter_)\n",
        "        x_2c = train_feat_4q[-1]\n",
        "        y_2c = train_svm_lab_4q[-1]\n",
        "        svm_2c.fit(x_2c,y_2c)\n",
        "        print('training completed')\n",
        "        train_predy = svm_2c.predict(x_2c)\n",
        "    #     valid_predy_bias = new_predict(svm_2c, -100, validx)\n",
        "        valid_predy = svm_2c.predict(validx)\n",
        "        test_predy = svm_2c.predict(testx)\n",
        "        print('prediction completed')\n",
        "        prec, reca, f1, _ = metrics.precision_recall_fscore_support(testy_svm, test_predy, beta=1.0, pos_label=1, average='binary')\n",
        "        train_area = metrics.roc_auc_score(y_2c, train_predy)\n",
        "        valid_area = metrics.roc_auc_score(validy_svm, valid_predy)\n",
        "        test_area = metrics.roc_auc_score(testy_svm, test_predy)\n",
        "        #     bias_area = metrics.roc_auc_score(validy_svm, valid_predy_bias)\n",
        "        cf_valid = metrics.confusion_matrix(validy_svm, valid_predy)\n",
        "        cf_test = metrics.confusion_matrix(testy_svm, test_predy)\n",
        "        print('nu: ', nu_)\n",
        "        print('gamma:', gamma_)\n",
        "        print('iter: ', iter_)\n",
        "        print('F1: ', f1)\n",
        "        print('Precision: ', prec)\n",
        "        print('Recall: ', reca)\n",
        "        print('valid Confusion matrix:\\n', cf_valid)\n",
        "        print('test Confusion matrix:\\n', cf_test)\n",
        "        print('train AUROC: ', train_area)\n",
        "        print('valid AUROC: ', valid_area)\n",
        "        print('test AUROC: ', test_area)\n",
        "        #     print('biased AUROC: ', bias_area)\n",
        "        print('time: ', time.time()-begin)\n",
        "        print('\\n\\n')"
      ],
      "execution_count": 0,
      "outputs": []
    },
    {
      "metadata": {
        "id": "hRzEsNqUHcT9",
        "colab_type": "code",
        "colab": {}
      },
      "cell_type": "code",
      "source": [
        "print('70 epochs')\n",
        "iter_ = -1\n",
        "for nu_ in [0.01,0.03,0.05,0.07,0.09]:\n",
        "# for nu_ in [1e-3,5e-3,0.01]:\n",
        "\n",
        "    for gamma_ in [1e-6,1e-5,1e-4,1e-3,1e-2]:\n",
        "#     for gamma_ in [1e-5,2e-5,3e-5,4e-5,5e-5,6e-5,7e-5,8e-5,1e-4]:\n",
        "    #     for nu_ in [1e-2,3e-2,5e-2,7e-2,9e-2]:\n",
        "    #     for nu_ in [5e-2]:\n",
        "        begin = time.time()\n",
        "        svm_2c = build_svm(oc=False,_nu=nu_,_gamma=gamma_,maxiter=iter_)\n",
        "        x_2c = train_feat_4q[12]\n",
        "        y_2c = train_svm_lab_4q[12]\n",
        "        svm_2c.fit(x_2c,y_2c)\n",
        "        print('training completed')\n",
        "        train_predy = svm_2c.predict(x_2c)\n",
        "    #     valid_predy_bias = new_predict(svm_2c, -100, validx)\n",
        "        valid_predy = svm_2c.predict(validx)\n",
        "        test_predy = svm_2c.predict(testx)\n",
        "        print('prediction completed')\n",
        "        prec, reca, f1, _ = metrics.precision_recall_fscore_support(testy_svm, test_predy, beta=1.0, pos_label=1, average='binary')\n",
        "        train_area = metrics.roc_auc_score(y_2c, train_predy)\n",
        "        valid_area = metrics.roc_auc_score(validy_svm, valid_predy)\n",
        "        test_area = metrics.roc_auc_score(testy_svm, test_predy)\n",
        "        #     bias_area = metrics.roc_auc_score(validy_svm, valid_predy_bias)\n",
        "        cf_valid = metrics.confusion_matrix(validy_svm, valid_predy)\n",
        "        cf_test = metrics.confusion_matrix(testy_svm, test_predy)\n",
        "        print('nu: ', nu_)\n",
        "        print('gamma:', gamma_)\n",
        "        print('iter: ', iter_)\n",
        "        print('F1: ', f1)\n",
        "        print('Precision: ', prec)\n",
        "        print('Recall: ', reca)\n",
        "        print('valid Confusion matrix:\\n', cf_valid)\n",
        "        print('test Confusion matrix:\\n', cf_test)\n",
        "        print('train AUROC: ', train_area)\n",
        "        print('valid AUROC: ', valid_area)\n",
        "        print('test AUROC: ', test_area)\n",
        "        #     print('biased AUROC: ', bias_area)\n",
        "        print('time: ', time.time()-begin)\n",
        "        print('\\n\\n')"
      ],
      "execution_count": 0,
      "outputs": []
    },
    {
      "metadata": {
        "id": "qg4Q4yOmVxC0",
        "colab_type": "code",
        "colab": {}
      },
      "cell_type": "code",
      "source": [
        "print('70 epochs')\n",
        "iter_ = -1\n",
        "nu_ = 7e-2\n",
        "gamma_ = 1e-5\n",
        "# for nu_ in [0.01,0.03,0.05,0.07,0.09]:\n",
        "# for nu_ in [1e-3,5e-3,0.01]:\n",
        "\n",
        "#     for gamma_ in [1e-6,1e-5,1e-4,1e-3,1e-2]:\n",
        "#     for gamma_ in [1e-5,2e-5,3e-5,4e-5,5e-5,6e-5,7e-5,8e-5,1e-4]:\n",
        "    #     for nu_ in [1e-2,3e-2,5e-2,7e-2,9e-2]:\n",
        "    #     for nu_ in [5e-2]:\n",
        "begin = time.time()\n",
        "# svm_2c = build_svm(oc=False,_nu=nu_,_gamma=gamma_,maxiter=iter_)\n",
        "shoot = svm.NuSVC(nu=nu_,gamma=gamma_,class_weight={1: 1,-1: 10000})\n",
        "x_2c = train_feat_4q[12]\n",
        "y_2c = train_svm_lab_4q[12]\n",
        "shoot.fit(x_2c,y_2c)\n",
        "print('training completed')\n",
        "train_predy = shoot.predict(x_2c)\n",
        "#     valid_predy_bias = new_predict(svm_2c, -100, validx)\n",
        "valid_predy = shoot.predict(validx)\n",
        "test_predy = shoot.predict(testx)\n",
        "print('prediction completed')\n",
        "prec, reca, f1, _ = metrics.precision_recall_fscore_support(testy_svm, test_predy, beta=1.0, pos_label=1, average='binary')\n",
        "train_area = metrics.roc_auc_score(y_2c, train_predy)\n",
        "valid_area = metrics.roc_auc_score(validy_svm, valid_predy)\n",
        "test_area = metrics.roc_auc_score(testy_svm, test_predy)\n",
        "#     bias_area = metrics.roc_auc_score(validy_svm, valid_predy_bias)\n",
        "cf_valid = metrics.confusion_matrix(validy_svm, valid_predy)\n",
        "cf_test = metrics.confusion_matrix(testy_svm, test_predy)\n",
        "print('nu: ', nu_)\n",
        "print('gamma:', gamma_)\n",
        "print('iter: ', iter_)\n",
        "print('F1: ', f1)\n",
        "print('Precision: ', prec)\n",
        "print('Recall: ', reca)\n",
        "print('valid Confusion matrix:\\n', cf_valid)\n",
        "print('test Confusion matrix:\\n', cf_test)\n",
        "print('train AUROC: ', train_area)\n",
        "print('valid AUROC: ', valid_area)\n",
        "print('test AUROC: ', test_area)\n",
        "#     print('biased AUROC: ', bias_area)\n",
        "print('time: ', time.time()-begin)\n",
        "print('\\n\\n')"
      ],
      "execution_count": 0,
      "outputs": []
    },
    {
      "metadata": {
        "id": "Xuj8U9zv6__j",
        "colab_type": "text"
      },
      "cell_type": "markdown",
      "source": [
        "## Ano = (3,5)"
      ]
    },
    {
      "metadata": {
        "id": "u1kBuBT36_wH",
        "colab_type": "code",
        "colab": {}
      },
      "cell_type": "code",
      "source": [
        "to_plot, train_loss_gen_log, train_loss_dis_log, gen_exp_log, train_roc_log, test_roc_log = run(paras,testx,testy_dis)"
      ],
      "execution_count": 0,
      "outputs": []
    },
    {
      "metadata": {
        "id": "ANNAzunFmhK9",
        "colab_type": "code",
        "colab": {}
      },
      "cell_type": "code",
      "source": [
        "plot_gen(gen_exp_log)"
      ],
      "execution_count": 0,
      "outputs": []
    },
    {
      "metadata": {
        "id": "pZf2JriIb26j",
        "colab_type": "text"
      },
      "cell_type": "markdown",
      "source": [
        "### Take 2"
      ]
    },
    {
      "metadata": {
        "id": "_O4K8Wehb1jx",
        "colab_type": "code",
        "colab": {}
      },
      "cell_type": "code",
      "source": [
        "plot_learning_curves(train_loss_gen_log, train_loss_dis_log)"
      ],
      "execution_count": 0,
      "outputs": []
    },
    {
      "metadata": {
        "id": "1k65pouQb1gv",
        "colab_type": "code",
        "colab": {}
      },
      "cell_type": "code",
      "source": [
        "plot_roc_curves(train_roc_log, test_roc_log)"
      ],
      "execution_count": 0,
      "outputs": []
    },
    {
      "metadata": {
        "id": "AduqkrBab1WM",
        "colab_type": "code",
        "colab": {}
      },
      "cell_type": "code",
      "source": [
        "np.mean(test_roc_log[-5:])"
      ],
      "execution_count": 0,
      "outputs": []
    },
    {
      "metadata": {
        "id": "TtaIQ8CLbpt6",
        "colab_type": "text"
      },
      "cell_type": "markdown",
      "source": [
        "### Take 1 | 0.754"
      ]
    },
    {
      "metadata": {
        "id": "o_0fUv_J6_oQ",
        "colab_type": "code",
        "colab": {}
      },
      "cell_type": "code",
      "source": [
        "plot_learning_curves(train_loss_gen_log, train_loss_dis_log)"
      ],
      "execution_count": 0,
      "outputs": []
    },
    {
      "metadata": {
        "id": "s8yoboe16_Bl",
        "colab_type": "code",
        "colab": {}
      },
      "cell_type": "code",
      "source": [
        "plot_roc_curves(train_roc_log, test_roc_log)"
      ],
      "execution_count": 0,
      "outputs": []
    },
    {
      "metadata": {
        "id": "Wl06SZ5P7JQH",
        "colab_type": "code",
        "colab": {}
      },
      "cell_type": "code",
      "source": [
        "np.mean(test_roc_log[-5:])"
      ],
      "execution_count": 0,
      "outputs": []
    },
    {
      "metadata": {
        "id": "kS7v0huCGX9q",
        "colab_type": "text"
      },
      "cell_type": "markdown",
      "source": [
        "## Ano = 0"
      ]
    },
    {
      "metadata": {
        "id": "1OQILNmIGr62",
        "colab_type": "code",
        "colab": {}
      },
      "cell_type": "code",
      "source": [
        "to_plot, train_loss_gen_log, train_loss_dis_log, gen_exp_log, train_roc_log, test_roc_log = run(paras,testx,testy_dis)"
      ],
      "execution_count": 0,
      "outputs": []
    },
    {
      "metadata": {
        "id": "gcsYCDppGsi_",
        "colab_type": "code",
        "colab": {}
      },
      "cell_type": "code",
      "source": [
        "plot_learning_curves(train_loss_gen_log, train_loss_dis_log)"
      ],
      "execution_count": 0,
      "outputs": []
    },
    {
      "metadata": {
        "id": "0YG2zxo2GtDU",
        "colab_type": "code",
        "colab": {}
      },
      "cell_type": "code",
      "source": [
        "plot_roc_curves(train_roc_log, test_roc_log)"
      ],
      "execution_count": 0,
      "outputs": []
    },
    {
      "metadata": {
        "id": "WX8qkIQRf_Q3",
        "colab_type": "code",
        "colab": {}
      },
      "cell_type": "code",
      "source": [
        "np.mean(test_roc_log[-4:])"
      ],
      "execution_count": 0,
      "outputs": []
    },
    {
      "metadata": {
        "id": "nDZbC4M1j2JQ",
        "colab_type": "code",
        "colab": {}
      },
      "cell_type": "code",
      "source": [
        "pos_x,_ = get_train(paras.label())\n",
        "train_feat_4q, train_svm_lab_4q = postprocess(gen_exp_log, pos_x, length=20000, neg_train_ratio=1.0)\n",
        "print('Train shapes: ', train_feat_4q[0].shape, train_svm_lab_4q[0].shape)"
      ],
      "execution_count": 0,
      "outputs": []
    },
    {
      "metadata": {
        "id": "VZleZputkE2R",
        "colab_type": "code",
        "colab": {}
      },
      "cell_type": "code",
      "source": [
        "print('70 epochs')\n",
        "iter_ = -1\n",
        "# for nu_ in [0.01,0.03,0.05,0.07,0.09]:\n",
        "for nu_ in [1e-3,5e-3,0.01]:\n",
        "\n",
        "#     for gamma_ in [1e-6,1e-5,1e-4,1e-3,1e-2]:\n",
        "    for gamma_ in [1e-5,2e-5,3e-5,4e-5,5e-5,6e-5,7e-5,8e-5,1e-4]:\n",
        "    #     for nu_ in [1e-2,3e-2,5e-2,7e-2,9e-2]:\n",
        "    #     for nu_ in [5e-2]:\n",
        "        begin = time.time()\n",
        "        svm_2c = build_svm(oc=False,_nu=nu_,_gamma=gamma_,maxiter=iter_)\n",
        "        x_2c = train_feat_4q[-1]\n",
        "        y_2c = train_svm_lab_4q[-1]\n",
        "        svm_2c.fit(x_2c,y_2c)\n",
        "        print('training completed')\n",
        "        train_predy = svm_2c.predict(x_2c)\n",
        "    #     valid_predy_bias = new_predict(svm_2c, -100, validx)\n",
        "        valid_predy = svm_2c.predict(validx)\n",
        "        test_predy = svm_2c.predict(testx)\n",
        "        print('prediction completed')\n",
        "        train_area = metrics.roc_auc_score(y_2c, train_predy)\n",
        "        valid_area = metrics.roc_auc_score(validy_svm, valid_predy)\n",
        "        test_area = metrics.roc_auc_score(testy_svm, test_predy)\n",
        "        #     bias_area = metrics.roc_auc_score(validy_svm, valid_predy_bias)\n",
        "        cf_valid = metrics.confusion_matrix(validy_svm, valid_predy)\n",
        "        cf_test = metrics.confusion_matrix(testy_svm, test_predy)\n",
        "        print('nu: ', nu_)\n",
        "        print('gamma:', gamma_)\n",
        "        print('iter: ', iter_)\n",
        "        print('F1: ', f1)\n",
        "        print('Precision: ', prec)\n",
        "        print('Recall: ', reca)\n",
        "        print('valid Confusion matrix:\\n', cf_valid)\n",
        "        print('test Confusion matrix:\\n', cf_test)\n",
        "        print('train AUROC: ', train_area)\n",
        "        print('valid AUROC: ', valid_area)\n",
        "        print('test AUROC: ', test_area)\n",
        "        #     print('biased AUROC: ', bias_area)\n",
        "        print('time: ', time.time()-begin)\n",
        "        print('\\n\\n')"
      ],
      "execution_count": 0,
      "outputs": []
    },
    {
      "metadata": {
        "id": "4r6Zgtc4GXd3",
        "colab_type": "text"
      },
      "cell_type": "markdown",
      "source": [
        "## Ano = 1"
      ]
    },
    {
      "metadata": {
        "id": "bhQEKaZxG1Jd",
        "colab_type": "code",
        "colab": {}
      },
      "cell_type": "code",
      "source": [
        "to_plot, train_loss_gen_log, train_loss_dis_log, gen_exp_log, train_roc_log, test_roc_log = run(paras,testx,testy_dis)"
      ],
      "execution_count": 0,
      "outputs": []
    },
    {
      "metadata": {
        "id": "ix9enYm0G1oJ",
        "colab_type": "code",
        "colab": {}
      },
      "cell_type": "code",
      "source": [
        "plot_learning_curves(train_loss_gen_log, train_loss_dis_log)"
      ],
      "execution_count": 0,
      "outputs": []
    },
    {
      "metadata": {
        "id": "5yJYLkqVG36A",
        "colab_type": "code",
        "colab": {}
      },
      "cell_type": "code",
      "source": [
        "plot_roc_curves(train_roc_log, test_roc_log)"
      ],
      "execution_count": 0,
      "outputs": []
    },
    {
      "metadata": {
        "id": "nHgT9xf2GW62",
        "colab_type": "text"
      },
      "cell_type": "markdown",
      "source": [
        "## Ano = 2"
      ]
    },
    {
      "metadata": {
        "id": "3ZgLD24vG9ZM",
        "colab_type": "code",
        "colab": {}
      },
      "cell_type": "code",
      "source": [
        "to_plot, train_loss_gen_log, train_loss_dis_log, gen_exp_log, train_roc_log, test_roc_log = run(paras,testx,testy_dis)"
      ],
      "execution_count": 0,
      "outputs": []
    },
    {
      "metadata": {
        "id": "43MBkFxX4P-r",
        "colab_type": "text"
      },
      "cell_type": "markdown",
      "source": [
        "### Take 2 | 0.781"
      ]
    },
    {
      "metadata": {
        "id": "9qcbPEtK4LTC",
        "colab_type": "code",
        "colab": {}
      },
      "cell_type": "code",
      "source": [
        "plot_learning_curves(train_loss_gen_log, train_loss_dis_log)"
      ],
      "execution_count": 0,
      "outputs": []
    },
    {
      "metadata": {
        "id": "J8x44TwF4Kzd",
        "colab_type": "code",
        "colab": {}
      },
      "cell_type": "code",
      "source": [
        "plot_roc_curves(train_roc_log, test_roc_log)"
      ],
      "execution_count": 0,
      "outputs": []
    },
    {
      "metadata": {
        "id": "2x4Svi_54Kw0",
        "colab_type": "code",
        "colab": {}
      },
      "cell_type": "code",
      "source": [
        "np.mean(test_roc_log[-5:])"
      ],
      "execution_count": 0,
      "outputs": []
    },
    {
      "metadata": {
        "id": "L74E4K884Rru",
        "colab_type": "text"
      },
      "cell_type": "markdown",
      "source": [
        "### Take 1 | 0.759"
      ]
    },
    {
      "metadata": {
        "id": "uvbXQAKoG90u",
        "colab_type": "code",
        "colab": {}
      },
      "cell_type": "code",
      "source": [
        "plot_learning_curves(train_loss_gen_log, train_loss_dis_log)"
      ],
      "execution_count": 0,
      "outputs": []
    },
    {
      "metadata": {
        "id": "Xl9o_uYSG_pP",
        "colab_type": "code",
        "colab": {}
      },
      "cell_type": "code",
      "source": [
        "plot_roc_curves(train_roc_log, test_roc_log)"
      ],
      "execution_count": 0,
      "outputs": []
    },
    {
      "metadata": {
        "id": "RNFUk2WL3Cht",
        "colab_type": "code",
        "colab": {}
      },
      "cell_type": "code",
      "source": [
        "np.mean(test_roc_log[-5:])"
      ],
      "execution_count": 0,
      "outputs": []
    },
    {
      "metadata": {
        "id": "QtX5p3n5GV9f",
        "colab_type": "text"
      },
      "cell_type": "markdown",
      "source": [
        "## Ano = 3"
      ]
    },
    {
      "metadata": {
        "id": "otRgkzpTHY7b",
        "colab_type": "code",
        "colab": {}
      },
      "cell_type": "code",
      "source": [
        "to_plot, train_loss_gen_log, train_loss_dis_log, gen_exp_log, train_roc_log, test_roc_log = run(paras,testx,testy_dis)"
      ],
      "execution_count": 0,
      "outputs": []
    },
    {
      "metadata": {
        "id": "qzZaTPKSHYy2",
        "colab_type": "code",
        "colab": {}
      },
      "cell_type": "code",
      "source": [
        "plot_learning_curves(train_loss_gen_log, train_loss_dis_log)"
      ],
      "execution_count": 0,
      "outputs": []
    },
    {
      "metadata": {
        "id": "bI_wCGubHYpW",
        "colab_type": "code",
        "colab": {}
      },
      "cell_type": "code",
      "source": [
        "plot_roc_curves(train_roc_log, test_roc_log)"
      ],
      "execution_count": 0,
      "outputs": []
    },
    {
      "metadata": {
        "id": "M0AsPOzaGUx2",
        "colab_type": "text"
      },
      "cell_type": "markdown",
      "source": [
        "## Ano = 4"
      ]
    },
    {
      "metadata": {
        "id": "0ewmPL3bHdAZ",
        "colab_type": "code",
        "colab": {}
      },
      "cell_type": "code",
      "source": [
        "to_plot, train_loss_gen_log, train_loss_dis_log, gen_exp_log, train_roc_log, test_roc_log = run(paras,testx,testy_dis)"
      ],
      "execution_count": 0,
      "outputs": []
    },
    {
      "metadata": {
        "id": "u9T4SvI2HeFM",
        "colab_type": "code",
        "colab": {}
      },
      "cell_type": "code",
      "source": [
        "plot_learning_curves(train_loss_gen_log, train_loss_dis_log)"
      ],
      "execution_count": 0,
      "outputs": []
    },
    {
      "metadata": {
        "id": "Z-MSUGzPHfr3",
        "colab_type": "code",
        "colab": {}
      },
      "cell_type": "code",
      "source": [
        "plot_roc_curves(train_roc_log, test_roc_log)"
      ],
      "execution_count": 0,
      "outputs": []
    },
    {
      "metadata": {
        "id": "Ub2XPgJYGNnz",
        "colab_type": "text"
      },
      "cell_type": "markdown",
      "source": [
        "## Ano = 5"
      ]
    },
    {
      "metadata": {
        "id": "NokWnMtUHh19",
        "colab_type": "code",
        "colab": {}
      },
      "cell_type": "code",
      "source": [
        "to_plot, train_loss_gen_log, train_loss_dis_log, gen_exp_log, train_roc_log, test_roc_log = run(paras,testx,testy_dis)"
      ],
      "execution_count": 0,
      "outputs": []
    },
    {
      "metadata": {
        "id": "RZxmkrHJHi9r",
        "colab_type": "code",
        "colab": {}
      },
      "cell_type": "code",
      "source": [
        "plot_learning_curves(train_loss_gen_log, train_loss_dis_log)"
      ],
      "execution_count": 0,
      "outputs": []
    },
    {
      "metadata": {
        "id": "p-CbIIu6Hld4",
        "colab_type": "code",
        "colab": {}
      },
      "cell_type": "code",
      "source": [
        "plot_roc_curves(train_roc_log, test_roc_log)"
      ],
      "execution_count": 0,
      "outputs": []
    },
    {
      "metadata": {
        "id": "z9tmWJ74GNXr",
        "colab_type": "text"
      },
      "cell_type": "markdown",
      "source": [
        "## Ano = 6"
      ]
    },
    {
      "metadata": {
        "id": "7pXhDAqGHnpk",
        "colab_type": "code",
        "colab": {}
      },
      "cell_type": "code",
      "source": [
        "to_plot, train_loss_gen_log, train_loss_dis_log, gen_exp_log, train_roc_log, test_roc_log = run(paras,testx,testy_dis)"
      ],
      "execution_count": 0,
      "outputs": []
    },
    {
      "metadata": {
        "id": "xPRXmGnBHotG",
        "colab_type": "code",
        "colab": {}
      },
      "cell_type": "code",
      "source": [
        "plot_learning_curves(train_loss_gen_log, train_loss_dis_log)"
      ],
      "execution_count": 0,
      "outputs": []
    },
    {
      "metadata": {
        "id": "fsfx68ZGHps4",
        "colab_type": "code",
        "colab": {}
      },
      "cell_type": "code",
      "source": [
        "plot_roc_curves(train_roc_log, test_roc_log)"
      ],
      "execution_count": 0,
      "outputs": []
    },
    {
      "metadata": {
        "id": "L0HksL3dGNDk",
        "colab_type": "text"
      },
      "cell_type": "markdown",
      "source": [
        "## Ano = 7"
      ]
    },
    {
      "metadata": {
        "id": "PdJ7yTRUHrb6",
        "colab_type": "code",
        "colab": {}
      },
      "cell_type": "code",
      "source": [
        "to_plot, train_loss_gen_log, train_loss_dis_log, gen_exp_log, train_roc_log, test_roc_log = run(paras,testx,testy_dis)"
      ],
      "execution_count": 0,
      "outputs": []
    },
    {
      "metadata": {
        "id": "Hw3yAWMPHsof",
        "colab_type": "code",
        "colab": {}
      },
      "cell_type": "code",
      "source": [
        "plot_learning_curves(train_loss_gen_log, train_loss_dis_log)"
      ],
      "execution_count": 0,
      "outputs": []
    },
    {
      "metadata": {
        "id": "TLtdQherHuM6",
        "colab_type": "code",
        "colab": {}
      },
      "cell_type": "code",
      "source": [
        "plot_roc_curves(train_roc_log, test_roc_log)"
      ],
      "execution_count": 0,
      "outputs": []
    },
    {
      "metadata": {
        "id": "9Y3qS6ynF6jh",
        "colab_type": "text"
      },
      "cell_type": "markdown",
      "source": [
        "## Ano = 8"
      ]
    },
    {
      "metadata": {
        "id": "e4FhmGoxF6UM",
        "colab_type": "code",
        "colab": {}
      },
      "cell_type": "code",
      "source": [
        "to_plot, train_loss_gen_log, train_loss_dis_log, gen_exp_log, train_roc_log, test_roc_log = run(paras,testx,testy_dis)"
      ],
      "execution_count": 0,
      "outputs": []
    },
    {
      "metadata": {
        "id": "qsqV08tzF6LD",
        "colab_type": "code",
        "colab": {}
      },
      "cell_type": "code",
      "source": [
        "plot_learning_curves(train_loss_gen_log, train_loss_dis_log)"
      ],
      "execution_count": 0,
      "outputs": []
    },
    {
      "metadata": {
        "id": "Ybdex2nLF6CO",
        "colab_type": "code",
        "colab": {}
      },
      "cell_type": "code",
      "source": [
        "plot_roc_curves(train_roc_log, test_roc_log)"
      ],
      "execution_count": 0,
      "outputs": []
    },
    {
      "metadata": {
        "id": "028gVe0dF_mK",
        "colab_type": "text"
      },
      "cell_type": "markdown",
      "source": [
        "## Ano = 9"
      ]
    },
    {
      "metadata": {
        "id": "euEFh0i8Hxkx",
        "colab_type": "code",
        "colab": {}
      },
      "cell_type": "code",
      "source": [
        "to_plot, train_loss_gen_log, train_loss_dis_log, gen_exp_log, train_roc_log, test_roc_log = run(paras,testx,testy_dis)"
      ],
      "execution_count": 0,
      "outputs": []
    },
    {
      "metadata": {
        "id": "mjXB90xWHwdV",
        "colab_type": "code",
        "colab": {}
      },
      "cell_type": "code",
      "source": [
        "plot_learning_curves(train_loss_gen_log, train_loss_dis_log)"
      ],
      "execution_count": 0,
      "outputs": []
    },
    {
      "metadata": {
        "id": "aSxs5rKBGCqZ",
        "colab_type": "code",
        "colab": {}
      },
      "cell_type": "code",
      "source": [
        "plot_roc_curves(train_roc_log, test_roc_log)"
      ],
      "execution_count": 0,
      "outputs": []
    },
    {
      "metadata": {
        "id": "HpbLiAPAGHfx",
        "colab_type": "text"
      },
      "cell_type": "markdown",
      "source": [
        "## OLD "
      ]
    },
    {
      "metadata": {
        "id": "waiDKgue8e5U",
        "colab_type": "text"
      },
      "cell_type": "markdown",
      "source": [
        "### Instructions:\n",
        "\n",
        "\n",
        "1.   Add uniform noise to the broader of anomalies (when after 5 epochs)\n",
        "2.   Add Gaussian noise to anomalies (when after 50 epochs)\n",
        "2.   Change to linear kernel\n",
        "\n"
      ]
    },
    {
      "metadata": {
        "id": "k1BsUS14umb-",
        "colab_type": "text"
      },
      "cell_type": "markdown",
      "source": [
        "## Ano = 8"
      ]
    },
    {
      "metadata": {
        "id": "CUEAS12sul2T",
        "colab_type": "code",
        "colab": {}
      },
      "cell_type": "code",
      "source": [
        "to_plot, train_loss_gen_log, train_loss_dis_log, gen_exp_log, train_roc_log, test_roc_log = run(paras,testx,testy_dis)"
      ],
      "execution_count": 0,
      "outputs": []
    },
    {
      "metadata": {
        "id": "D1hZpvugvwQ3",
        "colab_type": "text"
      },
      "cell_type": "markdown",
      "source": [
        "## Curves"
      ]
    },
    {
      "metadata": {
        "id": "nv_sKK93B8Uq",
        "colab_type": "code",
        "colab": {}
      },
      "cell_type": "code",
      "source": [
        "plot_learning_curves(train_loss_gen_log, train_loss_dis_log)"
      ],
      "execution_count": 0,
      "outputs": []
    },
    {
      "metadata": {
        "id": "-WSPxUd3B7_4",
        "colab_type": "code",
        "colab": {}
      },
      "cell_type": "code",
      "source": [
        "plot_roc_curves(train_roc_log, test_roc_log)"
      ],
      "execution_count": 0,
      "outputs": []
    },
    {
      "metadata": {
        "id": "VUWBuFBuvzvu",
        "colab_type": "text"
      },
      "cell_type": "markdown",
      "source": [
        "## SVM"
      ]
    },
    {
      "metadata": {
        "id": "ui4z6SLjfi3-",
        "colab_type": "code",
        "colab": {}
      },
      "cell_type": "code",
      "source": [
        "pos_x,_ = get_train(paras.label())\n",
        "train_feat_0q, train_svm_lab_0q = postprocess(gen_exp_log, pos_x, length=5000, neg_train_ratio=0)\n",
        "print('Train shapes: ', train_feat_0q[0].shape, train_svm_lab_0q[0].shape)"
      ],
      "execution_count": 0,
      "outputs": []
    },
    {
      "metadata": {
        "id": "qpvFg2Rf-ePl",
        "colab_type": "code",
        "colab": {}
      },
      "cell_type": "code",
      "source": [
        "pos_x,_ = get_train(paras.label())\n",
        "train_feat_1q, train_svm_lab_1q = postprocess(gen_exp_log, pos_x, length=4000, neg_train_ratio=0.25)\n",
        "print('Train shapes: ', train_feat_1q[0].shape, train_svm_lab_1q[0].shape)"
      ],
      "execution_count": 0,
      "outputs": []
    },
    {
      "metadata": {
        "id": "za8xl2oWd-VF",
        "colab_type": "code",
        "colab": {}
      },
      "cell_type": "code",
      "source": [
        "pos_x,_ = get_train(paras.label())\n",
        "train_feat_2q, train_svm_lab_2q = postprocess(gen_exp_log, pos_x, length=3333, neg_train_ratio=0.50)\n",
        "print('Train shapes: ', train_feat_2q[0].shape, train_svm_lab_2q[0].shape)"
      ],
      "execution_count": 0,
      "outputs": []
    },
    {
      "metadata": {
        "id": "SSqwkRZL-eFI",
        "colab_type": "code",
        "colab": {}
      },
      "cell_type": "code",
      "source": [
        "pos_x,_ = get_train(paras.label())\n",
        "train_feat_3q, train_svm_lab_3q = postprocess(gen_exp_log, pos_x, length=2857, neg_train_ratio=0.75)\n",
        "print('Train shapes: ', train_feat_3q[0].shape, train_svm_lab_3q[0].shape)"
      ],
      "execution_count": 0,
      "outputs": []
    },
    {
      "metadata": {
        "id": "YekUtDfLeE7o",
        "colab_type": "code",
        "colab": {}
      },
      "cell_type": "code",
      "source": [
        "pos_x,_ = get_train(paras.label())\n",
        "train_feat_4q, train_svm_lab_4q = postprocess(gen_exp_log, pos_x, length=2500, neg_train_ratio=1.00)\n",
        "print('Train shapes: ', train_feat_4q[0].shape, train_svm_lab_4q[0].shape)"
      ],
      "execution_count": 0,
      "outputs": []
    },
    {
      "metadata": {
        "id": "9yo9_OU5TI-l",
        "colab_type": "text"
      },
      "cell_type": "markdown",
      "source": [
        "## SVMs with changing threshold (b)"
      ]
    },
    {
      "metadata": {
        "id": "S5-2p7fdUG8h",
        "colab_type": "code",
        "colab": {}
      },
      "cell_type": "code",
      "source": [
        "def new_predict(clf, new_bias, X):\n",
        "    print('Old b: ', clf.intercept_)\n",
        "    print('New b: ', new_bias)\n",
        "    return np.sign(clf.decision_function(X) - clf.intercept_ + new_bias)"
      ],
      "execution_count": 0,
      "outputs": []
    },
    {
      "metadata": {
        "id": "6-ZN0VIYVA7A",
        "colab_type": "code",
        "colab": {}
      },
      "cell_type": "code",
      "source": [
        "svm_2c.decision_function(x_2c)"
      ],
      "execution_count": 0,
      "outputs": []
    },
    {
      "metadata": {
        "id": "ci4Be3RRa34f",
        "colab_type": "code",
        "colab": {}
      },
      "cell_type": "code",
      "source": [
        "x_2c.max()"
      ],
      "execution_count": 0,
      "outputs": []
    },
    {
      "metadata": {
        "id": "Fo0sE5YSTOeU",
        "colab_type": "code",
        "colab": {}
      },
      "cell_type": "code",
      "source": [
        "print('0 epochs')\n",
        "iter_ = -1\n",
        "nu_ = 0.01\n",
        "gamma_=0.05\n",
        "# for gamma_ in [5e-5,6e-5,7e-5,8e-5,1e-4]:\n",
        "#     for nu_ in [1e-2,3e-2,5e-2,7e-2,9e-2]:\n",
        "#     for nu_ in [5e-2]:\n",
        "begin = time.time()\n",
        "svm_2c = build_svm(oc=False,_nu=nu_,_gamma=gamma_,maxiter=iter_)\n",
        "x_2c = train_feat_1q[0]\n",
        "y_2c = train_svm_lab_1q[0]\n",
        "svm_2c.fit(x_2c,y_2c)\n",
        "print('training completed')\n",
        "train_predy = svm_2c.predict(x_2c)\n",
        "valid_predy_bias = new_predict(svm_2c, -100, validx)\n",
        "valid_predy = svm_2c.predict(validx)\n",
        "f1 = metrics.f1_score(validy_svm, valid_predy)\n",
        "prec, reca, f1, _ = metrics.precision_recall_fscore_support(validy_svm, valid_predy, beta=1.0, pos_label=1, average='binary')\n",
        "train_area = metrics.roc_auc_score(y_2c, train_predy)\n",
        "valid_area = metrics.roc_auc_score(validy_svm, valid_predy)  \n",
        "bias_area = metrics.roc_auc_score(validy_svm, valid_predy_bias)\n",
        "cf = metrics.confusion_matrix(validy_svm, valid_predy)\n",
        "print('nu: ', nu_)\n",
        "print('gamma:', gamma_)\n",
        "print('iter: ', iter_)\n",
        "print('F1: ', f1)\n",
        "print('Precision: ', prec)\n",
        "print('Recall: ', reca)\n",
        "print('valid Confusion matrix:\\n', cf)\n",
        "print('train AUROC: ', train_area)\n",
        "print('valid AUROC: ', valid_area)\n",
        "print('biased AUROC: ', bias_area)\n",
        "print('time: ', time.time()-begin)\n",
        "print('\\n\\n')"
      ],
      "execution_count": 0,
      "outputs": []
    },
    {
      "metadata": {
        "id": "D3s5N3SFTOYo",
        "colab_type": "code",
        "colab": {}
      },
      "cell_type": "code",
      "source": [
        ""
      ],
      "execution_count": 0,
      "outputs": []
    },
    {
      "metadata": {
        "id": "CkOHRrVmS43e",
        "colab_type": "text"
      },
      "cell_type": "markdown",
      "source": [
        "## Different pos:neg"
      ]
    },
    {
      "metadata": {
        "id": "6ZucH7j8iUmp",
        "colab_type": "text"
      },
      "cell_type": "markdown",
      "source": [
        "### 1:0.25"
      ]
    },
    {
      "metadata": {
        "id": "SKbjdUoiktaq",
        "colab_type": "code",
        "colab": {}
      },
      "cell_type": "code",
      "source": [
        "print('0 epochs')\n",
        "iter_ = -1\n",
        "nu_ = 0.01\n",
        "for gamma_ in [5e-5,6e-5,7e-5,8e-5,1e-4]:\n",
        "#     for nu_ in [1e-2,3e-2,5e-2,7e-2,9e-2]:\n",
        "    for nu_ in [5e-2]:\n",
        "        begin = time.time()\n",
        "        svm_2c = build_svm(oc=False,_nu=nu_,_gamma=gamma_,maxiter=iter_)\n",
        "        x_2c = train_feat_1q[0]\n",
        "        y_2c = train_svm_lab_1q[0]\n",
        "        svm_2c.fit(x_2c,y_2c)\n",
        "        train_predy = svm_2c.predict(x_2c)\n",
        "        valid_predy = svm_2c.predict(validx)\n",
        "        f1 = metrics.f1_score(validy_svm, valid_predy)\n",
        "        prec, reca, f1, _ = metrics.precision_recall_fscore_support(validy_svm, valid_predy, beta=1.0, pos_label=1, average='binary')\n",
        "        train_area = metrics.roc_auc_score(y_2c, train_predy)\n",
        "        valid_area = metrics.roc_auc_score(validy_svm, valid_predy)  \n",
        "        cf = metrics.confusion_matrix(validy_svm, valid_predy)\n",
        "        print('nu: ', nu_)\n",
        "        print('gamma:', gamma_)\n",
        "        print('iter: ', iter_)\n",
        "        print('F1: ', f1)\n",
        "        print('Precision: ', prec)\n",
        "        print('Recall: ', reca)\n",
        "        print('valid Confusion matrix:\\n', cf)\n",
        "        print('train AUROC: ', train_area)\n",
        "        print('valid AUROC: ', valid_area)\n",
        "        print('time: ', time.time()-begin)\n",
        "        print('\\n\\n')"
      ],
      "execution_count": 0,
      "outputs": []
    },
    {
      "metadata": {
        "id": "putW26ktkssj",
        "colab_type": "code",
        "colab": {}
      },
      "cell_type": "code",
      "source": [
        "print('10 epochs')\n",
        "iter_ = -1\n",
        "nu_ = 0.01\n",
        "for gamma_ in [5e-5,6e-5,7e-5,8e-5,1e-4]:\n",
        "#     for nu_ in [1e-2,3e-2,5e-2,7e-2,9e-2]:\n",
        "    for nu_ in [5e-2]:\n",
        "        begin = time.time()\n",
        "        svm_2c = build_svm(oc=False,_nu=nu_,_gamma=gamma_,maxiter=iter_)\n",
        "        x_2c = train_feat_1q[2]\n",
        "        y_2c = train_svm_lab_1q[2]\n",
        "        svm_2c.fit(x_2c,y_2c)\n",
        "        train_predy = svm_2c.predict(x_2c)\n",
        "        valid_predy = svm_2c.predict(validx)\n",
        "        f1 = metrics.f1_score(validy_svm, valid_predy)\n",
        "        prec, reca, f1, _ = metrics.precision_recall_fscore_support(validy_svm, valid_predy, beta=1.0, pos_label=1, average='binary')\n",
        "        train_area = metrics.roc_auc_score(y_2c, train_predy)\n",
        "        valid_area = metrics.roc_auc_score(validy_svm, valid_predy)  \n",
        "        cf = metrics.confusion_matrix(validy_svm, valid_predy)\n",
        "        print('nu: ', nu_)\n",
        "        print('gamma:', gamma_)\n",
        "        print('iter: ', iter_)\n",
        "        print('F1: ', f1)\n",
        "        print('Precision: ', prec)\n",
        "        print('Recall: ', reca)\n",
        "        print('valid Confusion matrix:\\n', cf)\n",
        "        print('train AUROC: ', train_area)\n",
        "        print('valid AUROC: ', valid_area)\n",
        "        print('time: ', time.time()-begin)\n",
        "        print('\\n\\n')"
      ],
      "execution_count": 0,
      "outputs": []
    },
    {
      "metadata": {
        "id": "mLE9oyY5kZuZ",
        "colab_type": "code",
        "colab": {}
      },
      "cell_type": "code",
      "source": [
        "print('20 epochs')\n",
        "iter_ = -1\n",
        "nu_ = 0.01\n",
        "# for gamma_ in [5e-5,6e-5,7e-5,8e-5,1e-4]:\n",
        "for gamma_ in [8e-5,1e-4,5e-4,1e-3]:\n",
        "#     for nu_ in [1e-2,3e-2,5e-2,7e-2,9e-2]:\n",
        "    for nu_ in [5e-2]:\n",
        "        begin = time.time()\n",
        "        svm_2c = build_svm(oc=False,_nu=nu_,_gamma=gamma_,maxiter=iter_)\n",
        "        x_2c = train_feat_1q[4]\n",
        "        y_2c = train_svm_lab_1q[4]\n",
        "        svm_2c.fit(x_2c,y_2c)\n",
        "        train_predy = svm_2c.predict(x_2c)\n",
        "        valid_predy = svm_2c.predict(validx)\n",
        "        f1 = metrics.f1_score(validy_svm, valid_predy)\n",
        "        prec, reca, f1, _ = metrics.precision_recall_fscore_support(validy_svm, valid_predy, beta=1.0, pos_label=1, average='binary')\n",
        "        train_area = metrics.roc_auc_score(y_2c, train_predy)\n",
        "        valid_area = metrics.roc_auc_score(validy_svm, valid_predy)  \n",
        "        cf = metrics.confusion_matrix(validy_svm, valid_predy)\n",
        "        print('nu: ', nu_)\n",
        "        print('gamma:', gamma_)\n",
        "        print('iter: ', iter_)\n",
        "        print('F1: ', f1)\n",
        "        print('Precision: ', prec)\n",
        "        print('Recall: ', reca)\n",
        "        print('valid Confusion matrix:\\n', cf)\n",
        "        print('train AUROC: ', train_area)\n",
        "        print('valid AUROC: ', valid_area)\n",
        "        print('time: ', time.time()-begin)\n",
        "        print('\\n\\n')"
      ],
      "execution_count": 0,
      "outputs": []
    },
    {
      "metadata": {
        "id": "1r2B99pfjw05",
        "colab_type": "code",
        "colab": {}
      },
      "cell_type": "code",
      "source": [
        "print('30 epochs')\n",
        "iter_ = -1\n",
        "nu_ = 0.01\n",
        "for gamma_ in [5e-5,6e-5,7e-5,8e-5,1e-4]:\n",
        "#     for nu_ in [1e-2,3e-2,5e-2,7e-2,9e-2]:\n",
        "    for nu_ in [5e-2]:\n",
        "        begin = time.time()\n",
        "        svm_2c = build_svm(oc=False,_nu=nu_,_gamma=gamma_,maxiter=iter_)\n",
        "        x_2c = train_feat_1q[6]\n",
        "        y_2c = train_svm_lab_1q[6]\n",
        "        svm_2c.fit(x_2c,y_2c)\n",
        "        train_predy = svm_2c.predict(x_2c)\n",
        "        valid_predy = svm_2c.predict(validx)\n",
        "        f1 = metrics.f1_score(validy_svm, valid_predy)\n",
        "        prec, reca, f1, _ = metrics.precision_recall_fscore_support(validy_svm, valid_predy, beta=1.0, pos_label=1, average='binary')\n",
        "        train_area = metrics.roc_auc_score(y_2c, train_predy)\n",
        "        valid_area = metrics.roc_auc_score(validy_svm, valid_predy)  \n",
        "        cf = metrics.confusion_matrix(validy_svm, valid_predy)\n",
        "        print('nu: ', nu_)\n",
        "        print('gamma:', gamma_)\n",
        "        print('iter: ', iter_)\n",
        "        print('F1: ', f1)\n",
        "        print('Precision: ', prec)\n",
        "        print('Recall: ', reca)\n",
        "        print('valid Confusion matrix:\\n', cf)\n",
        "        print('train AUROC: ', train_area)\n",
        "        print('valid AUROC: ', valid_area)\n",
        "        print('time: ', time.time()-begin)\n",
        "        print('\\n\\n')"
      ],
      "execution_count": 0,
      "outputs": []
    },
    {
      "metadata": {
        "id": "3vXhNBlZjauy",
        "colab_type": "code",
        "colab": {}
      },
      "cell_type": "code",
      "source": [
        "print('40 epochs')\n",
        "iter_ = -1\n",
        "nu_ = 0.01\n",
        "for gamma_ in [5e-5,6e-5,7e-5,8e-5,1e-4]:\n",
        "#     for nu_ in [1e-2,3e-2,5e-2,7e-2,9e-2]:\n",
        "    for nu_ in [5e-2]:\n",
        "        begin = time.time()\n",
        "        svm_2c = build_svm(oc=False,_nu=nu_,_gamma=gamma_,maxiter=iter_)\n",
        "        x_2c = train_feat_1q[8]\n",
        "        y_2c = train_svm_lab_1q[8]\n",
        "        svm_2c.fit(x_2c,y_2c)\n",
        "        train_predy = svm_2c.predict(x_2c)\n",
        "        valid_predy = svm_2c.predict(validx)\n",
        "        f1 = metrics.f1_score(validy_svm, valid_predy)\n",
        "        prec, reca, f1, _ = metrics.precision_recall_fscore_support(validy_svm, valid_predy, beta=1.0, pos_label=1, average='binary')\n",
        "        train_area = metrics.roc_auc_score(y_2c, train_predy)\n",
        "        valid_area = metrics.roc_auc_score(validy_svm, valid_predy)  \n",
        "        cf = metrics.confusion_matrix(validy_svm, valid_predy)\n",
        "        print('nu: ', nu_)\n",
        "        print('gamma:', gamma_)\n",
        "        print('iter: ', iter_)\n",
        "        print('F1: ', f1)\n",
        "        print('Precision: ', prec)\n",
        "        print('Recall: ', reca)\n",
        "        print('valid Confusion matrix:\\n', cf)\n",
        "        print('train AUROC: ', train_area)\n",
        "        print('valid AUROC: ', valid_area)\n",
        "        print('time: ', time.time()-begin)\n",
        "        print('\\n\\n')"
      ],
      "execution_count": 0,
      "outputs": []
    },
    {
      "metadata": {
        "id": "-cQ4UYPEi5Iw",
        "colab_type": "code",
        "colab": {}
      },
      "cell_type": "code",
      "source": [
        "print('50 epochs')\n",
        "iter_ = -1\n",
        "nu_ = 0.01\n",
        "for gamma_ in [5e-5,6e-5,7e-5,8e-5,1e-4]:\n",
        "#     for nu_ in [1e-2,3e-2,5e-2,7e-2,9e-2]:\n",
        "    for nu_ in [5e-2]:\n",
        "        begin = time.time()\n",
        "        svm_2c = build_svm(oc=False,_nu=nu_,_gamma=gamma_,maxiter=iter_)\n",
        "        x_2c = train_feat_1q[-1]\n",
        "        y_2c = train_svm_lab_1q[-1]\n",
        "        svm_2c.fit(x_2c,y_2c)\n",
        "        train_predy = svm_2c.predict(x_2c)\n",
        "        valid_predy = svm_2c.predict(validx)\n",
        "        f1 = metrics.f1_score(validy_svm, valid_predy)\n",
        "        prec, reca, f1, _ = metrics.precision_recall_fscore_support(validy_svm, valid_predy, beta=1.0, pos_label=1, average='binary')\n",
        "        train_area = metrics.roc_auc_score(y_2c, train_predy)\n",
        "        valid_area = metrics.roc_auc_score(validy_svm, valid_predy)  \n",
        "        cf = metrics.confusion_matrix(validy_svm, valid_predy)\n",
        "        print('nu: ', nu_)\n",
        "        print('gamma:', gamma_)\n",
        "        print('iter: ', iter_)\n",
        "        print('F1: ', f1)\n",
        "        print('Precision: ', prec)\n",
        "        print('Recall: ', reca)\n",
        "        print('valid Confusion matrix:\\n', cf)\n",
        "        print('train AUROC: ', train_area)\n",
        "        print('valid AUROC: ', valid_area)\n",
        "        print('time: ', time.time()-begin)\n",
        "        print('\\n\\n')"
      ],
      "execution_count": 0,
      "outputs": []
    },
    {
      "metadata": {
        "id": "T4KpA3gGidql",
        "colab_type": "text"
      },
      "cell_type": "markdown",
      "source": [
        "### 1:0.5"
      ]
    },
    {
      "metadata": {
        "id": "XTkCi0EVm9_o",
        "colab_type": "code",
        "colab": {}
      },
      "cell_type": "code",
      "source": [
        "print('0 epochs')\n",
        "iter_ = -1\n",
        "nu_ = 0.01\n",
        "for gamma_ in [5e-5,6e-5,7e-5,8e-5,1e-4]:\n",
        "#     for nu_ in [1e-2,3e-2,5e-2,7e-2,9e-2]:\n",
        "    for nu_ in [5e-2]:\n",
        "        begin = time.time()\n",
        "        svm_2c = build_svm(oc=False,_nu=nu_,_gamma=gamma_,maxiter=iter_)\n",
        "        x_2c = train_feat_2q[0]\n",
        "        y_2c = train_svm_lab_2q[0]\n",
        "        svm_2c.fit(x_2c,y_2c)\n",
        "        train_predy = svm_2c.predict(x_2c)\n",
        "        valid_predy = svm_2c.predict(validx)\n",
        "        f1 = metrics.f1_score(validy_svm, valid_predy)\n",
        "        prec, reca, f1, _ = metrics.precision_recall_fscore_support(validy_svm, valid_predy, beta=1.0, pos_label=1, average='binary')\n",
        "        train_area = metrics.roc_auc_score(y_2c, train_predy)\n",
        "        valid_area = metrics.roc_auc_score(validy_svm, valid_predy)  \n",
        "        cf = metrics.confusion_matrix(validy_svm, valid_predy)\n",
        "        print('nu: ', nu_)\n",
        "        print('gamma:', gamma_)\n",
        "        print('iter: ', iter_)\n",
        "        print('F1: ', f1)\n",
        "        print('Precision: ', prec)\n",
        "        print('Recall: ', reca)\n",
        "        print('valid Confusion matrix:\\n', cf)\n",
        "        print('train AUROC: ', train_area)\n",
        "        print('valid AUROC: ', valid_area)\n",
        "        print('time: ', time.time()-begin)\n",
        "        print('\\n\\n')"
      ],
      "execution_count": 0,
      "outputs": []
    },
    {
      "metadata": {
        "id": "qF_ndZQkm2_g",
        "colab_type": "code",
        "colab": {}
      },
      "cell_type": "code",
      "source": [
        "print('10 epochs')\n",
        "iter_ = -1\n",
        "nu_ = 0.01\n",
        "for gamma_ in [5e-5,6e-5,7e-5,8e-5,1e-4]:\n",
        "#     for nu_ in [1e-2,3e-2,5e-2,7e-2,9e-2]:\n",
        "    for nu_ in [5e-2]:\n",
        "        begin = time.time()\n",
        "        svm_2c = build_svm(oc=False,_nu=nu_,_gamma=gamma_,maxiter=iter_)\n",
        "        x_2c = train_feat_2q[2]\n",
        "        y_2c = train_svm_lab_2q[2]\n",
        "        svm_2c.fit(x_2c,y_2c)\n",
        "        train_predy = svm_2c.predict(x_2c)\n",
        "        valid_predy = svm_2c.predict(validx)\n",
        "        f1 = metrics.f1_score(validy_svm, valid_predy)\n",
        "        prec, reca, f1, _ = metrics.precision_recall_fscore_support(validy_svm, valid_predy, beta=1.0, pos_label=1, average='binary')\n",
        "        train_area = metrics.roc_auc_score(y_2c, train_predy)\n",
        "        valid_area = metrics.roc_auc_score(validy_svm, valid_predy)  \n",
        "        cf = metrics.confusion_matrix(validy_svm, valid_predy)\n",
        "        print('nu: ', nu_)\n",
        "        print('gamma:', gamma_)\n",
        "        print('iter: ', iter_)\n",
        "        print('F1: ', f1)\n",
        "        print('Precision: ', prec)\n",
        "        print('Recall: ', reca)\n",
        "        print('valid Confusion matrix:\\n', cf)\n",
        "        print('train AUROC: ', train_area)\n",
        "        print('valid AUROC: ', valid_area)\n",
        "        print('time: ', time.time()-begin)\n",
        "        print('\\n\\n')"
      ],
      "execution_count": 0,
      "outputs": []
    },
    {
      "metadata": {
        "id": "OoQCTF_Am2xP",
        "colab_type": "code",
        "colab": {}
      },
      "cell_type": "code",
      "source": [
        "print('20 epochs')\n",
        "iter_ = -1\n",
        "nu_ = 0.01\n",
        "for gamma_ in [5e-5,6e-5,7e-5,8e-5,1e-4]:\n",
        "#     for nu_ in [1e-2,3e-2,5e-2,7e-2,9e-2]:\n",
        "    for nu_ in [5e-2]:\n",
        "        begin = time.time()\n",
        "        svm_2c = build_svm(oc=False,_nu=nu_,_gamma=gamma_,maxiter=iter_)\n",
        "        x_2c = train_feat_2q[4]\n",
        "        y_2c = train_svm_lab_2q[4]\n",
        "        svm_2c.fit(x_2c,y_2c)\n",
        "        train_predy = svm_2c.predict(x_2c)\n",
        "        valid_predy = svm_2c.predict(validx)\n",
        "        f1 = metrics.f1_score(validy_svm, valid_predy)\n",
        "        prec, reca, f1, _ = metrics.precision_recall_fscore_support(validy_svm, valid_predy, beta=1.0, pos_label=1, average='binary')\n",
        "        train_area = metrics.roc_auc_score(y_2c, train_predy)\n",
        "        valid_area = metrics.roc_auc_score(validy_svm, valid_predy)  \n",
        "        cf = metrics.confusion_matrix(validy_svm, valid_predy)\n",
        "        print('nu: ', nu_)\n",
        "        print('gamma:', gamma_)\n",
        "        print('iter: ', iter_)\n",
        "        print('F1: ', f1)\n",
        "        print('Precision: ', prec)\n",
        "        print('Recall: ', reca)\n",
        "        print('valid Confusion matrix:\\n', cf)\n",
        "        print('train AUROC: ', train_area)\n",
        "        print('valid AUROC: ', valid_area)\n",
        "        print('time: ', time.time()-begin)\n",
        "        print('\\n\\n')"
      ],
      "execution_count": 0,
      "outputs": []
    },
    {
      "metadata": {
        "id": "98AOsZdBmuYG",
        "colab_type": "code",
        "colab": {}
      },
      "cell_type": "code",
      "source": [
        "print('30 epochs')\n",
        "iter_ = -1\n",
        "nu_ = 0.01\n",
        "for gamma_ in [5e-5,6e-5,7e-5,8e-5,1e-4]:\n",
        "#     for nu_ in [1e-2,3e-2,5e-2,7e-2,9e-2]:\n",
        "    for nu_ in [5e-2]:\n",
        "        begin = time.time()\n",
        "        svm_2c = build_svm(oc=False,_nu=nu_,_gamma=gamma_,maxiter=iter_)\n",
        "        x_2c = train_feat_2q[6]\n",
        "        y_2c = train_svm_lab_2q[6]\n",
        "        svm_2c.fit(x_2c,y_2c)\n",
        "        train_predy = svm_2c.predict(x_2c)\n",
        "        valid_predy = svm_2c.predict(validx)\n",
        "        f1 = metrics.f1_score(validy_svm, valid_predy)\n",
        "        prec, reca, f1, _ = metrics.precision_recall_fscore_support(validy_svm, valid_predy, beta=1.0, pos_label=1, average='binary')\n",
        "        train_area = metrics.roc_auc_score(y_2c, train_predy)\n",
        "        valid_area = metrics.roc_auc_score(validy_svm, valid_predy)  \n",
        "        cf = metrics.confusion_matrix(validy_svm, valid_predy)\n",
        "        print('nu: ', nu_)\n",
        "        print('gamma:', gamma_)\n",
        "        print('iter: ', iter_)\n",
        "        print('F1: ', f1)\n",
        "        print('Precision: ', prec)\n",
        "        print('Recall: ', reca)\n",
        "        print('valid Confusion matrix:\\n', cf)\n",
        "        print('train AUROC: ', train_area)\n",
        "        print('valid AUROC: ', valid_area)\n",
        "        print('time: ', time.time()-begin)\n",
        "        print('\\n\\n')"
      ],
      "execution_count": 0,
      "outputs": []
    },
    {
      "metadata": {
        "id": "-APQ5fl2mrAr",
        "colab_type": "code",
        "colab": {}
      },
      "cell_type": "code",
      "source": [
        "print('40 epochs')\n",
        "iter_ = -1\n",
        "nu_ = 0.01\n",
        "for gamma_ in [5e-5,6e-5,7e-5,8e-5,1e-4]:\n",
        "#     for nu_ in [1e-2,3e-2,5e-2,7e-2,9e-2]:\n",
        "    for nu_ in [5e-2]:\n",
        "        begin = time.time()\n",
        "        svm_2c = build_svm(oc=False,_nu=nu_,_gamma=gamma_,maxiter=iter_)\n",
        "        x_2c = train_feat_2q[8]\n",
        "        y_2c = train_svm_lab_2q[8]\n",
        "        svm_2c.fit(x_2c,y_2c)\n",
        "        train_predy = svm_2c.predict(x_2c)\n",
        "        valid_predy = svm_2c.predict(validx)\n",
        "        f1 = metrics.f1_score(validy_svm, valid_predy)\n",
        "        prec, reca, f1, _ = metrics.precision_recall_fscore_support(validy_svm, valid_predy, beta=1.0, pos_label=1, average='binary')\n",
        "        train_area = metrics.roc_auc_score(y_2c, train_predy)\n",
        "        valid_area = metrics.roc_auc_score(validy_svm, valid_predy)  \n",
        "        cf = metrics.confusion_matrix(validy_svm, valid_predy)\n",
        "        print('nu: ', nu_)\n",
        "        print('gamma:', gamma_)\n",
        "        print('iter: ', iter_)\n",
        "        print('F1: ', f1)\n",
        "        print('Precision: ', prec)\n",
        "        print('Recall: ', reca)\n",
        "        print('valid Confusion matrix:\\n', cf)\n",
        "        print('train AUROC: ', train_area)\n",
        "        print('valid AUROC: ', valid_area)\n",
        "        print('time: ', time.time()-begin)\n",
        "        print('\\n\\n')"
      ],
      "execution_count": 0,
      "outputs": []
    },
    {
      "metadata": {
        "id": "UCaZcOAmg-yG",
        "colab_type": "code",
        "colab": {}
      },
      "cell_type": "code",
      "source": [
        "print('50 epochs')\n",
        "iter_ = -1\n",
        "nu_ = 0.01\n",
        "for gamma_ in [5e-5,6e-5,7e-5,8e-5,1e-4]:\n",
        "#     for nu_ in [1e-2,3e-2,5e-2,7e-2,9e-2]:\n",
        "    for nu_ in [5e-2]:\n",
        "        begin = time.time()\n",
        "        svm_2c = build_svm(oc=False,_nu=nu_,_gamma=gamma_,maxiter=iter_)\n",
        "        x_2c = train_feat_2q[-1]\n",
        "        y_2c = train_svm_lab_2q[-1]\n",
        "        svm_2c.fit(x_2c,y_2c)\n",
        "        train_predy = svm_2c.predict(x_2c)\n",
        "        valid_predy = svm_2c.predict(validx)\n",
        "        f1 = metrics.f1_score(validy_svm, valid_predy)\n",
        "        prec, reca, f1, _ = metrics.precision_recall_fscore_support(validy_svm, valid_predy, beta=1.0, pos_label=1, average='binary')\n",
        "        train_area = metrics.roc_auc_score(y_2c, train_predy)\n",
        "        valid_area = metrics.roc_auc_score(validy_svm, valid_predy)  \n",
        "        cf = metrics.confusion_matrix(validy_svm, valid_predy)\n",
        "        print('nu: ', nu_)\n",
        "        print('gamma:', gamma_)\n",
        "        print('iter: ', iter_)\n",
        "        print('F1: ', f1)\n",
        "        print('Precision: ', prec)\n",
        "        print('Recall: ', reca)\n",
        "        print('valid Confusion matrix:\\n', cf)\n",
        "        print('train AUROC: ', train_area)\n",
        "        print('valid AUROC: ', valid_area)\n",
        "        print('time: ', time.time()-begin)\n",
        "        print('\\n\\n')"
      ],
      "execution_count": 0,
      "outputs": []
    },
    {
      "metadata": {
        "id": "N7EUtzOOihGJ",
        "colab_type": "text"
      },
      "cell_type": "markdown",
      "source": [
        "### 1:0.75"
      ]
    },
    {
      "metadata": {
        "id": "Sg3lxVrZoTRX",
        "colab_type": "code",
        "colab": {}
      },
      "cell_type": "code",
      "source": [
        "print('0 epochs')\n",
        "iter_ = -1\n",
        "nu_ = 0.01\n",
        "for gamma_ in [5e-5,6e-5,7e-5,8e-5,1e-4]:\n",
        "#     for nu_ in [1e-2,3e-2,5e-2,7e-2,9e-2]:\n",
        "    for nu_ in [5e-2]:\n",
        "        begin = time.time()\n",
        "        svm_2c = build_svm(oc=False,_nu=nu_,_gamma=gamma_,maxiter=iter_)\n",
        "        x_2c = train_feat_3q[0]\n",
        "        y_2c = train_svm_lab_3q[0]\n",
        "        svm_2c.fit(x_2c,y_2c)\n",
        "        train_predy = svm_2c.predict(x_2c)\n",
        "        valid_predy = svm_2c.predict(validx)\n",
        "        f1 = metrics.f1_score(validy_svm, valid_predy)\n",
        "        prec, reca, f1, _ = metrics.precision_recall_fscore_support(validy_svm, valid_predy, beta=1.0, pos_label=1, average='binary')\n",
        "        train_area = metrics.roc_auc_score(y_2c, train_predy)\n",
        "        valid_area = metrics.roc_auc_score(validy_svm, valid_predy)  \n",
        "        cf = metrics.confusion_matrix(validy_svm, valid_predy)\n",
        "        print('nu: ', nu_)\n",
        "        print('gamma:', gamma_)\n",
        "        print('iter: ', iter_)\n",
        "        print('F1: ', f1)\n",
        "        print('Precision: ', prec)\n",
        "        print('Recall: ', reca)\n",
        "        print('valid Confusion matrix:\\n', cf)\n",
        "        print('train AUROC: ', train_area)\n",
        "        print('valid AUROC: ', valid_area)\n",
        "        print('time: ', time.time()-begin)\n",
        "        print('\\n\\n')"
      ],
      "execution_count": 0,
      "outputs": []
    },
    {
      "metadata": {
        "id": "vSR7jgUyoQ2x",
        "colab_type": "code",
        "colab": {}
      },
      "cell_type": "code",
      "source": [
        "print('10 epochs')\n",
        "iter_ = -1\n",
        "nu_ = 0.01\n",
        "for gamma_ in [5e-5,6e-5,7e-5,8e-5,1e-4]:\n",
        "#     for nu_ in [1e-2,3e-2,5e-2,7e-2,9e-2]:\n",
        "    for nu_ in [5e-2]:\n",
        "        begin = time.time()\n",
        "        svm_2c = build_svm(oc=False,_nu=nu_,_gamma=gamma_,maxiter=iter_)\n",
        "        x_2c = train_feat_3q[2]\n",
        "        y_2c = train_svm_lab_3q[2]\n",
        "        svm_2c.fit(x_2c,y_2c)\n",
        "        train_predy = svm_2c.predict(x_2c)\n",
        "        valid_predy = svm_2c.predict(validx)\n",
        "        f1 = metrics.f1_score(validy_svm, valid_predy)\n",
        "        prec, reca, f1, _ = metrics.precision_recall_fscore_support(validy_svm, valid_predy, beta=1.0, pos_label=1, average='binary')\n",
        "        train_area = metrics.roc_auc_score(y_2c, train_predy)\n",
        "        valid_area = metrics.roc_auc_score(validy_svm, valid_predy)  \n",
        "        cf = metrics.confusion_matrix(validy_svm, valid_predy)\n",
        "        print('nu: ', nu_)\n",
        "        print('gamma:', gamma_)\n",
        "        print('iter: ', iter_)\n",
        "        print('F1: ', f1)\n",
        "        print('Precision: ', prec)\n",
        "        print('Recall: ', reca)\n",
        "        print('valid Confusion matrix:\\n', cf)\n",
        "        print('train AUROC: ', train_area)\n",
        "        print('valid AUROC: ', valid_area)\n",
        "        print('time: ', time.time()-begin)\n",
        "        print('\\n\\n')"
      ],
      "execution_count": 0,
      "outputs": []
    },
    {
      "metadata": {
        "id": "43qni7ZxoOey",
        "colab_type": "code",
        "colab": {}
      },
      "cell_type": "code",
      "source": [
        "print('20 epochs')\n",
        "iter_ = -1\n",
        "nu_ = 0.01\n",
        "for gamma_ in [5e-5,6e-5,7e-5,8e-5,1e-4]:\n",
        "#     for nu_ in [1e-2,3e-2,5e-2,7e-2,9e-2]:\n",
        "    for nu_ in [5e-2]:\n",
        "        begin = time.time()\n",
        "        svm_2c = build_svm(oc=False,_nu=nu_,_gamma=gamma_,maxiter=iter_)\n",
        "        x_2c = train_feat_3q[4]\n",
        "        y_2c = train_svm_lab_3q[4]\n",
        "        svm_2c.fit(x_2c,y_2c)\n",
        "        train_predy = svm_2c.predict(x_2c)\n",
        "        valid_predy = svm_2c.predict(validx)\n",
        "        f1 = metrics.f1_score(validy_svm, valid_predy)\n",
        "        prec, reca, f1, _ = metrics.precision_recall_fscore_support(validy_svm, valid_predy, beta=1.0, pos_label=1, average='binary')\n",
        "        train_area = metrics.roc_auc_score(y_2c, train_predy)\n",
        "        valid_area = metrics.roc_auc_score(validy_svm, valid_predy)  \n",
        "        cf = metrics.confusion_matrix(validy_svm, valid_predy)\n",
        "        print('nu: ', nu_)\n",
        "        print('gamma:', gamma_)\n",
        "        print('iter: ', iter_)\n",
        "        print('F1: ', f1)\n",
        "        print('Precision: ', prec)\n",
        "        print('Recall: ', reca)\n",
        "        print('valid Confusion matrix:\\n', cf)\n",
        "        print('train AUROC: ', train_area)\n",
        "        print('valid AUROC: ', valid_area)\n",
        "        print('time: ', time.time()-begin)\n",
        "        print('\\n\\n')"
      ],
      "execution_count": 0,
      "outputs": []
    },
    {
      "metadata": {
        "id": "SqB8mWzIoLKe",
        "colab_type": "code",
        "colab": {}
      },
      "cell_type": "code",
      "source": [
        "print('30 epochs')\n",
        "iter_ = -1\n",
        "nu_ = 0.01\n",
        "for gamma_ in [5e-5,6e-5,7e-5,8e-5,1e-4]:\n",
        "#     for nu_ in [1e-2,3e-2,5e-2,7e-2,9e-2]:\n",
        "    for nu_ in [5e-2]:\n",
        "        begin = time.time()\n",
        "        svm_2c = build_svm(oc=False,_nu=nu_,_gamma=gamma_,maxiter=iter_)\n",
        "        x_2c = train_feat_3q[6]\n",
        "        y_2c = train_svm_lab_3q[6]\n",
        "        svm_2c.fit(x_2c,y_2c)\n",
        "        train_predy = svm_2c.predict(x_2c)\n",
        "        valid_predy = svm_2c.predict(validx)\n",
        "        f1 = metrics.f1_score(validy_svm, valid_predy)\n",
        "        prec, reca, f1, _ = metrics.precision_recall_fscore_support(validy_svm, valid_predy, beta=1.0, pos_label=1, average='binary')\n",
        "        train_area = metrics.roc_auc_score(y_2c, train_predy)\n",
        "        valid_area = metrics.roc_auc_score(validy_svm, valid_predy)  \n",
        "        cf = metrics.confusion_matrix(validy_svm, valid_predy)\n",
        "        print('nu: ', nu_)\n",
        "        print('gamma:', gamma_)\n",
        "        print('iter: ', iter_)\n",
        "        print('F1: ', f1)\n",
        "        print('Precision: ', prec)\n",
        "        print('Recall: ', reca)\n",
        "        print('valid Confusion matrix:\\n', cf)\n",
        "        print('train AUROC: ', train_area)\n",
        "        print('valid AUROC: ', valid_area)\n",
        "        print('time: ', time.time()-begin)\n",
        "        print('\\n\\n')"
      ],
      "execution_count": 0,
      "outputs": []
    },
    {
      "metadata": {
        "id": "fxCnG-emoGQS",
        "colab_type": "code",
        "colab": {}
      },
      "cell_type": "code",
      "source": [
        "print('40 epochs')\n",
        "iter_ = -1\n",
        "nu_ = 0.01\n",
        "for gamma_ in [5e-5,6e-5,7e-5,8e-5,1e-4]:\n",
        "#     for nu_ in [1e-2,3e-2,5e-2,7e-2,9e-2]:\n",
        "    for nu_ in [5e-2]:\n",
        "        begin = time.time()\n",
        "        svm_2c = build_svm(oc=False,_nu=nu_,_gamma=gamma_,maxiter=iter_)\n",
        "        x_2c = train_feat_3q[8]\n",
        "        y_2c = train_svm_lab_3q[8]\n",
        "        svm_2c.fit(x_2c,y_2c)\n",
        "        train_predy = svm_2c.predict(x_2c)\n",
        "        valid_predy = svm_2c.predict(validx)\n",
        "        f1 = metrics.f1_score(validy_svm, valid_predy)\n",
        "        prec, reca, f1, _ = metrics.precision_recall_fscore_support(validy_svm, valid_predy, beta=1.0, pos_label=1, average='binary')\n",
        "        train_area = metrics.roc_auc_score(y_2c, train_predy)\n",
        "        valid_area = metrics.roc_auc_score(validy_svm, valid_predy)  \n",
        "        cf = metrics.confusion_matrix(validy_svm, valid_predy)\n",
        "        print('nu: ', nu_)\n",
        "        print('gamma:', gamma_)\n",
        "        print('iter: ', iter_)\n",
        "        print('F1: ', f1)\n",
        "        print('Precision: ', prec)\n",
        "        print('Recall: ', reca)\n",
        "        print('valid Confusion matrix:\\n', cf)\n",
        "        print('train AUROC: ', train_area)\n",
        "        print('valid AUROC: ', valid_area)\n",
        "        print('time: ', time.time()-begin)\n",
        "        print('\\n\\n')"
      ],
      "execution_count": 0,
      "outputs": []
    },
    {
      "metadata": {
        "id": "oU-bsa3shxHg",
        "colab_type": "code",
        "colab": {}
      },
      "cell_type": "code",
      "source": [
        "print('50 epochs')\n",
        "iter_ = -1\n",
        "nu_ = 0.01\n",
        "for gamma_ in [5e-5,6e-5,7e-5,8e-5,1e-4]:\n",
        "#     for nu_ in [1e-2,3e-2,5e-2,7e-2,9e-2]:\n",
        "    for nu_ in [5e-2]:\n",
        "        begin = time.time()\n",
        "        svm_2c = build_svm(oc=False,_nu=nu_,_gamma=gamma_,maxiter=iter_)\n",
        "        x_2c = train_feat_3q[-1]\n",
        "        y_2c = train_svm_lab_3q[-1]\n",
        "        svm_2c.fit(x_2c,y_2c)\n",
        "        train_predy = svm_2c.predict(x_2c)\n",
        "        valid_predy = svm_2c.predict(validx)\n",
        "        f1 = metrics.f1_score(validy_svm, valid_predy)\n",
        "        prec, reca, f1, _ = metrics.precision_recall_fscore_support(validy_svm, valid_predy, beta=1.0, pos_label=1, average='binary')\n",
        "        train_area = metrics.roc_auc_score(y_2c, train_predy)\n",
        "        valid_area = metrics.roc_auc_score(validy_svm, valid_predy)  \n",
        "        cf = metrics.confusion_matrix(validy_svm, valid_predy)\n",
        "        print('nu: ', nu_)\n",
        "        print('gamma:', gamma_)\n",
        "        print('iter: ', iter_)\n",
        "        print('F1: ', f1)\n",
        "        print('Precision: ', prec)\n",
        "        print('Recall: ', reca)\n",
        "        print('valid Confusion matrix:\\n', cf)\n",
        "        print('train AUROC: ', train_area)\n",
        "        print('valid AUROC: ', valid_area)\n",
        "        print('time: ', time.time()-begin)\n",
        "        print('\\n\\n')"
      ],
      "execution_count": 0,
      "outputs": []
    },
    {
      "metadata": {
        "id": "tebOJSyPikfy",
        "colab_type": "text"
      },
      "cell_type": "markdown",
      "source": [
        "### 1:1"
      ]
    },
    {
      "metadata": {
        "id": "bQXEdDWJp4xt",
        "colab_type": "code",
        "colab": {}
      },
      "cell_type": "code",
      "source": [
        "print('0 epochs')\n",
        "iter_ = -1\n",
        "nu_ = 0.01\n",
        "for gamma_ in [5e-5,6e-5,7e-5,8e-5,1e-4]:\n",
        "#     for nu_ in [1e-2,3e-2,5e-2,7e-2,9e-2]:\n",
        "    for nu_ in [5e-2]:\n",
        "        begin = time.time()\n",
        "        svm_2c = build_svm(oc=False,_nu=nu_,_gamma=gamma_,maxiter=iter_)\n",
        "        x_2c = train_feat_4q[0]\n",
        "        y_2c = train_svm_lab_4q[0]\n",
        "        svm_2c.fit(x_2c,y_2c)\n",
        "        train_predy = svm_2c.predict(x_2c)\n",
        "        valid_predy = svm_2c.predict(validx)\n",
        "        f1 = metrics.f1_score(validy_svm, valid_predy)\n",
        "        prec, reca, f1, _ = metrics.precision_recall_fscore_support(validy_svm, valid_predy, beta=1.0, pos_label=1, average='binary')\n",
        "        train_area = metrics.roc_auc_score(y_2c, train_predy)\n",
        "        valid_area = metrics.roc_auc_score(validy_svm, valid_predy)  \n",
        "        cf = metrics.confusion_matrix(validy_svm, valid_predy)\n",
        "        print('nu: ', nu_)\n",
        "        print('gamma:', gamma_)\n",
        "        print('iter: ', iter_)\n",
        "        print('F1: ', f1)\n",
        "        print('Precision: ', prec)\n",
        "        print('Recall: ', reca)\n",
        "        print('valid Confusion matrix:\\n', cf)\n",
        "        print('train AUROC: ', train_area)\n",
        "        print('valid AUROC: ', valid_area)\n",
        "        print('time: ', time.time()-begin)\n",
        "        print('\\n\\n')"
      ],
      "execution_count": 0,
      "outputs": []
    },
    {
      "metadata": {
        "id": "3EtPLr8Fp4hM",
        "colab_type": "code",
        "colab": {}
      },
      "cell_type": "code",
      "source": [
        "print('10 epochs')\n",
        "iter_ = -1\n",
        "nu_ = 0.01\n",
        "for gamma_ in [5e-5,6e-5,7e-5,8e-5,1e-4]:\n",
        "#     for nu_ in [1e-2,3e-2,5e-2,7e-2,9e-2]:\n",
        "    for nu_ in [5e-2]:\n",
        "        begin = time.time()\n",
        "        svm_2c = build_svm(oc=False,_nu=nu_,_gamma=gamma_,maxiter=iter_)\n",
        "        x_2c = train_feat_4q[2]\n",
        "        y_2c = train_svm_lab_4q[2]\n",
        "        svm_2c.fit(x_2c,y_2c)\n",
        "        train_predy = svm_2c.predict(x_2c)\n",
        "        valid_predy = svm_2c.predict(validx)\n",
        "        f1 = metrics.f1_score(validy_svm, valid_predy)\n",
        "        prec, reca, f1, _ = metrics.precision_recall_fscore_support(validy_svm, valid_predy, beta=1.0, pos_label=1, average='binary')\n",
        "        train_area = metrics.roc_auc_score(y_2c, train_predy)\n",
        "        valid_area = metrics.roc_auc_score(validy_svm, valid_predy)  \n",
        "        cf = metrics.confusion_matrix(validy_svm, valid_predy)\n",
        "        print('nu: ', nu_)\n",
        "        print('gamma:', gamma_)\n",
        "        print('iter: ', iter_)\n",
        "        print('F1: ', f1)\n",
        "        print('Precision: ', prec)\n",
        "        print('Recall: ', reca)\n",
        "        print('valid Confusion matrix:\\n', cf)\n",
        "        print('train AUROC: ', train_area)\n",
        "        print('valid AUROC: ', valid_area)\n",
        "        print('time: ', time.time()-begin)\n",
        "        print('\\n\\n')"
      ],
      "execution_count": 0,
      "outputs": []
    },
    {
      "metadata": {
        "id": "Zcp3Lqakp4Q8",
        "colab_type": "code",
        "colab": {}
      },
      "cell_type": "code",
      "source": [
        "print('20 epochs')\n",
        "iter_ = -1\n",
        "nu_ = 0.01\n",
        "for gamma_ in [5e-5,6e-5,7e-5,8e-5,1e-4]:\n",
        "#     for nu_ in [1e-2,3e-2,5e-2,7e-2,9e-2]:\n",
        "    for nu_ in [5e-2]:\n",
        "        begin = time.time()\n",
        "        svm_2c = build_svm(oc=False,_nu=nu_,_gamma=gamma_,maxiter=iter_)\n",
        "        x_2c = train_feat_4q[4]\n",
        "        y_2c = train_svm_lab_4q[4]\n",
        "        svm_2c.fit(x_2c,y_2c)\n",
        "        train_predy = svm_2c.predict(x_2c)\n",
        "        valid_predy = svm_2c.predict(validx)\n",
        "        f1 = metrics.f1_score(validy_svm, valid_predy)\n",
        "        prec, reca, f1, _ = metrics.precision_recall_fscore_support(validy_svm, valid_predy, beta=1.0, pos_label=1, average='binary')\n",
        "        train_area = metrics.roc_auc_score(y_2c, train_predy)\n",
        "        valid_area = metrics.roc_auc_score(validy_svm, valid_predy)  \n",
        "        cf = metrics.confusion_matrix(validy_svm, valid_predy)\n",
        "        print('nu: ', nu_)\n",
        "        print('gamma:', gamma_)\n",
        "        print('iter: ', iter_)\n",
        "        print('F1: ', f1)\n",
        "        print('Precision: ', prec)\n",
        "        print('Recall: ', reca)\n",
        "        print('valid Confusion matrix:\\n', cf)\n",
        "        print('train AUROC: ', train_area)\n",
        "        print('valid AUROC: ', valid_area)\n",
        "        print('time: ', time.time()-begin)\n",
        "        print('\\n\\n')"
      ],
      "execution_count": 0,
      "outputs": []
    },
    {
      "metadata": {
        "id": "CKWOzxUXp30s",
        "colab_type": "code",
        "colab": {}
      },
      "cell_type": "code",
      "source": [
        "print('30 epochs')\n",
        "iter_ = -1\n",
        "nu_ = 0.01\n",
        "for gamma_ in [5e-5,6e-5,7e-5,8e-5,1e-4]:\n",
        "#     for nu_ in [1e-2,3e-2,5e-2,7e-2,9e-2]:\n",
        "    for nu_ in [5e-2]:\n",
        "        begin = time.time()\n",
        "        svm_2c = build_svm(oc=False,_nu=nu_,_gamma=gamma_,maxiter=iter_)\n",
        "        x_2c = train_feat_4q[6]\n",
        "        y_2c = train_svm_lab_4q[6]\n",
        "        svm_2c.fit(x_2c,y_2c)\n",
        "        train_predy = svm_2c.predict(x_2c)\n",
        "        valid_predy = svm_2c.predict(validx)\n",
        "        f1 = metrics.f1_score(validy_svm, valid_predy)\n",
        "        prec, reca, f1, _ = metrics.precision_recall_fscore_support(validy_svm, valid_predy, beta=1.0, pos_label=1, average='binary')\n",
        "        train_area = metrics.roc_auc_score(y_2c, train_predy)\n",
        "        valid_area = metrics.roc_auc_score(validy_svm, valid_predy)  \n",
        "        cf = metrics.confusion_matrix(validy_svm, valid_predy)\n",
        "        print('nu: ', nu_)\n",
        "        print('gamma:', gamma_)\n",
        "        print('iter: ', iter_)\n",
        "        print('F1: ', f1)\n",
        "        print('Precision: ', prec)\n",
        "        print('Recall: ', reca)\n",
        "        print('valid Confusion matrix:\\n', cf)\n",
        "        print('train AUROC: ', train_area)\n",
        "        print('valid AUROC: ', valid_area)\n",
        "        print('time: ', time.time()-begin)\n",
        "        print('\\n\\n')"
      ],
      "execution_count": 0,
      "outputs": []
    },
    {
      "metadata": {
        "id": "6eue8Q71p3k2",
        "colab_type": "code",
        "colab": {}
      },
      "cell_type": "code",
      "source": [
        "print('40 epochs')\n",
        "iter_ = -1\n",
        "nu_ = 0.01\n",
        "for gamma_ in [5e-5,6e-5,7e-5,8e-5,1e-4]:\n",
        "#     for nu_ in [1e-2,3e-2,5e-2,7e-2,9e-2]:\n",
        "    for nu_ in [5e-2]:\n",
        "        begin = time.time()\n",
        "        svm_2c = build_svm(oc=False,_nu=nu_,_gamma=gamma_,maxiter=iter_)\n",
        "        x_2c = train_feat_4q[8]\n",
        "        y_2c = train_svm_lab_4q[8]\n",
        "        svm_2c.fit(x_2c,y_2c)\n",
        "        train_predy = svm_2c.predict(x_2c)\n",
        "        valid_predy = svm_2c.predict(validx)\n",
        "        f1 = metrics.f1_score(validy_svm, valid_predy)\n",
        "        prec, reca, f1, _ = metrics.precision_recall_fscore_support(validy_svm, valid_predy, beta=1.0, pos_label=1, average='binary')\n",
        "        train_area = metrics.roc_auc_score(y_2c, train_predy)\n",
        "        valid_area = metrics.roc_auc_score(validy_svm, valid_predy)  \n",
        "        cf = metrics.confusion_matrix(validy_svm, valid_predy)\n",
        "        print('nu: ', nu_)\n",
        "        print('gamma:', gamma_)\n",
        "        print('iter: ', iter_)\n",
        "        print('F1: ', f1)\n",
        "        print('Precision: ', prec)\n",
        "        print('Recall: ', reca)\n",
        "        print('valid Confusion matrix:\\n', cf)\n",
        "        print('train AUROC: ', train_area)\n",
        "        print('valid AUROC: ', valid_area)\n",
        "        print('time: ', time.time()-begin)\n",
        "        print('\\n\\n')"
      ],
      "execution_count": 0,
      "outputs": []
    },
    {
      "metadata": {
        "id": "G00jynPqg-sQ",
        "colab_type": "code",
        "colab": {}
      },
      "cell_type": "code",
      "source": [
        "print('50 epochs')\n",
        "iter_ = -1\n",
        "nu_ = 0.01\n",
        "for gamma_ in [5e-5,6e-5,7e-5,8e-5,1e-4]:\n",
        "#     for nu_ in [1e-2,3e-2,5e-2,7e-2,9e-2]:\n",
        "    for nu_ in [5e-2]:\n",
        "        begin = time.time()\n",
        "        svm_2c = build_svm(oc=False,_nu=nu_,_gamma=gamma_,maxiter=iter_)\n",
        "        x_2c = train_feat_4q[-1]\n",
        "        y_2c = train_svm_lab_4q[-1]\n",
        "        svm_2c.fit(x_2c,y_2c)\n",
        "        train_predy = svm_2c.predict(x_2c)\n",
        "        valid_predy = svm_2c.predict(validx)\n",
        "        f1 = metrics.f1_score(validy_svm, valid_predy)\n",
        "        prec, reca, f1, _ = metrics.precision_recall_fscore_support(validy_svm, valid_predy, beta=1.0, pos_label=1, average='binary')\n",
        "        train_area = metrics.roc_auc_score(y_2c, train_predy)\n",
        "        valid_area = metrics.roc_auc_score(validy_svm, valid_predy)  \n",
        "        cf = metrics.confusion_matrix(validy_svm, valid_predy)\n",
        "        print('nu: ', nu_)\n",
        "        print('gamma:', gamma_)\n",
        "        print('iter: ', iter_)\n",
        "        print('F1: ', f1)\n",
        "        print('Precision: ', prec)\n",
        "        print('Recall: ', reca)\n",
        "        print('valid Confusion matrix:\\n', cf)\n",
        "        print('train AUROC: ', train_area)\n",
        "        print('valid AUROC: ', valid_area)\n",
        "        print('time: ', time.time()-begin)\n",
        "        print('\\n\\n')"
      ],
      "execution_count": 0,
      "outputs": []
    },
    {
      "metadata": {
        "id": "T4TWX5Ufv3pS",
        "colab_type": "text"
      },
      "cell_type": "markdown",
      "source": [
        "# OLD Legacy"
      ]
    },
    {
      "metadata": {
        "id": "yFDSFEh2L9Gn",
        "colab_type": "text"
      },
      "cell_type": "markdown",
      "source": [
        "## Ano = 8"
      ]
    },
    {
      "metadata": {
        "id": "PUjdxTwbyTN9",
        "colab_type": "code",
        "colab": {}
      },
      "cell_type": "code",
      "source": [
        "to_plot, train_loss_gen_log, train_loss_dis_log, gen_exp_log, train_roc_log, test_roc_log = run(paras,testx,testy_dis)"
      ],
      "execution_count": 0,
      "outputs": []
    },
    {
      "metadata": {
        "id": "iAWfRpL32nCN",
        "colab_type": "code",
        "colab": {}
      },
      "cell_type": "code",
      "source": [
        "plot_learning_curves(train_loss_gen_log, train_loss_dis_log)"
      ],
      "execution_count": 0,
      "outputs": []
    },
    {
      "metadata": {
        "id": "xMI10Omm2oS5",
        "colab_type": "code",
        "colab": {}
      },
      "cell_type": "code",
      "source": [
        "plot_roc_curves(train_roc_log, test_roc_log)"
      ],
      "execution_count": 0,
      "outputs": []
    },
    {
      "metadata": {
        "id": "8dm2QrZb2tA_",
        "colab_type": "code",
        "colab": {}
      },
      "cell_type": "code",
      "source": [
        "pos_x,_ = get_train(paras.label())\n",
        "train_feat, train_svm_lab = postprocess(gen_exp_log, pos_x, length=5000, neg_train_ratio=0.1)\n",
        "print('Train shapes: ', train_feat[0].shape, train_svm_lab[0].shape)"
      ],
      "execution_count": 0,
      "outputs": []
    },
    {
      "metadata": {
        "id": "vZJjSKhKILVO",
        "colab_type": "code",
        "colab": {}
      },
      "cell_type": "code",
      "source": [
        "validx, validx_border, validx_uniform, validx_gauss, validy_svm, testx, testx_border, testx_uniform, testx_gauss, testy_svm, testy_dis, valid_anom_temp= get_test_valid_svm_dis(anom_noise=True,noise_width=8)\n",
        "print('Valid shapes: ', validx.shape, validy_svm.shape)\n",
        "print('Test shapes: ',testx.shape, testy_svm.shape, testy_dis.shape)"
      ],
      "execution_count": 0,
      "outputs": []
    },
    {
      "metadata": {
        "id": "o50JLPe7DmBy",
        "colab_type": "code",
        "colab": {}
      },
      "cell_type": "code",
      "source": [
        "plot_25(train_feat[0][:25])"
      ],
      "execution_count": 0,
      "outputs": []
    },
    {
      "metadata": {
        "id": "DXzHpWeQ3A2c",
        "colab_type": "code",
        "colab": {}
      },
      "cell_type": "code",
      "source": [
        "plot_25(validx[-25:])\n",
        "plot_25(validx_border[-25:])\n",
        "plot_25(validx_uniform[-25:])\n",
        "plot_25(validx_gauss[-25:])"
      ],
      "execution_count": 0,
      "outputs": []
    },
    {
      "metadata": {
        "id": "AOnic8Xv5LEi",
        "colab_type": "code",
        "colab": {}
      },
      "cell_type": "code",
      "source": [
        "iter_ = -1\n",
        "nu_ = 0.01\n",
        "print('50 epochs')\n",
        "for gamma_ in [5e-5,6e-5,7e-5,8e-5,1e-4]:\n",
        "#     for nu_ in [1e-2,3e-2,5e-2,7e-2,9e-2]:\n",
        "    for nu_ in [5e-2]:\n",
        "        begin = time.time()\n",
        "        svm_2c = build_svm(oc=False,_nu=nu_,_gamma=gamma_,maxiter=iter_)\n",
        "        x_2c = train_feat[-1][:1000]\n",
        "        y_2c = train_svm_lab[-1][:1000]\n",
        "        svm_2c.fit(x_2c,y_2c)\n",
        "        train_predy = svm_2c.predict(x_2c)\n",
        "        valid_predy = svm_2c.predict(validx)\n",
        "        f1 = metrics.f1_score(validy_svm, predy)\n",
        "        prec, reca, f1, _ = metrics.precision_recall_fscore_support(validy_svm, valid_predy, beta=1.0, pos_label=1, average='binary')\n",
        "        train_area = metrics.roc_auc_score(y_2c, train_predy)\n",
        "        valid_area = metrics.roc_auc_score(validy_svm, valid_predy)  \n",
        "        cf = metrics.confusion_matrix(validy_svm, valid_predy)\n",
        "        print('nu: ', nu_)\n",
        "        print('gamma:', gamma_)\n",
        "        print('iter: ', iter_)\n",
        "        print('F1: ', f1)\n",
        "        print('Precision: ', prec)\n",
        "        print('Recall: ', reca)\n",
        "        print('valid Confusion matrix:\\n', cf)\n",
        "        print('train AUROC: ', train_area)\n",
        "        print('valid AUROC: ', valid_area)\n",
        "        print('time: ', time.time()-begin)\n",
        "        print('\\n\\n')"
      ],
      "execution_count": 0,
      "outputs": []
    },
    {
      "metadata": {
        "id": "Aj67Bvrm2xnu",
        "colab_type": "code",
        "colab": {}
      },
      "cell_type": "code",
      "source": [
        "iter_ = -1\n",
        "nu_ = 0.01\n",
        "gamma_ = 'auto'\n",
        "print('50 epochs')\n",
        "for nu_ in [1e-7,1e-6,1e-5,1e-4,1e-3,1e-2,1e-1]:\n",
        "    begin = time.time()\n",
        "    svm_2c = build_svm(oc=False,_nu=nu_,_gamma=gamma_,maxiter=iter_)\n",
        "    x_2c = train_feat[-1]\n",
        "    y_2c = train_svm_lab[-1]\n",
        "    svm_2c.fit(x_2c,y_2c)\n",
        "    train_predy = svm_2c.predict(x_2c)\n",
        "    valid_predy = svm_2c.predict(validx)\n",
        "    f1 = metrics.f1_score(validy_svm, predy)\n",
        "    prec, reca, f1, _ = metrics.precision_recall_fscore_support(validy_svm, valid_predy, beta=1.0, pos_label=1, average='binary')\n",
        "    train_area = metrics.roc_auc_score(y_2c, train_predy)\n",
        "    valid_area = metrics.roc_auc_score(validy_svm, valid_predy)  \n",
        "    cf = metrics.confusion_matrix(validy_svm, valid_predy)\n",
        "    print('nu: ', nu_)\n",
        "    print('gamma:', gamma_)\n",
        "    print('iter: ', iter_)\n",
        "    print('F1: ', f1)\n",
        "    print('Precision: ', prec)\n",
        "    print('Recall: ', reca)\n",
        "    print('valid Confusion matrix:\\n', cf)\n",
        "    print('train AUROC: ', train_area)\n",
        "    print('valid AUROC: ', valid_area)\n",
        "    print('time: ', time.time()-begin)\n",
        "    print('\\n\\n')"
      ],
      "execution_count": 0,
      "outputs": []
    },
    {
      "metadata": {
        "id": "o7oO6v0ZBb7p",
        "colab_type": "code",
        "colab": {}
      },
      "cell_type": "code",
      "source": [
        "iter_ = -1\n",
        "nu_=0.01\n",
        "print('50 epochs')\n",
        "# for gamma_ in [1e-4,3e-4,5e-4,7e-4,8e-4,1e-3,5e-3,1e-2]:\n",
        "for gamma_ in [1e-2]:\n",
        "    begin = time.time()\n",
        "    svm_2c = build_svm(oc=False,_nu=nu_,_gamma=gamma_,maxiter=iter_)\n",
        "    x_2c = train_feat[0]\n",
        "    y_2c = train_svm_lab[0]\n",
        "    svm_2c.fit(x_2c,y_2c)\n",
        "    predy = svm_2c.predict(validx_temp)\n",
        "    f1 = metrics.f1_score(validy_svm, predy)\n",
        "    prec, reca, f1, _ = metrics.precision_recall_fscore_support(validy_svm, predy, beta=1.0, pos_label=1, average='binary')\n",
        "    area = metrics.roc_auc_score(validy_svm, predy)  \n",
        "    cf = metrics.confusion_matrix(validy_svm, predy)\n",
        "    print('nu: ', nu_)\n",
        "    print('gamma:', gamma_)\n",
        "    print('iter: ', iter_)\n",
        "    print('F1: ', f1)\n",
        "    print('Precision: ', prec)\n",
        "    print('Recall: ', reca)\n",
        "    print('area under roc: ', area)\n",
        "    print('Confusion matrix:\\n', cf)\n",
        "    print('time: ', time.time()-begin)\n",
        "    print('\\n\\n')"
      ],
      "execution_count": 0,
      "outputs": []
    },
    {
      "metadata": {
        "id": "OLKdEczZ2xit",
        "colab_type": "code",
        "colab": {}
      },
      "cell_type": "code",
      "source": [
        ""
      ],
      "execution_count": 0,
      "outputs": []
    },
    {
      "metadata": {
        "id": "YWR40VKj2xc0",
        "colab_type": "code",
        "colab": {}
      },
      "cell_type": "code",
      "source": [
        ""
      ],
      "execution_count": 0,
      "outputs": []
    },
    {
      "metadata": {
        "id": "HAMDLyeMkAKh",
        "colab_type": "text"
      },
      "cell_type": "markdown",
      "source": [
        "## AuROC of DIS (train and test) | anom='external' | 50 epochs"
      ]
    },
    {
      "metadata": {
        "id": "ePd5yBIsj_z4",
        "colab_type": "code",
        "colab": {}
      },
      "cell_type": "code",
      "source": [
        "to_plot, train_loss_gen_log, train_loss_dis_log, gen_exp_log, train_roc_log, test_roc_log = run(paras,testx,testy_dis)"
      ],
      "execution_count": 0,
      "outputs": []
    },
    {
      "metadata": {
        "id": "06uMx1Xmq3X3",
        "colab_type": "code",
        "colab": {}
      },
      "cell_type": "code",
      "source": [
        "plot_learning_curves(train_loss_gen_log, train_loss_dis_log)"
      ],
      "execution_count": 0,
      "outputs": []
    },
    {
      "metadata": {
        "id": "4L6mJUvIq6iJ",
        "colab_type": "code",
        "colab": {}
      },
      "cell_type": "code",
      "source": [
        "plot_roc_curves(train_roc_log, test_roc_log)"
      ],
      "execution_count": 0,
      "outputs": []
    },
    {
      "metadata": {
        "id": "Gc-H7y0WrCyW",
        "colab_type": "code",
        "colab": {}
      },
      "cell_type": "code",
      "source": [
        "pos_x,_ = get_train(paras.label())\n",
        "train_feat, train_svm_lab = postprocess(gen_exp_log, pos_x, length=8000, neg_train_ratio=0.25)\n",
        "print('Train shapes: ', train_feat[0].shape, train_svm_lab[0].shape)"
      ],
      "execution_count": 0,
      "outputs": []
    },
    {
      "metadata": {
        "id": "G9OUoYSirXic",
        "colab_type": "code",
        "colab": {}
      },
      "cell_type": "code",
      "source": [
        "nu_ = 0.05\n",
        "gamma_ = 5e-4\n",
        "iter_= -1\n",
        "# for gamma_ in [1e-4,3e-4,5e-4,7e-4,8e-4,1e-3,5e-3,1e-2]:"
      ],
      "execution_count": 0,
      "outputs": []
    },
    {
      "metadata": {
        "id": "JeStu3fKrS1r",
        "colab_type": "code",
        "colab": {}
      },
      "cell_type": "code",
      "source": [
        "nu_ = 0.01\n",
        "print('50 epochs')\n",
        "for gamma_ in [1e-4,3e-4,5e-4,7e-4,8e-4,1e-3,5e-3,1e-2]:\n",
        "\n",
        "    begin = time.time()\n",
        "    svm_2c = build_svm(oc=False,_nu=nu_,_gamma=gamma_,maxiter=iter_)\n",
        "    x_2c = train_feat[-1]\n",
        "    y_2c = train_svm_lab[-1]\n",
        "    svm_2c.fit(x_2c,y_2c)\n",
        "    predy = svm_2c.predict(testx)\n",
        "    f1 = metrics.f1_score(testy_svm, predy)\n",
        "    prec, reca, f1, _ = metrics.precision_recall_fscore_support(testy_svm, predy, beta=1.0, pos_label=1, average='binary')\n",
        "    area = metrics.roc_auc_score(testy_svm, predy)  \n",
        "    cf = metrics.confusion_matrix(testy_svm, predy)\n",
        "    print('nu: ', nu_)\n",
        "    print('gamma:', gamma_)\n",
        "    print('iter: ', iter_)\n",
        "    print('F1: ', f1)\n",
        "    print('Precision: ', prec)\n",
        "    print('Recall: ', reca)\n",
        "    print('area under roc: ', area)\n",
        "    print('Confusion matrix:\\n', cf)\n",
        "    print('time: ', time.time()-begin)\n",
        "    print('\\n\\n')"
      ],
      "execution_count": 0,
      "outputs": []
    },
    {
      "metadata": {
        "id": "hfquWPoWZdPz",
        "colab_type": "text"
      },
      "cell_type": "markdown",
      "source": [
        "## AuROC of DIS (train and test) | anom=8 | 200 epochs"
      ]
    },
    {
      "metadata": {
        "id": "dzJwpEKJZc7a",
        "colab_type": "code",
        "colab": {}
      },
      "cell_type": "code",
      "source": [
        "to_plot, train_loss_gen_log, train_loss_dis_log, gen_exp_log, train_roc_log, test_roc_log = run(paras,testx,testy_dis)"
      ],
      "execution_count": 0,
      "outputs": []
    },
    {
      "metadata": {
        "id": "7A16QOintkM4",
        "colab_type": "code",
        "colab": {}
      },
      "cell_type": "code",
      "source": [
        ""
      ],
      "execution_count": 0,
      "outputs": []
    },
    {
      "metadata": {
        "id": "RZGiHx81tkIS",
        "colab_type": "code",
        "colab": {}
      },
      "cell_type": "code",
      "source": [
        ""
      ],
      "execution_count": 0,
      "outputs": []
    },
    {
      "metadata": {
        "id": "K9E5U4wQf9Kl",
        "colab_type": "code",
        "colab": {}
      },
      "cell_type": "code",
      "source": [
        "plot_learning_curves(train_loss_gen_log, train_loss_dis_log)"
      ],
      "execution_count": 0,
      "outputs": []
    },
    {
      "metadata": {
        "id": "cVeOf7uCf9GN",
        "colab_type": "code",
        "colab": {}
      },
      "cell_type": "code",
      "source": [
        "plot_roc_curves(train_roc_log, test_roc_log)"
      ],
      "execution_count": 0,
      "outputs": []
    },
    {
      "metadata": {
        "id": "SlwqfLNCf8_C",
        "colab_type": "code",
        "colab": {}
      },
      "cell_type": "code",
      "source": [
        "pos_x,_ = get_train(paras.label())\n",
        "train_feat, train_svm_lab = postprocess(gen_exp_log, pos_x, length=8000, neg_train_ratio=0.25)\n",
        "print('Train shapes: ', train_feat[0].shape, train_svm_lab[0].shape)"
      ],
      "execution_count": 0,
      "outputs": []
    },
    {
      "metadata": {
        "id": "bCFaLcsPafzZ",
        "colab_type": "text"
      },
      "cell_type": "markdown",
      "source": [
        "### SVMs | anom=8 | training: {8000 pos and 2000 neg} | test: {4000 pos and 1000 neg}### SVMs | training:"
      ]
    },
    {
      "metadata": {
        "id": "XC9M5KdCbJvA",
        "colab_type": "code",
        "colab": {}
      },
      "cell_type": "code",
      "source": [
        "nu_ = 0.05\n",
        "gamma_ = 5e-4\n",
        "iter_= -1\n",
        "# for gamma_ in [1e-4,3e-4,5e-4,7e-4,8e-4,1e-3,5e-3,1e-2]:"
      ],
      "execution_count": 0,
      "outputs": []
    },
    {
      "metadata": {
        "id": "UGq80Lv9bSTD",
        "colab_type": "code",
        "colab": {}
      },
      "cell_type": "code",
      "source": [
        "nu_ = 0.01\n",
        "print('50 epochs')\n",
        "for gamma_ in [1e-4,3e-4,5e-4,7e-4,8e-4,1e-3,5e-3,1e-2]:\n",
        "\n",
        "    begin = time.time()\n",
        "    svm_2c = build_svm(oc=False,_nu=nu_,_gamma=gamma_,maxiter=iter_)\n",
        "    x_2c = train_feat[-1]\n",
        "    y_2c = train_svm_lab[-1]\n",
        "    svm_2c.fit(x_2c,y_2c)\n",
        "    predy = svm_2c.predict(testx)\n",
        "    f1 = metrics.f1_score(testy_svm, predy)\n",
        "    prec, reca, f1, _ = metrics.precision_recall_fscore_support(testy_svm, predy, beta=1.0, pos_label=1, average='binary')\n",
        "    area = metrics.roc_auc_score(testy_svm, predy)  \n",
        "    cf = metrics.confusion_matrix(testy_svm, predy)\n",
        "    print('nu: ', nu_)\n",
        "    print('gamma:', gamma_)\n",
        "    print('iter: ', iter_)\n",
        "    print('F1: ', f1)\n",
        "    print('Precision: ', prec)\n",
        "    print('Recall: ', reca)\n",
        "    print('area under roc: ', area)\n",
        "    print('Confusion matrix:\\n', cf)\n",
        "    print('time: ', time.time()-begin)"
      ],
      "execution_count": 0,
      "outputs": []
    },
    {
      "metadata": {
        "id": "wFW5jZNIaB0r",
        "colab_type": "text"
      },
      "cell_type": "markdown",
      "source": [
        "## SVMs | anom=8 | training: {10000 pos and 10000 neg} | test: {4000 pos and 1000 neg}"
      ]
    },
    {
      "metadata": {
        "id": "-VEpwF9mTWra",
        "colab_type": "code",
        "colab": {}
      },
      "cell_type": "code",
      "source": [
        "to_plot, train_loss_gen_log, train_loss_dis_log, gen_exp_log  = run(paras)"
      ],
      "execution_count": 0,
      "outputs": []
    },
    {
      "metadata": {
        "id": "nmyulWdOTWi4",
        "colab_type": "code",
        "colab": {}
      },
      "cell_type": "code",
      "source": [
        "plot_gen(to_plot)"
      ],
      "execution_count": 0,
      "outputs": []
    },
    {
      "metadata": {
        "id": "smfynm4wTWRD",
        "colab_type": "code",
        "colab": {}
      },
      "cell_type": "code",
      "source": [
        "plot_learning_curves(train_loss_gen_log, train_loss_dis_log)"
      ],
      "execution_count": 0,
      "outputs": []
    },
    {
      "metadata": {
        "id": "tjfJvrOHfPOr",
        "colab_type": "code",
        "colab": {}
      },
      "cell_type": "code",
      "source": [
        "pos_x,_ = get_train(paras.label())\n",
        "train_feat, train_svm_lab = postprocess(gen_exp_log, pos_x)\n",
        "testx, testy_svm = get_test_svm_cnn()\n",
        "print('Train shapes: ', train_feat[0].shape, train_svm_lab[0].shape)\n",
        "print('Test shapes: ',testx.shape,testy_svm.shape)"
      ],
      "execution_count": 0,
      "outputs": []
    },
    {
      "metadata": {
        "id": "1hDBP7ytfWuL",
        "colab_type": "code",
        "colab": {}
      },
      "cell_type": "code",
      "source": [
        "nu_ = 0.05\n",
        "gamma_ = 5e-4\n",
        "iter_= -1\n",
        "# for gamma_ in [1e-4,3e-4,5e-4,7e-4,8e-4,1e-3,5e-3,1e-2]:\n"
      ],
      "execution_count": 0,
      "outputs": []
    },
    {
      "metadata": {
        "id": "iB90ea0RfY2-",
        "colab_type": "code",
        "colab": {}
      },
      "cell_type": "code",
      "source": [
        "nu_ = 0.01\n",
        "print('50 epochs')\n",
        "for gamma_ in [1e-4,3e-4,5e-4,7e-4,8e-4,1e-3,5e-3,1e-2]:\n",
        "\n",
        "    begin = time.time()\n",
        "    svm_2c = build_svm(oc=False,_nu=nu_,_gamma=gamma_,maxiter=iter_)\n",
        "    x_2c = train_feat[-1]\n",
        "    y_2c = train_svm_lab[-1]\n",
        "    svm_2c.fit(x_2c,y_2c)\n",
        "    predy = svm_2c.predict(testx)\n",
        "    f1 = metrics.f1_score(testy_svm, predy)\n",
        "    prec, reca, f1, _ = metrics.precision_recall_fscore_support(testy_svm, predy, beta=1.0, pos_label=1, average='binary')\n",
        "    area = metrics.roc_auc_score(testy_svm, predy)  \n",
        "    cf = metrics.confusion_matrix(testy_svm, predy)\n",
        "    print('nu: ', nu_)\n",
        "    print('gamma:', gamma_)\n",
        "    print('iter: ', iter_)\n",
        "    print('F1: ', f1)\n",
        "    print('Precision: ', prec)\n",
        "    print('Recall: ', reca)\n",
        "    print('area under roc: ', area)\n",
        "    print('Confusion matrix:\\n', cf)\n",
        "    print('time: ', time.time()-begin)"
      ],
      "execution_count": 0,
      "outputs": []
    },
    {
      "metadata": {
        "id": "yUwPmGn-gOV1",
        "colab_type": "code",
        "colab": {}
      },
      "cell_type": "code",
      "source": [
        "nu_=0.01\n",
        "print('40 epochs')\n",
        "for gamma_ in [1e-4,3e-4,5e-4,7e-4,8e-4,1e-3,5e-3,1e-2]:\n",
        "    begin = time.time()\n",
        "    svm_2c = build_svm(oc=False,_nu=nu_,_gamma=gamma_,maxiter=iter_)\n",
        "    x_2c = train_feat[8]\n",
        "    y_2c = train_svm_lab[8]\n",
        "    svm_2c.fit(x_2c,y_2c)\n",
        "    predy = svm_2c.predict(testx)\n",
        "    f1 = metrics.f1_score(testy_svm, predy)\n",
        "    prec, reca, f1, _ = metrics.precision_recall_fscore_support(testy_svm, predy, beta=1.0, pos_label=1, average='binary')\n",
        "    area = metrics.roc_auc_score(testy_svm, predy)  \n",
        "    cf = metrics.confusion_matrix(testy_svm, predy)\n",
        "    print('nu: ', nu_)\n",
        "    print('gamma:', gamma_)\n",
        "    print('iter: ', iter_)\n",
        "    print('F1: ', f1)\n",
        "    print('Precision: ', prec)\n",
        "    print('Recall: ', reca)\n",
        "    print('area under roc: ', area)\n",
        "    print('Confusion matrix:\\n', cf)\n",
        "    print('time: ', time.time()-begin)"
      ],
      "execution_count": 0,
      "outputs": []
    },
    {
      "metadata": {
        "id": "jrVC4KkcgYgl",
        "colab_type": "code",
        "colab": {}
      },
      "cell_type": "code",
      "source": [
        "nu_=0.01\n",
        "print('30 epochs')\n",
        "for gamma_ in [1e-4,3e-4,5e-4,7e-4,8e-4,1e-3,5e-3,1e-2]:\n",
        "    begin = time.time()\n",
        "    svm_2c = build_svm(oc=False,_nu=nu_,_gamma=gamma_,maxiter=iter_)\n",
        "    x_2c = train_feat[6]\n",
        "    y_2c = train_svm_lab[6]\n",
        "    svm_2c.fit(x_2c,y_2c)\n",
        "    predy = svm_2c.predict(testx)\n",
        "    f1 = metrics.f1_score(testy_svm, predy)\n",
        "    prec, reca, f1, _ = metrics.precision_recall_fscore_support(testy_svm, predy, beta=1.0, pos_label=1, average='binary')\n",
        "    area = metrics.roc_auc_score(testy_svm, predy)  \n",
        "    cf = metrics.confusion_matrix(testy_svm, predy)\n",
        "    print('nu: ', nu_)\n",
        "    print('gamma:', gamma_)\n",
        "    print('iter: ', iter_)\n",
        "    print('F1: ', f1)\n",
        "    print('Precision: ', prec)\n",
        "    print('Recall: ', reca)\n",
        "    print('area under roc: ', area)\n",
        "    print('Confusion matrix:\\n', cf)\n",
        "    print('time: ', time.time()-begin)"
      ],
      "execution_count": 0,
      "outputs": []
    },
    {
      "metadata": {
        "id": "FgksQG2qBHyB",
        "colab_type": "code",
        "colab": {}
      },
      "cell_type": "code",
      "source": [
        "nu_ = 0.05\n",
        "gamma_ = 3e-4\n",
        "iter_= -1\n",
        "# for gamma_ in [1e-4,3e-4,5e-4,7e-4,8e-4,1e-3,5e-3,1e-2]:\n"
      ],
      "execution_count": 0,
      "outputs": []
    },
    {
      "metadata": {
        "id": "Fsn6Umw9_QcH",
        "colab_type": "code",
        "colab": {}
      },
      "cell_type": "code",
      "source": [
        "print('40 epochs')\n",
        "for gamma_ in [1e-4,3e-4,5e-4,7e-4,8e-4,1e-3,5e-3,1e-2]:\n",
        "\n",
        "begin = time.time()\n",
        "svm_2c = build_svm(oc=False,_nu=nu_,_gamma=gamma_,maxiter=iter_)\n",
        "x_2c = train_feat[8]\n",
        "y_2c = train_svm_lab[8]\n",
        "svm_2c.fit(x_2c,y_2c)\n",
        "predy = svm_2c.predict(testx)\n",
        "f1 = metrics.f1_score(testy_svm, predy)\n",
        "prec, reca, f1, _ = metrics.precision_recall_fscore_support(testy_svm, predy, beta=1.0, pos_label=1, average='binary')\n",
        "area = metrics.roc_auc_score(testy_svm, predy)  \n",
        "cf = metrics.confusion_matrix(testy_svm, predy)\n",
        "print('nu: ', nu_)\n",
        "print('gamma:', gamma_)\n",
        "print('iter: ', iter_)\n",
        "print('F1: ', f1)\n",
        "print('Precision: ', prec)\n",
        "print('Recall: ', reca)\n",
        "print('area under roc: ', area)\n",
        "print('Confusion matrix:\\n', cf)\n",
        "print('time: ', time.time()-begin)"
      ],
      "execution_count": 0,
      "outputs": []
    },
    {
      "metadata": {
        "id": "jVCwLVZw_RWj",
        "colab_type": "code",
        "colab": {}
      },
      "cell_type": "code",
      "source": [
        "print('30 epochs')\n",
        "begin = time.time()\n",
        "svm_2c = build_svm(oc=False,_nu=nu_,_gamma=gamma_,maxiter=iter_)\n",
        "x_2c = train_feat[6]\n",
        "y_2c = train_svm_lab[6]\n",
        "svm_2c.fit(x_2c,y_2c)\n",
        "predy = svm_2c.predict(testx)\n",
        "f1 = metrics.f1_score(testy_svm, predy)\n",
        "prec, reca, f1, _ = metrics.precision_recall_fscore_support(testy_svm, predy, beta=1.0, pos_label=1, average='binary')\n",
        "area = metrics.roc_auc_score(testy_svm, predy)  \n",
        "cf = metrics.confusion_matrix(testy_svm, predy)\n",
        "print('nu: ', nu_)\n",
        "print('gamma:', gamma_)\n",
        "print('iter: ', iter_)\n",
        "print('F1: ', f1)\n",
        "print('Precision: ', prec)\n",
        "print('Recall: ', reca)\n",
        "print('area under roc: ', area)\n",
        "print('Confusion matrix:\\n', cf)\n",
        "print('time: ', time.time()-begin)"
      ],
      "execution_count": 0,
      "outputs": []
    },
    {
      "metadata": {
        "id": "0YjjmrxZ_Se6",
        "colab_type": "code",
        "colab": {}
      },
      "cell_type": "code",
      "source": [
        "print('20 epochs')\n",
        "begin = time.time()\n",
        "svm_2c = build_svm(oc=False,_nu=nu_,_gamma=gamma_,maxiter=iter_)\n",
        "x_2c = train_feat[4]\n",
        "y_2c = train_svm_lab[4]\n",
        "svm_2c.fit(x_2c,y_2c)\n",
        "predy = svm_2c.predict(testx)\n",
        "f1 = metrics.f1_score(testy_svm, predy)\n",
        "prec, reca, f1, _ = metrics.precision_recall_fscore_support(testy_svm, predy, beta=1.0, pos_label=1, average='binary')\n",
        "area = metrics.roc_auc_score(testy_svm, predy)  \n",
        "cf = metrics.confusion_matrix(testy_svm, predy)\n",
        "print('nu: ', nu_)\n",
        "print('gamma:', gamma_)\n",
        "print('iter: ', iter_)\n",
        "print('F1: ', f1)\n",
        "print('Precision: ', prec)\n",
        "print('Recall: ', reca)\n",
        "print('area under roc: ', area)\n",
        "print('Confusion matrix:\\n', cf)\n",
        "print('time: ', time.time()-begin)"
      ],
      "execution_count": 0,
      "outputs": []
    },
    {
      "metadata": {
        "id": "VouC-6j1_Tgs",
        "colab_type": "code",
        "colab": {}
      },
      "cell_type": "code",
      "source": [
        "print('10 epochs')\n",
        "begin = time.time()\n",
        "svm_2c = build_svm(oc=False,_nu=nu_,_gamma=gamma_,maxiter=iter_)\n",
        "x_2c = train_feat[2]\n",
        "y_2c = train_svm_lab[2]\n",
        "svm_2c.fit(x_2c,y_2c)\n",
        "predy = svm_2c.predict(testx)\n",
        "f1 = metrics.f1_score(testy_svm, predy)\n",
        "prec, reca, f1, _ = metrics.precision_recall_fscore_support(testy_svm, predy, beta=1.0, pos_label=1, average='binary')\n",
        "area = metrics.roc_auc_score(testy_svm, predy)  \n",
        "cf = metrics.confusion_matrix(testy_svm, predy)\n",
        "print('nu: ', nu_)\n",
        "print('gamma:', gamma_)\n",
        "print('iter: ', iter_)\n",
        "print('F1: ', f1)\n",
        "print('Precision: ', prec)\n",
        "print('Recall: ', reca)\n",
        "print('area under roc: ', area)\n",
        "print('Confusion matrix:\\n', cf)\n",
        "print('time: ', time.time()-begin)"
      ],
      "execution_count": 0,
      "outputs": []
    },
    {
      "metadata": {
        "id": "bBY0Yeeb_iVf",
        "colab_type": "code",
        "colab": {}
      },
      "cell_type": "code",
      "source": [
        "print('0 epochs')\n",
        "begin = time.time()\n",
        "svm_2c = build_svm(oc=False,_nu=nu_,_gamma=gamma_,maxiter=iter_)\n",
        "x_2c = train_feat[0]\n",
        "y_2c = train_svm_lab[0]\n",
        "svm_2c.fit(x_2c,y_2c)\n",
        "predy = svm_2c.predict(testx)\n",
        "f1 = metrics.f1_score(testy_svm, predy)\n",
        "prec, reca, f1, _ = metrics.precision_recall_fscore_support(testy_svm, predy, beta=1.0, pos_label=1, average='binary')\n",
        "area = metrics.roc_auc_score(testy_svm, predy)  \n",
        "cf = metrics.confusion_matrix(testy_svm, predy)\n",
        "print('nu: ', nu_)\n",
        "print('gamma:', gamma_)\n",
        "print('iter: ', iter_)\n",
        "print('F1: ', f1)\n",
        "print('Precision: ', prec)\n",
        "print('Recall: ', reca)\n",
        "print('area under roc: ', area)\n",
        "print('Confusion matrix:\\n', cf)\n",
        "print('time: ', time.time()-begin)"
      ],
      "execution_count": 0,
      "outputs": []
    },
    {
      "metadata": {
        "id": "J_1y71-X8h0g",
        "colab_type": "code",
        "colab": {}
      },
      "cell_type": "code",
      "source": [
        "nu_ = 0.01\n",
        "gamma_ = 5e-4\n",
        "iter_= -1\n",
        "# for gamma_ in [1e-4,3e-4,5e-4,7e-4,8e-4,1e-3,5e-3,1e-2]:\n"
      ],
      "execution_count": 0,
      "outputs": []
    },
    {
      "metadata": {
        "id": "OHRJgmhO8iln",
        "colab_type": "code",
        "colab": {}
      },
      "cell_type": "code",
      "source": [
        "print('50 epochs')\n",
        "begin = time.time()\n",
        "svm_2c = build_svm(oc=False,_nu=nu_,_gamma=gamma_,maxiter=iter_)\n",
        "x_2c = train_feat[-1]\n",
        "y_2c = train_svm_lab[-1]\n",
        "svm_2c.fit(x_2c,y_2c)\n",
        "predy = svm_2c.predict(testx)\n",
        "f1 = metrics.f1_score(testy_svm, predy)\n",
        "prec, reca, f1, _ = metrics.precision_recall_fscore_support(testy_svm, predy, beta=1.0, pos_label=1, average='binary')\n",
        "area = metrics.roc_auc_score(testy_svm, predy)  \n",
        "cf = metrics.confusion_matrix(testy_svm, predy)\n",
        "print('nu: ', nu_)\n",
        "print('gamma:', gamma_)\n",
        "print('iter: ', iter_)\n",
        "print('F1: ', f1)\n",
        "print('Precision: ', prec)\n",
        "print('Recall: ', reca)\n",
        "print('area under roc: ', area)\n",
        "print('Confusion matrix:\\n', cf)\n",
        "print('time: ', time.time()-begin)"
      ],
      "execution_count": 0,
      "outputs": []
    },
    {
      "metadata": {
        "id": "3VkSDC8T5edw",
        "colab_type": "code",
        "colab": {}
      },
      "cell_type": "code",
      "source": [
        "print('40 epochs')\n",
        "begin = time.time()\n",
        "svm_2c = build_svm(oc=False,_nu=nu_,_gamma=gamma_,maxiter=iter_)\n",
        "x_2c = train_feat[8]\n",
        "y_2c = train_svm_lab[8]\n",
        "svm_2c.fit(x_2c,y_2c)\n",
        "predy = svm_2c.predict(testx)\n",
        "f1 = metrics.f1_score(testy_svm, predy)\n",
        "prec, reca, f1, _ = metrics.precision_recall_fscore_support(testy_svm, predy, beta=1.0, pos_label=1, average='binary')\n",
        "area = metrics.roc_auc_score(testy_svm, predy)  \n",
        "cf = metrics.confusion_matrix(testy_svm, predy)\n",
        "print('nu: ', nu_)\n",
        "print('gamma:', gamma_)\n",
        "print('iter: ', iter_)\n",
        "print('F1: ', f1)\n",
        "print('Precision: ', prec)\n",
        "print('Recall: ', reca)\n",
        "print('area under roc: ', area)\n",
        "print('Confusion matrix:\\n', cf)\n",
        "print('time: ', time.time()-begin)"
      ],
      "execution_count": 0,
      "outputs": []
    },
    {
      "metadata": {
        "id": "M2JN_G_05ePU",
        "colab_type": "code",
        "colab": {}
      },
      "cell_type": "code",
      "source": [
        "print('30 epochs')\n",
        "begin = time.time()\n",
        "svm_2c = build_svm(oc=False,_nu=nu_,_gamma=gamma_,maxiter=iter_)\n",
        "x_2c = train_feat[6]\n",
        "y_2c = train_svm_lab[6]\n",
        "svm_2c.fit(x_2c,y_2c)\n",
        "predy = svm_2c.predict(testx)\n",
        "f1 = metrics.f1_score(testy_svm, predy)\n",
        "prec, reca, f1, _ = metrics.precision_recall_fscore_support(testy_svm, predy, beta=1.0, pos_label=1, average='binary')\n",
        "area = metrics.roc_auc_score(testy_svm, predy)  \n",
        "cf = metrics.confusion_matrix(testy_svm, predy)\n",
        "print('nu: ', nu_)\n",
        "print('gamma:', gamma_)\n",
        "print('iter: ', iter_)\n",
        "print('F1: ', f1)\n",
        "print('Precision: ', prec)\n",
        "print('Recall: ', reca)\n",
        "print('area under roc: ', area)\n",
        "print('Confusion matrix:\\n', cf)\n",
        "print('time: ', time.time()-begin)"
      ],
      "execution_count": 0,
      "outputs": []
    },
    {
      "metadata": {
        "id": "U_Tq2CFm5eBw",
        "colab_type": "code",
        "colab": {}
      },
      "cell_type": "code",
      "source": [
        "print('20 epochs')\n",
        "begin = time.time()\n",
        "svm_2c = build_svm(oc=False,_nu=nu_,_gamma=gamma_,maxiter=iter_)\n",
        "x_2c = train_feat[4]\n",
        "y_2c = train_svm_lab[4]\n",
        "svm_2c.fit(x_2c,y_2c)\n",
        "predy = svm_2c.predict(testx)\n",
        "f1 = metrics.f1_score(testy_svm, predy)\n",
        "prec, reca, f1, _ = metrics.precision_recall_fscore_support(testy_svm, predy, beta=1.0, pos_label=1, average='binary')\n",
        "area = metrics.roc_auc_score(testy_svm, predy)  \n",
        "cf = metrics.confusion_matrix(testy_svm, predy)\n",
        "print('nu: ', nu_)\n",
        "print('gamma:', gamma_)\n",
        "print('iter: ', iter_)\n",
        "print('F1: ', f1)\n",
        "print('Precision: ', prec)\n",
        "print('Recall: ', reca)\n",
        "print('area under roc: ', area)\n",
        "print('Confusion matrix:\\n', cf)\n",
        "print('time: ', time.time()-begin)"
      ],
      "execution_count": 0,
      "outputs": []
    },
    {
      "metadata": {
        "id": "6zvGM2e55gJS",
        "colab_type": "code",
        "colab": {}
      },
      "cell_type": "code",
      "source": [
        "print('10 epochs')\n",
        "begin = time.time()\n",
        "svm_2c = build_svm(oc=False,_nu=nu_,_gamma=gamma_,maxiter=iter_)\n",
        "x_2c = train_feat[2]\n",
        "y_2c = train_svm_lab[2]\n",
        "svm_2c.fit(x_2c,y_2c)\n",
        "predy = svm_2c.predict(testx)\n",
        "f1 = metrics.f1_score(testy_svm, predy)\n",
        "prec, reca, f1, _ = metrics.precision_recall_fscore_support(testy_svm, predy, beta=1.0, pos_label=1, average='binary')\n",
        "area = metrics.roc_auc_score(testy_svm, predy)  \n",
        "cf = metrics.confusion_matrix(testy_svm, predy)\n",
        "print('nu: ', nu_)\n",
        "print('gamma:', gamma_)\n",
        "print('iter: ', iter_)\n",
        "print('F1: ', f1)\n",
        "print('Precision: ', prec)\n",
        "print('Recall: ', reca)\n",
        "print('area under roc: ', area)\n",
        "print('Confusion matrix:\\n', cf)\n",
        "print('time: ', time.time()-begin)"
      ],
      "execution_count": 0,
      "outputs": []
    },
    {
      "metadata": {
        "id": "s9NXcb1D5rbS",
        "colab_type": "code",
        "colab": {}
      },
      "cell_type": "code",
      "source": [
        "print('0 epochs')\n",
        "begin = time.time()\n",
        "svm_2c = build_svm(oc=False,_nu=nu_,_gamma=gamma_,maxiter=iter_)\n",
        "x_2c = train_feat[0]\n",
        "y_2c = train_svm_lab[0]\n",
        "svm_2c.fit(x_2c,y_2c)\n",
        "predy = svm_2c.predict(testx)\n",
        "f1 = metrics.f1_score(testy_svm, predy)\n",
        "prec, reca, f1, _ = metrics.precision_recall_fscore_support(testy_svm, predy, beta=1.0, pos_label=1, average='binary')\n",
        "area = metrics.roc_auc_score(testy_svm, predy)  \n",
        "cf = metrics.confusion_matrix(testy_svm, predy)\n",
        "print('nu: ', nu_)\n",
        "print('gamma:', gamma_)\n",
        "print('iter: ', iter_)\n",
        "print('F1: ', f1)\n",
        "print('Precision: ', prec)\n",
        "print('Recall: ', reca)\n",
        "print('area under roc: ', area)\n",
        "print('Confusion matrix:\\n', cf)\n",
        "print('time: ', time.time()-begin)"
      ],
      "execution_count": 0,
      "outputs": []
    },
    {
      "metadata": {
        "id": "kFpj0hnD5rX4",
        "colab_type": "code",
        "colab": {}
      },
      "cell_type": "code",
      "source": [
        ""
      ],
      "execution_count": 0,
      "outputs": []
    },
    {
      "metadata": {
        "id": "Bu-7VXq05rTi",
        "colab_type": "code",
        "colab": {}
      },
      "cell_type": "code",
      "source": [
        ""
      ],
      "execution_count": 0,
      "outputs": []
    },
    {
      "metadata": {
        "id": "HaP0DYs65rQR",
        "colab_type": "code",
        "colab": {}
      },
      "cell_type": "code",
      "source": [
        ""
      ],
      "execution_count": 0,
      "outputs": []
    },
    {
      "metadata": {
        "id": "JGR2mRm8ga5v",
        "colab_type": "code",
        "colab": {}
      },
      "cell_type": "code",
      "source": [
        "nu_=0.1\n",
        "print('50 epochs')\n",
        "for gamma_ in [1e-5,1e-4,1e-3,1e-2,0.1,1,10,100]:\n",
        "    begin = time.time()\n",
        "    svm_2c = build_svm(oc=False,_nu=nu_,_gamma=gamma_,maxiter=iter_)\n",
        "    x_2c = train_feat[-1]\n",
        "    y_2c = train_svm_lab[-1]\n",
        "    svm_2c.fit(x_2c,y_2c)\n",
        "    predy = svm_2c.predict(testx)\n",
        "    f1 = metrics.f1_score(testy_svm, predy)\n",
        "    prec, reca, f1, _ = metrics.precision_recall_fscore_support(testy_svm, predy, beta=1.0, pos_label=1, average='binary')\n",
        "    area = metrics.roc_auc_score(testy_svm, predy)  \n",
        "    cf = metrics.confusion_matrix(testy_svm, predy)\n",
        "    print('nu: ', nu_)\n",
        "    print('gamma:', gamma_)\n",
        "    print('iter: ', iter_)\n",
        "    print('F1: ', f1)\n",
        "    print('Precision: ', prec)\n",
        "    print('Recall: ', reca)\n",
        "    print('area under roc: ', area)\n",
        "    print('Confusion matrix:\\n', cf)\n",
        "    print('time: ', time.time()-begin)"
      ],
      "execution_count": 0,
      "outputs": []
    },
    {
      "metadata": {
        "id": "DlrEW4yQieAO",
        "colab_type": "code",
        "colab": {}
      },
      "cell_type": "code",
      "source": [
        "nu_=0.05\n",
        "print('50 epochs')\n",
        "for gamma_ in [1e-4,3e-4,5e-4,7e-4,8e-4,1e-3,5e-3,1e-2]:\n",
        "    begin = time.time()\n",
        "    svm_2c = build_svm(oc=False,_nu=nu_,_gamma=gamma_,maxiter=iter_)\n",
        "    x_2c = train_feat[-1]\n",
        "    y_2c = train_svm_lab[-1]\n",
        "    svm_2c.fit(x_2c,y_2c)\n",
        "    predy = svm_2c.predict(testx)\n",
        "    f1 = metrics.f1_score(testy_svm, predy)\n",
        "    prec, reca, f1, _ = metrics.precision_recall_fscore_support(testy_svm, predy, beta=1.0, pos_label=1, average='binary')\n",
        "    area = metrics.roc_auc_score(testy_svm, predy)  \n",
        "    cf = metrics.confusion_matrix(testy_svm, predy)\n",
        "    print('nu: ', nu_)\n",
        "    print('gamma:', gamma_)\n",
        "    print('iter: ', iter_)\n",
        "    print('F1: ', f1)\n",
        "    print('Precision: ', prec)\n",
        "    print('Recall: ', reca)\n",
        "    print('area under roc: ', area)\n",
        "    print('Confusion matrix:\\n', cf)\n",
        "    print('time: ', time.time()-begin)"
      ],
      "execution_count": 0,
      "outputs": []
    },
    {
      "metadata": {
        "id": "S_Og2vLQpV-T",
        "colab_type": "code",
        "colab": {}
      },
      "cell_type": "code",
      "source": [
        "nu_=0.03\n",
        "print('50 epochs')\n",
        "for gamma_ in [1e-5,1e-4,1e-3,1e-2,0.1,1,10,100]:\n",
        "    begin = time.time()\n",
        "    svm_2c = build_svm(oc=False,_nu=nu_,_gamma=gamma_,maxiter=iter_)\n",
        "    x_2c = train_feat[-1]\n",
        "    y_2c = train_svm_lab[-1]\n",
        "    svm_2c.fit(x_2c,y_2c)\n",
        "    predy = svm_2c.predict(testx)\n",
        "    f1 = metrics.f1_score(testy_svm, predy)\n",
        "    prec, reca, f1, _ = metrics.precision_recall_fscore_support(testy_svm, predy, beta=1.0, pos_label=1, average='binary')\n",
        "    area = metrics.roc_auc_score(testy_svm, predy)  \n",
        "    cf = metrics.confusion_matrix(testy_svm, predy)\n",
        "    print('nu: ', nu_)\n",
        "    print('gamma:', gamma_)\n",
        "    print('iter: ', iter_)\n",
        "    print('F1: ', f1)\n",
        "    print('Precision: ', prec)\n",
        "    print('Recall: ', reca)\n",
        "    print('area under roc: ', area)\n",
        "    print('Confusion matrix:\\n', cf)\n",
        "    print('time: ', time.time()-begin)"
      ],
      "execution_count": 0,
      "outputs": []
    },
    {
      "metadata": {
        "id": "1GIaVAvAra6V",
        "colab_type": "code",
        "colab": {}
      },
      "cell_type": "code",
      "source": [
        "nu_=0.07\n",
        "print('50 epochs')\n",
        "for gamma_ in [1e-5,1e-4,5e-4,1e-3,5e-3,1e-2,0.1]:\n",
        "    begin = time.time()\n",
        "    svm_2c = build_svm(oc=False,_nu=nu_,_gamma=gamma_,maxiter=iter_)\n",
        "    x_2c = train_feat[-1]\n",
        "    y_2c = train_svm_lab[-1]\n",
        "    svm_2c.fit(x_2c,y_2c)\n",
        "    predy = svm_2c.predict(testx)\n",
        "    f1 = metrics.f1_score(testy_svm, predy)\n",
        "    prec, reca, f1, _ = metrics.precision_recall_fscore_support(testy_svm, predy, beta=1.0, pos_label=1, average='binary')\n",
        "    area = metrics.roc_auc_score(testy_svm, predy)  \n",
        "    cf = metrics.confusion_matrix(testy_svm, predy)\n",
        "    print('nu: ', nu_)\n",
        "    print('gamma:', gamma_)\n",
        "    print('iter: ', iter_)\n",
        "    print('F1: ', f1)\n",
        "    print('Precision: ', prec)\n",
        "    print('Recall: ', reca)\n",
        "    print('area under roc: ', area)\n",
        "    print('Confusion matrix:\\n', cf)\n",
        "    print('time: ', time.time()-begin)"
      ],
      "execution_count": 0,
      "outputs": []
    },
    {
      "metadata": {
        "id": "OUTAXU0RtL-A",
        "colab_type": "code",
        "colab": {}
      },
      "cell_type": "code",
      "source": [
        "nu_=0.5\n",
        "print('50 epochs')\n",
        "for gamma_ in [1e-5,1e-4,5e-4,1e-3,5e-3,1e-2,0.1]:\n",
        "    begin = time.time()\n",
        "    svm_2c = build_svm(oc=False,_nu=nu_,_gamma=gamma_,maxiter=iter_)\n",
        "    x_2c = train_feat[-1]\n",
        "    y_2c = train_svm_lab[-1]\n",
        "    svm_2c.fit(x_2c,y_2c)\n",
        "    predy = svm_2c.predict(testx)\n",
        "    f1 = metrics.f1_score(testy_svm, predy)\n",
        "    prec, reca, f1, _ = metrics.precision_recall_fscore_support(testy_svm, predy, beta=1.0, pos_label=1, average='binary')\n",
        "    area = metrics.roc_auc_score(testy_svm, predy)  \n",
        "    cf = metrics.confusion_matrix(testy_svm, predy)\n",
        "    print('nu: ', nu_)\n",
        "    print('gamma:', gamma_)\n",
        "    print('iter: ', iter_)\n",
        "    print('F1: ', f1)\n",
        "    print('Precision: ', prec)\n",
        "    print('Recall: ', reca)\n",
        "    print('area under roc: ', area)\n",
        "    print('Confusion matrix:\\n', cf)\n",
        "    print('time: ', time.time()-begin)"
      ],
      "execution_count": 0,
      "outputs": []
    },
    {
      "metadata": {
        "id": "n3Ha5KXP04QU",
        "colab_type": "code",
        "colab": {}
      },
      "cell_type": "code",
      "source": [
        ""
      ],
      "execution_count": 0,
      "outputs": []
    },
    {
      "metadata": {
        "id": "uZ0Vf-uRC6SU",
        "colab_type": "text"
      },
      "cell_type": "markdown",
      "source": [
        "## Ano = 8,  centred = False"
      ]
    },
    {
      "metadata": {
        "id": "1VGOoOyhC5NZ",
        "colab_type": "code",
        "colab": {}
      },
      "cell_type": "code",
      "source": [
        "to_plot, train_loss_gen_log, train_loss_dis_log, gen_exp_log  = run(paras)"
      ],
      "execution_count": 0,
      "outputs": []
    },
    {
      "metadata": {
        "id": "jsHIZJQODBL2",
        "colab_type": "code",
        "colab": {}
      },
      "cell_type": "code",
      "source": [
        "plot_gen(to_plot)"
      ],
      "execution_count": 0,
      "outputs": []
    },
    {
      "metadata": {
        "id": "i41bbo1NDDvA",
        "colab_type": "code",
        "colab": {}
      },
      "cell_type": "code",
      "source": [
        "plot_learning_curves(train_loss_gen_log, train_loss_dis_log)"
      ],
      "execution_count": 0,
      "outputs": []
    },
    {
      "metadata": {
        "id": "D91LuLmzTcOX",
        "colab_type": "code",
        "colab": {}
      },
      "cell_type": "code",
      "source": [
        "pos_x,_ = get_train(paras.label())\n",
        "train_feat, train_svm_lab = postprocess(gen_exp_log, pos_x)\n",
        "testx, testy_svm = get_test_svm_cnn()\n",
        "print('Train shapes: ', train_feat[0].shape, train_svm_lab[0].shape)\n",
        "print('Test shapes: ',testx.shape,testy_svm.shape)"
      ],
      "execution_count": 0,
      "outputs": []
    },
    {
      "metadata": {
        "id": "IjF_x4tuTcHu",
        "colab_type": "code",
        "colab": {}
      },
      "cell_type": "code",
      "source": [
        "nu_ = 0.01\n",
        "gamma_ = 1e-5\n",
        "iter_=10"
      ],
      "execution_count": 0,
      "outputs": []
    },
    {
      "metadata": {
        "id": "m-BN6VIwTySj",
        "colab_type": "code",
        "colab": {}
      },
      "cell_type": "code",
      "source": [
        "print('50 epochs')\n",
        "begin = time.time()\n",
        "svm_2c = build_svm(oc=False,_nu=nu_,_gamma=gamma_,maxiter=iter_)\n",
        "x_2c = train_feat[-1]\n",
        "y_2c = train_svm_lab[-1]\n",
        "svm_2c.fit(x_2c,y_2c)\n",
        "predy = svm_2c.predict(testx)\n",
        "f1 = metrics.f1_score(testy_svm, predy)\n",
        "prec, reca, f1, _ = metrics.precision_recall_fscore_support(testy_svm, predy, beta=1.0, pos_label=1, average='binary')\n",
        "area = metrics.roc_auc_score(testy_svm, predy)  \n",
        "cf = metrics.confusion_matrix(testy_svm, predy)\n",
        "print('nu: ', nu_)\n",
        "print('gamma:', gamma_)\n",
        "print('iter: ', iter_)\n",
        "print('F1: ', f1)\n",
        "print('Precision: ', prec)\n",
        "print('Recall: ', reca)\n",
        "print('area under roc: ', area)\n",
        "print('Confusion matrix:\\n', cf)\n",
        "print('time: ', time.time()-begin)"
      ],
      "execution_count": 0,
      "outputs": []
    },
    {
      "metadata": {
        "id": "sAKm6iKXT-PD",
        "colab_type": "code",
        "colab": {}
      },
      "cell_type": "code",
      "source": [
        "print('50 epochs')\n",
        "begin = time.time()\n",
        "svm_2c = build_svm(oc=False,_nu=nu_,_gamma=gamma_,maxiter=iter_)\n",
        "x_2c = train_feat[-1]\n",
        "y_2c = train_svm_lab[-1]\n",
        "svm_2c.fit(x_2c,y_2c)\n",
        "predy = svm_2c.predict(testx)\n",
        "f1 = metrics.f1_score(testy_svm, predy)\n",
        "prec, reca, f1, _ = metrics.precision_recall_fscore_support(testy_svm, predy, beta=1.0, pos_label=1, average='binary')\n",
        "area = metrics.roc_auc_score(testy_svm, predy)  \n",
        "cf = metrics.confusion_matrix(testy_svm, predy)\n",
        "print('nu: ', nu_)\n",
        "print('gamma:', gamma_)\n",
        "print('iter: ', iter_)\n",
        "print('F1: ', f1)\n",
        "print('Precision: ', prec)\n",
        "print('Recall: ', reca)\n",
        "print('area under roc: ', area)\n",
        "print('Confusion matrix:\\n', cf)\n",
        "print('time: ', time.time()-begin)"
      ],
      "execution_count": 0,
      "outputs": []
    },
    {
      "metadata": {
        "id": "rKpfqVzbXgkb",
        "colab_type": "code",
        "colab": {}
      },
      "cell_type": "code",
      "source": [
        "print('50 epochs')\n",
        "begin = time.time()\n",
        "svm_2c = build_svm(oc=False,_nu=nu_,_gamma=gamma_,maxiter=iter_)\n",
        "x_2c = train_feat[-1]\n",
        "y_2c = train_svm_lab[-1]\n",
        "svm_2c.fit(x_2c,y_2c)\n",
        "predy = svm_2c.predict(testx)\n",
        "f1 = metrics.f1_score(testy_svm, predy)\n",
        "prec, reca, f1, _ = metrics.precision_recall_fscore_support(testy_svm, predy, beta=1.0, pos_label=1, average='binary')\n",
        "area = metrics.roc_auc_score(testy_svm, predy)  \n",
        "cf = metrics.confusion_matrix(testy_svm, predy)\n",
        "print('nu: ', nu_)\n",
        "print('gamma:', gamma_)\n",
        "print('iter: ', iter_)\n",
        "print('F1: ', f1)\n",
        "print('Precision: ', prec)\n",
        "print('Recall: ', reca)\n",
        "print('area under roc: ', area)\n",
        "print('Confusion matrix:\\n', cf)\n",
        "print('time: ', time.time()-begin)"
      ],
      "execution_count": 0,
      "outputs": []
    },
    {
      "metadata": {
        "id": "SUDu82OYEOk3",
        "colab_type": "text"
      },
      "cell_type": "markdown",
      "source": [
        "## Ano = 8,  centred = True"
      ]
    },
    {
      "metadata": {
        "id": "v8E63IwLECek",
        "colab_type": "code",
        "colab": {}
      },
      "cell_type": "code",
      "source": [
        "to_plot, train_loss_gen_log, train_loss_dis_log, gen_exp_log  = run(paras)"
      ],
      "execution_count": 0,
      "outputs": []
    },
    {
      "metadata": {
        "id": "U21FzL6DEJdo",
        "colab_type": "code",
        "colab": {}
      },
      "cell_type": "code",
      "source": [
        "plot_gen(to_plot)"
      ],
      "execution_count": 0,
      "outputs": []
    },
    {
      "metadata": {
        "id": "A_CvaO6-ELdJ",
        "colab_type": "code",
        "colab": {}
      },
      "cell_type": "code",
      "source": [
        "plot_learning_curves(train_loss_gen_log, train_loss_dis_log)"
      ],
      "execution_count": 0,
      "outputs": []
    },
    {
      "metadata": {
        "id": "41IpY3v9E64d",
        "colab_type": "code",
        "colab": {}
      },
      "cell_type": "code",
      "source": [
        "pos_x,_ = get_train(paras.label())\n",
        "train_feat, train_svm_lab = postprocess(gen_exp_log, pos_x)\n",
        "testx, testy_svm = get_test_svm_cnn()\n",
        "print('Train shapes: ', train_feat[0].shape, train_svm_lab[0].shape)\n",
        "print('Test shapes: ',testx.shape,testy_svm.shape)"
      ],
      "execution_count": 0,
      "outputs": []
    },
    {
      "metadata": {
        "id": "SCl-V8JrcfWx",
        "colab_type": "code",
        "colab": {}
      },
      "cell_type": "code",
      "source": [
        "from sklearn.preprocessing import MinMaxScaler"
      ],
      "execution_count": 0,
      "outputs": []
    },
    {
      "metadata": {
        "id": "uogDsxhrcz0b",
        "colab_type": "code",
        "colab": {}
      },
      "cell_type": "code",
      "source": [
        "scl = MinMaxScaler()\n",
        "new_train = scl.fit_transform(train_feat[-1])\n",
        "new_test = scl.fit_transform(testx)"
      ],
      "execution_count": 0,
      "outputs": []
    },
    {
      "metadata": {
        "id": "1Hy3KGyddGQX",
        "colab_type": "code",
        "colab": {}
      },
      "cell_type": "code",
      "source": [
        "plot_25(new_test)"
      ],
      "execution_count": 0,
      "outputs": []
    },
    {
      "metadata": {
        "id": "sSdEb3Zx4tDF",
        "colab_type": "code",
        "colab": {}
      },
      "cell_type": "code",
      "source": [
        "nu_ = 0.01\n",
        "gamma_ = 1e-6\n",
        "iter_=10"
      ],
      "execution_count": 0,
      "outputs": []
    },
    {
      "metadata": {
        "id": "I9rNAicddTQx",
        "colab_type": "code",
        "colab": {}
      },
      "cell_type": "code",
      "source": [
        "print('50 epochs')\n",
        "begin = time.time()\n",
        "svm_2c = build_svm(oc=False,_nu=nu_,_gamma=gamma_,maxiter=iter_)\n",
        "x_2c = train_feat[-1]\n",
        "y_2c = train_svm_lab[-1]\n",
        "svm_2c.fit(x_2c,y_2c)\n",
        "predy = svm_2c.predict(testx)\n",
        "f1 = metrics.f1_score(testy_svm, predy)\n",
        "prec, reca, f1, _ = metrics.precision_recall_fscore_support(testy_svm, predy, beta=1.0, pos_label=1, average='binary')\n",
        "area = metrics.roc_auc_score(testy_svm, predy)  \n",
        "cf = metrics.confusion_matrix(testy_svm, predy)\n",
        "print('nu: ', nu_)\n",
        "print('iter: ', iter_)\n",
        "print('F1: ', f1)\n",
        "print('Precision: ', prec)\n",
        "print('Recall: ', reca)\n",
        "print('area under roc: ', area)\n",
        "print('Confusion matrix:'\\n, cf)\n",
        "print('time: ', time.time()-begin)"
      ],
      "execution_count": 0,
      "outputs": []
    },
    {
      "metadata": {
        "id": "3JAA0wZZFN7S",
        "colab_type": "code",
        "colab": {}
      },
      "cell_type": "code",
      "source": [
        "nu_= 0.01\n",
        "iter_=-1\n",
        "gamma_=0.05"
      ],
      "execution_count": 0,
      "outputs": []
    },
    {
      "metadata": {
        "id": "Cr1IhAMlFZXb",
        "colab_type": "code",
        "colab": {}
      },
      "cell_type": "code",
      "source": [
        "print('0 epochs')\n",
        "begin = time.time()\n",
        "svm_2c = build_svm(oc=False,_nu=nu_,_gamma=gamma_,maxiter=iter_)\n",
        "x_2c = train_feat[0]\n",
        "y_2c = train_svm_lab[0]\n",
        "svm_2c.fit(x_2c,y_2c)\n",
        "predy = svm_2c.predict(testx)\n",
        "f1 = metrics.f1_score(testy_svm, predy)\n",
        "prec, reca, f1, _ = metrics.precision_recall_fscore_support(testy_svm, predy, beta=1.0, pos_label=1, average='binary')\n",
        "area = metrics.roc_auc_score(testy_svm, predy)  \n",
        "print('nu: ', nu_)\n",
        "print('iter: ', iter_)\n",
        "print('F1: ', f1)\n",
        "print('Precision: ', prec)\n",
        "print('Recall: ', reca)\n",
        "print('area under roc: ', area)\n",
        "print('time: ', time.time()-begin)"
      ],
      "execution_count": 0,
      "outputs": []
    },
    {
      "metadata": {
        "id": "KFIuMZemcE12",
        "colab_type": "code",
        "colab": {}
      },
      "cell_type": "code",
      "source": [
        "print('50 epochs')\n",
        "begin = time.time()\n",
        "svm_2c = build_svm(oc=False,_nu=nu_,_gamma=gamma_,maxiter=100)\n",
        "x_2c = train_feat[-1]\n",
        "y_2c = train_svm_lab[-1]\n",
        "svm_2c.fit(x_2c,y_2c)\n",
        "predy = svm_2c.predict(testx)\n",
        "f1 = metrics.f1_score(testy_svm, predy)\n",
        "prec, reca, f1, _ = metrics.precision_recall_fscore_support(testy_svm, predy, beta=1.0, pos_label=1, average='binary')\n",
        "area = metrics.roc_auc_score(testy_svm, predy)  \n",
        "print('nu: ', nu_)\n",
        "print('iter: ', iter_)\n",
        "print('F1: ', f1)\n",
        "print('Precision: ', prec)\n",
        "print('Recall: ', reca)\n",
        "print('area under roc: ', area)\n",
        "print('time: ', time.time()-begin)"
      ],
      "execution_count": 0,
      "outputs": []
    },
    {
      "metadata": {
        "id": "YZLM_E6PGwgG",
        "colab_type": "code",
        "colab": {}
      },
      "cell_type": "code",
      "source": [
        ""
      ],
      "execution_count": 0,
      "outputs": []
    }
  ]
}